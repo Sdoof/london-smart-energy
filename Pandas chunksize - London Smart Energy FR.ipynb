{
 "cells": [
  {
   "cell_type": "markdown",
   "id": "2b2adcbb",
   "metadata": {},
   "source": [
    "## Introduction"
   ]
  },
  {
   "cell_type": "markdown",
   "id": "19b9f77d",
   "metadata": {},
   "source": [
    "Puisque le \"Big data\" est un élément principal du monde de data science, j'ai décidé de regarder les moyens différents pour traiter les jeux de données qui sont trop grands pour être chargés en la mémoire de mon laptop.\n",
    "\n",
    "Ce noteboook est le ***premier*** d'une série où je regarde des grands jeux de données, et cette fois-ci j'utiliserai le paramètre `chunksize` de la méthode `read_csv` de pandas pour traiter un fichier de grande taille. On peut trouver chaque notebook dans la série dans mon [répertoire Github](https://github.com/jlad26/london-smart-energy), y compris:\n",
    "1. Pandas chunksize\n",
    "1. Bibliothèque Dask"
   ]
  },
  {
   "cell_type": "markdown",
   "id": "97b72141",
   "metadata": {},
   "source": [
    "## Description du jeu de données"
   ]
  },
  {
   "cell_type": "markdown",
   "id": "9cecf814",
   "metadata": {},
   "source": [
    "On se servira du jeu de données des [Données de consommation d'énergie des résidences muni de SmartMeter à Londres](https://data.london.gov.uk/dataset/smartmeter-energy-use-data-in-london-households), qui contient, selon le site web:\n",
    ">Des relevés de consommation d'énergie pour un échantillon de 5 567 résidences à Londres qui ont participé au projet de Low Carbon London (géré par UK Power Networks) entre novembre 2011 et février 2014.\n",
    "\n",
    "Les résidences étaient divisées en deux groupes:\n",
    "- Celles qui ont reçu des tarifs d'énergie Dynamic Time of Use (dTou) (décrit \"Haut\", \"Moyen\", ou \"Bas\") la veille du jour où le prix allait être appliqué.\n",
    "- Celles qui étaient soumises au tarif Standard.\n",
    "\n",
    "Un but du projet était d'évaluer si la connaisance du prix de l'énergie changerait le comportement par rapport à la consommation d'énergie."
   ]
  },
  {
   "cell_type": "markdown",
   "id": "fc94d8ba",
   "metadata": {},
   "source": [
    "## Résultats"
   ]
  },
  {
   "cell_type": "markdown",
   "id": "87908395",
   "metadata": {},
   "source": [
    "<img src=\"images/result1.png\" width=\"100%\"/>"
   ]
  },
  {
   "cell_type": "markdown",
   "id": "9df6f284",
   "metadata": {},
   "source": [
    "Les résultats montrent la variation saisonnière attendue et une différence nette entre les deux groupes, qui suggère qu'une connaissance du prix d'énergie aide à réduire la consommation de l'énergie.\n",
    "\n",
    "Le reste du notebook montre comment le diagramme était produit des données brutes."
   ]
  },
  {
   "cell_type": "markdown",
   "id": "e42ae0d5",
   "metadata": {},
   "source": [
    "## Accéder les données"
   ]
  },
  {
   "cell_type": "markdown",
   "id": "66d30744",
   "metadata": {},
   "source": [
    "On peut télécharger les données sous forme de fichier zip qui contient un fichier csv de 167 million lignes. Si la commande `curl` ne fonctionne pas (il faudra un certains temps puisque c'est un fichier de 800MB), vous pouvez télécharger le fichier [ici](https://data.london.gov.uk/download/smartmeter-energy-use-data-in-london-households/3527bf39-d93e-4071-8451-df2ade1ea4f2/LCL-FullData.zip) et le mettre dans le dossier `data` qui se trouve dans le dossier où ce notebook est sauvegardé."
   ]
  },
  {
   "cell_type": "code",
   "execution_count": null,
   "id": "fa577518",
   "metadata": {
    "scrolled": true
   },
   "outputs": [],
   "source": [
    "!curl \"https://data.london.gov.uk/download/smartmeter-energy-use-data-in-london-households/3527bf39-d93e-4071-8451-df2ade1ea4f2/LCL-FullData.zip\" --location --create-dirs -o \"data/LCL-FullData.zip\""
   ]
  },
  {
   "cell_type": "markdown",
   "id": "9770dea9",
   "metadata": {},
   "source": [
    "Ensuite on décompresse les données. Il faudra peut-être un certain temps! Vous pouvez également le décompresser manuellement en utilisant un autre logiciel de décompression. Assurez-vous simplement que vous mettez le fichier décompressé dans un dossier qui s'appelle `data` dans le dossier où votre notebook est sauvegardé."
   ]
  },
  {
   "cell_type": "code",
   "execution_count": 1,
   "id": "846b0833",
   "metadata": {},
   "outputs": [
    {
     "name": "stdout",
     "output_type": "stream",
     "text": [
      "Archive:  data/LCL-FullData.zip\n",
      "  inflating: data/CC_LCL-FullData.csv  \n"
     ]
    }
   ],
   "source": [
    "!unzip \"data/LCL-FullData.zip\" -d \"data\""
   ]
  },
  {
   "cell_type": "markdown",
   "id": "d4989801",
   "metadata": {},
   "source": [
    "## Examiner les données"
   ]
  },
  {
   "cell_type": "code",
   "execution_count": 2,
   "id": "913eadac",
   "metadata": {},
   "outputs": [],
   "source": [
    "import pandas as pd"
   ]
  },
  {
   "cell_type": "markdown",
   "id": "bafa710b",
   "metadata": {},
   "source": [
    "La méthode conventionnelle pour charger le fichier csv serait `data = pd.read_csv('data/CC_LCL-FullData.csv')`, mais vu la taille du fichier de 8GB ce n'est pas faisable pour mon ordinateur. Donc à la place on va utiliser le paramètre `chunksize` qui charge les données par tranche (\"chunk\"). Chaque tranche contient le nombre précisé de lignes (sauf la dernière tranche). Les tranches sont identifiées comme des dataframes distincts qui sont référencés dans un objet `TextFileReader`.\n",
    "\n",
    "On va charger notre fichier par tranche de 1 million de lignes."
   ]
  },
  {
   "cell_type": "code",
   "execution_count": 3,
   "id": "af6e3149",
   "metadata": {},
   "outputs": [
    {
     "data": {
      "text/plain": [
       "pandas.io.parsers.readers.TextFileReader"
      ]
     },
     "execution_count": 3,
     "metadata": {},
     "output_type": "execute_result"
    }
   ],
   "source": [
    "chunks = pd.read_csv('data/CC_LCL-FullData.csv', chunksize=1000000)\n",
    "type(chunks)"
   ]
  },
  {
   "cell_type": "markdown",
   "id": "61b7a57e",
   "metadata": {},
   "source": [
    "Veuillez noter que les données n'ont pas été chargées encore. Utiliser l'objet `TextFileReader` veut dire que les données sont traitées de manière \"paresseuse\" i.e. uniquement lorsqu'il est nécessaire. On peut itérer sur les tranches et les traiter une par une.\n",
    "\n",
    "Examinons la première tranche, en utilisant les méthodes habituelles de `describe()`, `head()` et `info()`."
   ]
  },
  {
   "cell_type": "code",
   "execution_count": 4,
   "id": "bfba9015",
   "metadata": {
    "scrolled": false
   },
   "outputs": [
    {
     "data": {
      "text/html": [
       "<style type=\"text/css\">\n",
       "#T_d4a58 caption {\n",
       "  font-size: 16px;\n",
       "  color: black;\n",
       "  font-weight: bold;\n",
       "  text-align: left;\n",
       "}\n",
       "</style>\n",
       "<table id=\"T_d4a58\">\n",
       "  <caption>Describe</caption>\n",
       "  <thead>\n",
       "    <tr>\n",
       "      <th class=\"blank level0\" >&nbsp;</th>\n",
       "      <th id=\"T_d4a58_level0_col0\" class=\"col_heading level0 col0\" >LCLid</th>\n",
       "      <th id=\"T_d4a58_level0_col1\" class=\"col_heading level0 col1\" >stdorToU</th>\n",
       "      <th id=\"T_d4a58_level0_col2\" class=\"col_heading level0 col2\" >DateTime</th>\n",
       "      <th id=\"T_d4a58_level0_col3\" class=\"col_heading level0 col3\" >KWH/hh (per half hour) </th>\n",
       "    </tr>\n",
       "  </thead>\n",
       "  <tbody>\n",
       "    <tr>\n",
       "      <th id=\"T_d4a58_level0_row0\" class=\"row_heading level0 row0\" >count</th>\n",
       "      <td id=\"T_d4a58_row0_col0\" class=\"data row0 col0\" >1000000</td>\n",
       "      <td id=\"T_d4a58_row0_col1\" class=\"data row0 col1\" >1000000</td>\n",
       "      <td id=\"T_d4a58_row0_col2\" class=\"data row0 col2\" >1000000</td>\n",
       "      <td id=\"T_d4a58_row0_col3\" class=\"data row0 col3\" >1000000</td>\n",
       "    </tr>\n",
       "    <tr>\n",
       "      <th id=\"T_d4a58_level0_row1\" class=\"row_heading level0 row1\" >unique</th>\n",
       "      <td id=\"T_d4a58_row1_col0\" class=\"data row1 col0\" >30</td>\n",
       "      <td id=\"T_d4a58_row1_col1\" class=\"data row1 col1\" >1</td>\n",
       "      <td id=\"T_d4a58_row1_col2\" class=\"data row1 col2\" >39102</td>\n",
       "      <td id=\"T_d4a58_row1_col3\" class=\"data row1 col3\" >4801</td>\n",
       "    </tr>\n",
       "    <tr>\n",
       "      <th id=\"T_d4a58_level0_row2\" class=\"row_heading level0 row2\" >top</th>\n",
       "      <td id=\"T_d4a58_row2_col0\" class=\"data row2 col0\" >MAC000018</td>\n",
       "      <td id=\"T_d4a58_row2_col1\" class=\"data row2 col1\" >Std</td>\n",
       "      <td id=\"T_d4a58_row2_col2\" class=\"data row2 col2\" >2012-11-20 00:00:00.0000000</td>\n",
       "      <td id=\"T_d4a58_row2_col3\" class=\"data row2 col3\" > 0 </td>\n",
       "    </tr>\n",
       "    <tr>\n",
       "      <th id=\"T_d4a58_level0_row3\" class=\"row_heading level0 row3\" >freq</th>\n",
       "      <td id=\"T_d4a58_row3_col0\" class=\"data row3 col0\" >39082</td>\n",
       "      <td id=\"T_d4a58_row3_col1\" class=\"data row3 col1\" >1000000</td>\n",
       "      <td id=\"T_d4a58_row3_col2\" class=\"data row3 col2\" >58</td>\n",
       "      <td id=\"T_d4a58_row3_col3\" class=\"data row3 col3\" >45538</td>\n",
       "    </tr>\n",
       "  </tbody>\n",
       "</table>\n"
      ],
      "text/plain": [
       "<pandas.io.formats.style.Styler at 0x245a02f3040>"
      ]
     },
     "metadata": {},
     "output_type": "display_data"
    },
    {
     "data": {
      "text/html": [
       "<style type=\"text/css\">\n",
       "#T_c06a8 caption {\n",
       "  font-size: 16px;\n",
       "  color: black;\n",
       "  font-weight: bold;\n",
       "  text-align: left;\n",
       "}\n",
       "</style>\n",
       "<table id=\"T_c06a8\">\n",
       "  <caption>Head</caption>\n",
       "  <thead>\n",
       "    <tr>\n",
       "      <th class=\"blank level0\" >&nbsp;</th>\n",
       "      <th id=\"T_c06a8_level0_col0\" class=\"col_heading level0 col0\" >LCLid</th>\n",
       "      <th id=\"T_c06a8_level0_col1\" class=\"col_heading level0 col1\" >stdorToU</th>\n",
       "      <th id=\"T_c06a8_level0_col2\" class=\"col_heading level0 col2\" >DateTime</th>\n",
       "      <th id=\"T_c06a8_level0_col3\" class=\"col_heading level0 col3\" >KWH/hh (per half hour) </th>\n",
       "    </tr>\n",
       "  </thead>\n",
       "  <tbody>\n",
       "    <tr>\n",
       "      <th id=\"T_c06a8_level0_row0\" class=\"row_heading level0 row0\" >0</th>\n",
       "      <td id=\"T_c06a8_row0_col0\" class=\"data row0 col0\" >MAC000002</td>\n",
       "      <td id=\"T_c06a8_row0_col1\" class=\"data row0 col1\" >Std</td>\n",
       "      <td id=\"T_c06a8_row0_col2\" class=\"data row0 col2\" >2012-10-12 00:30:00.0000000</td>\n",
       "      <td id=\"T_c06a8_row0_col3\" class=\"data row0 col3\" > 0 </td>\n",
       "    </tr>\n",
       "    <tr>\n",
       "      <th id=\"T_c06a8_level0_row1\" class=\"row_heading level0 row1\" >1</th>\n",
       "      <td id=\"T_c06a8_row1_col0\" class=\"data row1 col0\" >MAC000002</td>\n",
       "      <td id=\"T_c06a8_row1_col1\" class=\"data row1 col1\" >Std</td>\n",
       "      <td id=\"T_c06a8_row1_col2\" class=\"data row1 col2\" >2012-10-12 01:00:00.0000000</td>\n",
       "      <td id=\"T_c06a8_row1_col3\" class=\"data row1 col3\" > 0 </td>\n",
       "    </tr>\n",
       "    <tr>\n",
       "      <th id=\"T_c06a8_level0_row2\" class=\"row_heading level0 row2\" >2</th>\n",
       "      <td id=\"T_c06a8_row2_col0\" class=\"data row2 col0\" >MAC000002</td>\n",
       "      <td id=\"T_c06a8_row2_col1\" class=\"data row2 col1\" >Std</td>\n",
       "      <td id=\"T_c06a8_row2_col2\" class=\"data row2 col2\" >2012-10-12 01:30:00.0000000</td>\n",
       "      <td id=\"T_c06a8_row2_col3\" class=\"data row2 col3\" > 0 </td>\n",
       "    </tr>\n",
       "    <tr>\n",
       "      <th id=\"T_c06a8_level0_row3\" class=\"row_heading level0 row3\" >3</th>\n",
       "      <td id=\"T_c06a8_row3_col0\" class=\"data row3 col0\" >MAC000002</td>\n",
       "      <td id=\"T_c06a8_row3_col1\" class=\"data row3 col1\" >Std</td>\n",
       "      <td id=\"T_c06a8_row3_col2\" class=\"data row3 col2\" >2012-10-12 02:00:00.0000000</td>\n",
       "      <td id=\"T_c06a8_row3_col3\" class=\"data row3 col3\" > 0 </td>\n",
       "    </tr>\n",
       "    <tr>\n",
       "      <th id=\"T_c06a8_level0_row4\" class=\"row_heading level0 row4\" >4</th>\n",
       "      <td id=\"T_c06a8_row4_col0\" class=\"data row4 col0\" >MAC000002</td>\n",
       "      <td id=\"T_c06a8_row4_col1\" class=\"data row4 col1\" >Std</td>\n",
       "      <td id=\"T_c06a8_row4_col2\" class=\"data row4 col2\" >2012-10-12 02:30:00.0000000</td>\n",
       "      <td id=\"T_c06a8_row4_col3\" class=\"data row4 col3\" > 0 </td>\n",
       "    </tr>\n",
       "  </tbody>\n",
       "</table>\n"
      ],
      "text/plain": [
       "<pandas.io.formats.style.Styler at 0x245a01adf10>"
      ]
     },
     "metadata": {},
     "output_type": "display_data"
    },
    {
     "data": {
      "text/html": [
       "<br><span style=\"font-weight: bold; font-size: 16px\">Info</span>"
      ],
      "text/plain": [
       "<IPython.core.display.HTML object>"
      ]
     },
     "metadata": {},
     "output_type": "display_data"
    },
    {
     "name": "stdout",
     "output_type": "stream",
     "text": [
      "<class 'pandas.core.frame.DataFrame'>\n",
      "RangeIndex: 1000000 entries, 0 to 999999\n",
      "Data columns (total 4 columns):\n",
      " #   Column                   Non-Null Count    Dtype \n",
      "---  ------                   --------------    ----- \n",
      " 0   LCLid                    1000000 non-null  object\n",
      " 1   stdorToU                 1000000 non-null  object\n",
      " 2   DateTime                 1000000 non-null  object\n",
      " 3   KWH/hh (per half hour)   1000000 non-null  object\n",
      "dtypes: object(4)\n",
      "memory usage: 30.5+ MB\n"
     ]
    },
    {
     "data": {
      "text/plain": [
       "None"
      ]
     },
     "metadata": {},
     "output_type": "display_data"
    }
   ],
   "source": [
    "from IPython.display import HTML\n",
    "\n",
    "table_style = [{\n",
    "    'selector' : 'caption',\n",
    "    'props' : [\n",
    "        ('font-size', '16px'),\n",
    "        ('color', 'black'),\n",
    "        ('font-weight', 'bold'),\n",
    "        ('text-align', 'left')\n",
    "    ]\n",
    "}]\n",
    "\n",
    "for chunk in chunks:\n",
    "    \n",
    "    display(\n",
    "        chunk.describe(include='all')\n",
    "        .style.set_caption('Describe')\n",
    "        .set_table_styles(table_style)\n",
    "    )\n",
    "    \n",
    "    display(\n",
    "        chunk.head()\n",
    "        .style.set_caption('Head')\n",
    "        .set_table_styles(table_style)\n",
    "    )\n",
    "    \n",
    "    display(HTML('<br><span style=\"font-weight: bold; font-size: 16px\">Info</span>'))\n",
    "    display(chunk.info())\n",
    "    \n",
    "    break # Just the first chunk"
   ]
  },
  {
   "cell_type": "markdown",
   "id": "f4bf5113",
   "metadata": {},
   "source": [
    "La colonne `KWH/hh (per half hour)` est de type `object` et pas de type `float` qui est étonnant, donc sans doute il y a des valeurs non-numériques qu'on devra traiter."
   ]
  },
  {
   "cell_type": "markdown",
   "id": "cd4f9b1a",
   "metadata": {},
   "source": [
    "## Pre-processing"
   ]
  },
  {
   "cell_type": "markdown",
   "id": "11f2226a",
   "metadata": {},
   "source": [
    "On finira par renommer les colonnes pour les rendre plus lisibles, donc on définit les noms maintenant."
   ]
  },
  {
   "cell_type": "code",
   "execution_count": 5,
   "id": "1e54f2e7",
   "metadata": {},
   "outputs": [],
   "source": [
    "col_renaming = {\n",
    "    'LCLid' : 'Household ID',\n",
    "    'stdorToU' : 'Tariff Type',\n",
    "    'KWH/hh (per half hour) ' : 'kWh'\n",
    "}"
   ]
  },
  {
   "cell_type": "markdown",
   "id": "079ec464",
   "metadata": {},
   "source": [
    "Essayons de convertir les valuers de kWh en type numérique."
   ]
  },
  {
   "cell_type": "code",
   "execution_count": 6,
   "id": "114db14e",
   "metadata": {
    "scrolled": true
   },
   "outputs": [
    {
     "ename": "ValueError",
     "evalue": "Unable to parse string \"Null\" at position 3240",
     "output_type": "error",
     "traceback": [
      "\u001b[1;31m---------------------------------------------------------------------------\u001b[0m",
      "\u001b[1;31mValueError\u001b[0m                                Traceback (most recent call last)",
      "File \u001b[1;32m~\\miniconda3\\envs\\datascience\\lib\\site-packages\\pandas\\_libs\\lib.pyx:2315\u001b[0m, in \u001b[0;36mpandas._libs.lib.maybe_convert_numeric\u001b[1;34m()\u001b[0m\n",
      "\u001b[1;31mValueError\u001b[0m: Unable to parse string \"Null\"",
      "\nDuring handling of the above exception, another exception occurred:\n",
      "\u001b[1;31mValueError\u001b[0m                                Traceback (most recent call last)",
      "Input \u001b[1;32mIn [6]\u001b[0m, in \u001b[0;36m<cell line: 2>\u001b[1;34m()\u001b[0m\n\u001b[0;32m      2\u001b[0m \u001b[38;5;28;01mfor\u001b[39;00m chunk \u001b[38;5;129;01min\u001b[39;00m chunks:\n\u001b[0;32m      3\u001b[0m     chunk\u001b[38;5;241m.\u001b[39mrename(\n\u001b[0;32m      4\u001b[0m         columns \u001b[38;5;241m=\u001b[39m col_renaming,\n\u001b[0;32m      5\u001b[0m         inplace\u001b[38;5;241m=\u001b[39m\u001b[38;5;28;01mTrue\u001b[39;00m\n\u001b[0;32m      6\u001b[0m     )\n\u001b[1;32m----> 7\u001b[0m     chunk\u001b[38;5;241m.\u001b[39mloc[:, \u001b[38;5;124m'\u001b[39m\u001b[38;5;124mkWh\u001b[39m\u001b[38;5;124m'\u001b[39m] \u001b[38;5;241m=\u001b[39m \u001b[43mpd\u001b[49m\u001b[38;5;241;43m.\u001b[39;49m\u001b[43mto_numeric\u001b[49m\u001b[43m(\u001b[49m\u001b[43mchunk\u001b[49m\u001b[43m[\u001b[49m\u001b[38;5;124;43m'\u001b[39;49m\u001b[38;5;124;43mkWh\u001b[39;49m\u001b[38;5;124;43m'\u001b[39;49m\u001b[43m]\u001b[49m\u001b[43m)\u001b[49m\n\u001b[0;32m      8\u001b[0m     \u001b[38;5;28;01mbreak\u001b[39;00m\n",
      "File \u001b[1;32m~\\miniconda3\\envs\\datascience\\lib\\site-packages\\pandas\\core\\tools\\numeric.py:184\u001b[0m, in \u001b[0;36mto_numeric\u001b[1;34m(arg, errors, downcast)\u001b[0m\n\u001b[0;32m    182\u001b[0m coerce_numeric \u001b[38;5;241m=\u001b[39m errors \u001b[38;5;129;01mnot\u001b[39;00m \u001b[38;5;129;01min\u001b[39;00m (\u001b[38;5;124m\"\u001b[39m\u001b[38;5;124mignore\u001b[39m\u001b[38;5;124m\"\u001b[39m, \u001b[38;5;124m\"\u001b[39m\u001b[38;5;124mraise\u001b[39m\u001b[38;5;124m\"\u001b[39m)\n\u001b[0;32m    183\u001b[0m \u001b[38;5;28;01mtry\u001b[39;00m:\n\u001b[1;32m--> 184\u001b[0m     values, _ \u001b[38;5;241m=\u001b[39m \u001b[43mlib\u001b[49m\u001b[38;5;241;43m.\u001b[39;49m\u001b[43mmaybe_convert_numeric\u001b[49m\u001b[43m(\u001b[49m\n\u001b[0;32m    185\u001b[0m \u001b[43m        \u001b[49m\u001b[43mvalues\u001b[49m\u001b[43m,\u001b[49m\u001b[43m \u001b[49m\u001b[38;5;28;43mset\u001b[39;49m\u001b[43m(\u001b[49m\u001b[43m)\u001b[49m\u001b[43m,\u001b[49m\u001b[43m \u001b[49m\u001b[43mcoerce_numeric\u001b[49m\u001b[38;5;241;43m=\u001b[39;49m\u001b[43mcoerce_numeric\u001b[49m\n\u001b[0;32m    186\u001b[0m \u001b[43m    \u001b[49m\u001b[43m)\u001b[49m\n\u001b[0;32m    187\u001b[0m \u001b[38;5;28;01mexcept\u001b[39;00m (\u001b[38;5;167;01mValueError\u001b[39;00m, \u001b[38;5;167;01mTypeError\u001b[39;00m):\n\u001b[0;32m    188\u001b[0m     \u001b[38;5;28;01mif\u001b[39;00m errors \u001b[38;5;241m==\u001b[39m \u001b[38;5;124m\"\u001b[39m\u001b[38;5;124mraise\u001b[39m\u001b[38;5;124m\"\u001b[39m:\n",
      "File \u001b[1;32m~\\miniconda3\\envs\\datascience\\lib\\site-packages\\pandas\\_libs\\lib.pyx:2357\u001b[0m, in \u001b[0;36mpandas._libs.lib.maybe_convert_numeric\u001b[1;34m()\u001b[0m\n",
      "\u001b[1;31mValueError\u001b[0m: Unable to parse string \"Null\" at position 3240"
     ]
    }
   ],
   "source": [
    "chunks = pd.read_csv('data/CC_LCL-FullData.csv', chunksize=1000000)\n",
    "for chunk in chunks:\n",
    "    chunk.rename(\n",
    "        columns = col_renaming,\n",
    "        inplace=True\n",
    "    )\n",
    "    chunk.loc[:, 'kWh'] = pd.to_numeric(chunk['kWh'])\n",
    "    break"
   ]
  },
  {
   "cell_type": "markdown",
   "id": "17996828",
   "metadata": {},
   "source": [
    "Le message d'erreur nous dit qu'il y a des valuers \"Null\" de type chaîne. Essayons de les supprimer de la première tranche pour tester la méthode."
   ]
  },
  {
   "cell_type": "code",
   "execution_count": 7,
   "id": "f01379b5",
   "metadata": {},
   "outputs": [
    {
     "name": "stdout",
     "output_type": "stream",
     "text": [
      "999971 rows remaining after dropping rows where kWH is 'Null'\n"
     ]
    }
   ],
   "source": [
    "test_chunks = pd.read_csv('data/CC_LCL-FullData.csv', chunksize=1000000)\n",
    "\n",
    "for chunk in test_chunks:\n",
    "    chunk.rename(columns=col_renaming, inplace=True)\n",
    "    chunk.loc[:, 'kWh'] = pd.to_numeric(chunk['kWh'], errors='coerce')\n",
    "    chunk.dropna(subset=['kWh'], inplace=True)\n",
    "    print(f\"{chunk.shape[0]} rows remaining after dropping rows where kWH is 'Null'\")\n",
    "    break"
   ]
  },
  {
   "cell_type": "markdown",
   "id": "dc5ab711",
   "metadata": {},
   "source": [
    "On dirait que ça marche car maintenant on a moins de 1 000 000 lignes. Maintenant qu'on sait faire ça, on peut étudier comment créer des données utiles."
   ]
  },
  {
   "cell_type": "markdown",
   "id": "c23be66f",
   "metadata": {},
   "source": [
    "## Réduire les données"
   ]
  },
  {
   "cell_type": "markdown",
   "id": "2ac4f52d",
   "metadata": {},
   "source": [
    "Le but est de ***réduire*** les données en les agrégant d'une manière ou d'une autre. Puisque nous savons que les données sont organisées par demi-heure, on va les agréger par jour en les additionnant sur chaque période de 24 heures. Cela devrait réduire le nombre de lignes par un facteur d' environ 48.\n",
    "\n",
    "Quand je l'ai fait, j'ai testé en utilisant 2 tranches pour vérifier que tout fonctionnaient. Ainsi, j'ai pu construire la solution étape par étape, en ajoutant une autre méthode lorsque j'ai vu un bon résultat pour la transformation précédente. En itérant, pour chaque tranche les transformations sont comme suit:\n",
    "1. Convertir les données de type horodatage en forme de date, prêt pour le regoupement\n",
    "1. Renommer les colonnes\n",
    "1. Convertir les valeurs kWh en valeurs numériques, en convertissant les erreurs en `Nan`\n",
    "1. Supprimer les lignes où la valeur kWh est `NaN`\n",
    "1. Agréger les données en les groupant par `Household ID`, `Tariff Type`, et `Date`, et en additionnant les valeurs `kWh` sur des périodes d'un jour\n",
    "1. Additionner la tranche des données agrégées au total cumulé des données agrégées"
   ]
  },
  {
   "cell_type": "code",
   "execution_count": 8,
   "id": "d75981d8",
   "metadata": {},
   "outputs": [],
   "source": [
    "def process_chunks(chunks, max_chunks=None, display_each_chunk=False):\n",
    "    \n",
    "    count = 1\n",
    "    \n",
    "    output = None\n",
    "    \n",
    "    for chunk in chunks:\n",
    "    \n",
    "        # Convert timestamp to date\n",
    "        chunk['Date'] = pd.to_datetime(chunk['DateTime']).dt.date\n",
    "\n",
    "        # Rename columns\n",
    "        chunk.rename(columns=col_renaming, inplace=True)\n",
    "\n",
    "        # Remove rows where kWh value is 'Null'\n",
    "        chunk.loc[:, 'kWh'] = pd.to_numeric(chunk['kWh'], errors='coerce')\n",
    "        chunk.dropna(subset=['kWh'], inplace=True)\n",
    "\n",
    "        # Aggregate from half-hourly to daily kWh data\n",
    "        daily_data = (\n",
    "            chunk.groupby(\n",
    "                by = ['Household ID', 'Tariff Type', 'Date']\n",
    "            )\n",
    "            .agg({\n",
    "                'kWh' : 'sum'\n",
    "            })\n",
    "        )\n",
    "\n",
    "        # Display for checking purposes\n",
    "        if display_each_chunk:\n",
    "            display(HTML(f'<span style=\"font-weight: bold; font-size: 16px\">Chunk {count}</span>'))\n",
    "            display(daily_data)\n",
    "            print()\n",
    "\n",
    "        # Add to running total\n",
    "        if output is None:\n",
    "            output = daily_data\n",
    "        else:\n",
    "            output = output.add(daily_data, fill_value=0)\n",
    "            \n",
    "        # Display progress every 10 chunks.\n",
    "        if count % 10 == 0:\n",
    "            print(count, end=', ')\n",
    "\n",
    "        if max_chunks and count == max_chunks:\n",
    "            break\n",
    "        count += 1\n",
    "        \n",
    "    return output"
   ]
  },
  {
   "cell_type": "code",
   "execution_count": 9,
   "id": "fd0b65cb",
   "metadata": {
    "scrolled": false
   },
   "outputs": [
    {
     "data": {
      "text/html": [
       "<span style=\"font-weight: bold; font-size: 16px\">Chunk 1</span>"
      ],
      "text/plain": [
       "<IPython.core.display.HTML object>"
      ]
     },
     "metadata": {},
     "output_type": "display_data"
    },
    {
     "data": {
      "text/html": [
       "<div>\n",
       "<style scoped>\n",
       "    .dataframe tbody tr th:only-of-type {\n",
       "        vertical-align: middle;\n",
       "    }\n",
       "\n",
       "    .dataframe tbody tr th {\n",
       "        vertical-align: top;\n",
       "    }\n",
       "\n",
       "    .dataframe thead th {\n",
       "        text-align: right;\n",
       "    }\n",
       "</style>\n",
       "<table border=\"1\" class=\"dataframe\">\n",
       "  <thead>\n",
       "    <tr style=\"text-align: right;\">\n",
       "      <th></th>\n",
       "      <th></th>\n",
       "      <th></th>\n",
       "      <th>kWh</th>\n",
       "    </tr>\n",
       "    <tr>\n",
       "      <th>Household ID</th>\n",
       "      <th>Tariff Type</th>\n",
       "      <th>Date</th>\n",
       "      <th></th>\n",
       "    </tr>\n",
       "  </thead>\n",
       "  <tbody>\n",
       "    <tr>\n",
       "      <th rowspan=\"5\" valign=\"top\">MAC000002</th>\n",
       "      <th rowspan=\"5\" valign=\"top\">Std</th>\n",
       "      <th>2012-10-12</th>\n",
       "      <td>7.098</td>\n",
       "    </tr>\n",
       "    <tr>\n",
       "      <th>2012-10-13</th>\n",
       "      <td>11.087</td>\n",
       "    </tr>\n",
       "    <tr>\n",
       "      <th>2012-10-14</th>\n",
       "      <td>13.223</td>\n",
       "    </tr>\n",
       "    <tr>\n",
       "      <th>2012-10-15</th>\n",
       "      <td>10.257</td>\n",
       "    </tr>\n",
       "    <tr>\n",
       "      <th>2012-10-16</th>\n",
       "      <td>9.769</td>\n",
       "    </tr>\n",
       "    <tr>\n",
       "      <th>...</th>\n",
       "      <th>...</th>\n",
       "      <th>...</th>\n",
       "      <td>...</td>\n",
       "    </tr>\n",
       "    <tr>\n",
       "      <th rowspan=\"5\" valign=\"top\">MAC000036</th>\n",
       "      <th rowspan=\"5\" valign=\"top\">Std</th>\n",
       "      <th>2012-11-04</th>\n",
       "      <td>2.401</td>\n",
       "    </tr>\n",
       "    <tr>\n",
       "      <th>2012-11-05</th>\n",
       "      <td>2.379</td>\n",
       "    </tr>\n",
       "    <tr>\n",
       "      <th>2012-11-06</th>\n",
       "      <td>2.352</td>\n",
       "    </tr>\n",
       "    <tr>\n",
       "      <th>2012-11-07</th>\n",
       "      <td>2.599</td>\n",
       "    </tr>\n",
       "    <tr>\n",
       "      <th>2012-11-08</th>\n",
       "      <td>0.689</td>\n",
       "    </tr>\n",
       "  </tbody>\n",
       "</table>\n",
       "<p>20870 rows × 1 columns</p>\n",
       "</div>"
      ],
      "text/plain": [
       "                                        kWh\n",
       "Household ID Tariff Type Date              \n",
       "MAC000002    Std         2012-10-12   7.098\n",
       "                         2012-10-13  11.087\n",
       "                         2012-10-14  13.223\n",
       "                         2012-10-15  10.257\n",
       "                         2012-10-16   9.769\n",
       "...                                     ...\n",
       "MAC000036    Std         2012-11-04   2.401\n",
       "                         2012-11-05   2.379\n",
       "                         2012-11-06   2.352\n",
       "                         2012-11-07   2.599\n",
       "                         2012-11-08   0.689\n",
       "\n",
       "[20870 rows x 1 columns]"
      ]
     },
     "metadata": {},
     "output_type": "display_data"
    },
    {
     "name": "stdout",
     "output_type": "stream",
     "text": [
      "\n"
     ]
    },
    {
     "data": {
      "text/html": [
       "<span style=\"font-weight: bold; font-size: 16px\">Chunk 2</span>"
      ],
      "text/plain": [
       "<IPython.core.display.HTML object>"
      ]
     },
     "metadata": {},
     "output_type": "display_data"
    },
    {
     "data": {
      "text/html": [
       "<div>\n",
       "<style scoped>\n",
       "    .dataframe tbody tr th:only-of-type {\n",
       "        vertical-align: middle;\n",
       "    }\n",
       "\n",
       "    .dataframe tbody tr th {\n",
       "        vertical-align: top;\n",
       "    }\n",
       "\n",
       "    .dataframe thead th {\n",
       "        text-align: right;\n",
       "    }\n",
       "</style>\n",
       "<table border=\"1\" class=\"dataframe\">\n",
       "  <thead>\n",
       "    <tr style=\"text-align: right;\">\n",
       "      <th></th>\n",
       "      <th></th>\n",
       "      <th></th>\n",
       "      <th>kWh</th>\n",
       "    </tr>\n",
       "    <tr>\n",
       "      <th>Household ID</th>\n",
       "      <th>Tariff Type</th>\n",
       "      <th>Date</th>\n",
       "      <th></th>\n",
       "    </tr>\n",
       "  </thead>\n",
       "  <tbody>\n",
       "    <tr>\n",
       "      <th rowspan=\"5\" valign=\"top\">MAC000036</th>\n",
       "      <th rowspan=\"5\" valign=\"top\">Std</th>\n",
       "      <th>2012-11-08</th>\n",
       "      <td>1.359</td>\n",
       "    </tr>\n",
       "    <tr>\n",
       "      <th>2012-11-09</th>\n",
       "      <td>2.659</td>\n",
       "    </tr>\n",
       "    <tr>\n",
       "      <th>2012-11-10</th>\n",
       "      <td>2.593</td>\n",
       "    </tr>\n",
       "    <tr>\n",
       "      <th>2012-11-11</th>\n",
       "      <td>2.542</td>\n",
       "    </tr>\n",
       "    <tr>\n",
       "      <th>2012-11-12</th>\n",
       "      <td>2.701</td>\n",
       "    </tr>\n",
       "    <tr>\n",
       "      <th>...</th>\n",
       "      <th>...</th>\n",
       "      <th>...</th>\n",
       "      <td>...</td>\n",
       "    </tr>\n",
       "    <tr>\n",
       "      <th rowspan=\"5\" valign=\"top\">MAC000069</th>\n",
       "      <th rowspan=\"5\" valign=\"top\">Std</th>\n",
       "      <th>2013-05-08</th>\n",
       "      <td>4.385</td>\n",
       "    </tr>\n",
       "    <tr>\n",
       "      <th>2013-05-09</th>\n",
       "      <td>7.030</td>\n",
       "    </tr>\n",
       "    <tr>\n",
       "      <th>2013-05-10</th>\n",
       "      <td>7.033</td>\n",
       "    </tr>\n",
       "    <tr>\n",
       "      <th>2013-05-11</th>\n",
       "      <td>6.328</td>\n",
       "    </tr>\n",
       "    <tr>\n",
       "      <th>2013-05-12</th>\n",
       "      <td>3.923</td>\n",
       "    </tr>\n",
       "  </tbody>\n",
       "</table>\n",
       "<p>20861 rows × 1 columns</p>\n",
       "</div>"
      ],
      "text/plain": [
       "                                       kWh\n",
       "Household ID Tariff Type Date             \n",
       "MAC000036    Std         2012-11-08  1.359\n",
       "                         2012-11-09  2.659\n",
       "                         2012-11-10  2.593\n",
       "                         2012-11-11  2.542\n",
       "                         2012-11-12  2.701\n",
       "...                                    ...\n",
       "MAC000069    Std         2013-05-08  4.385\n",
       "                         2013-05-09  7.030\n",
       "                         2013-05-10  7.033\n",
       "                         2013-05-11  6.328\n",
       "                         2013-05-12  3.923\n",
       "\n",
       "[20861 rows x 1 columns]"
      ]
     },
     "metadata": {},
     "output_type": "display_data"
    },
    {
     "name": "stdout",
     "output_type": "stream",
     "text": [
      "\n"
     ]
    },
    {
     "data": {
      "text/html": [
       "<span style=\"font-weight: bold; font-size: 16px\">Total</span>"
      ],
      "text/plain": [
       "<IPython.core.display.HTML object>"
      ]
     },
     "metadata": {},
     "output_type": "display_data"
    },
    {
     "data": {
      "text/html": [
       "<div>\n",
       "<style scoped>\n",
       "    .dataframe tbody tr th:only-of-type {\n",
       "        vertical-align: middle;\n",
       "    }\n",
       "\n",
       "    .dataframe tbody tr th {\n",
       "        vertical-align: top;\n",
       "    }\n",
       "\n",
       "    .dataframe thead th {\n",
       "        text-align: right;\n",
       "    }\n",
       "</style>\n",
       "<table border=\"1\" class=\"dataframe\">\n",
       "  <thead>\n",
       "    <tr style=\"text-align: right;\">\n",
       "      <th></th>\n",
       "      <th></th>\n",
       "      <th></th>\n",
       "      <th>kWh</th>\n",
       "    </tr>\n",
       "    <tr>\n",
       "      <th>Household ID</th>\n",
       "      <th>Tariff Type</th>\n",
       "      <th>Date</th>\n",
       "      <th></th>\n",
       "    </tr>\n",
       "  </thead>\n",
       "  <tbody>\n",
       "    <tr>\n",
       "      <th rowspan=\"5\" valign=\"top\">MAC000002</th>\n",
       "      <th rowspan=\"5\" valign=\"top\">Std</th>\n",
       "      <th>2012-10-12</th>\n",
       "      <td>7.098</td>\n",
       "    </tr>\n",
       "    <tr>\n",
       "      <th>2012-10-13</th>\n",
       "      <td>11.087</td>\n",
       "    </tr>\n",
       "    <tr>\n",
       "      <th>2012-10-14</th>\n",
       "      <td>13.223</td>\n",
       "    </tr>\n",
       "    <tr>\n",
       "      <th>2012-10-15</th>\n",
       "      <td>10.257</td>\n",
       "    </tr>\n",
       "    <tr>\n",
       "      <th>2012-10-16</th>\n",
       "      <td>9.769</td>\n",
       "    </tr>\n",
       "    <tr>\n",
       "      <th>...</th>\n",
       "      <th>...</th>\n",
       "      <th>...</th>\n",
       "      <td>...</td>\n",
       "    </tr>\n",
       "    <tr>\n",
       "      <th rowspan=\"5\" valign=\"top\">MAC000069</th>\n",
       "      <th rowspan=\"5\" valign=\"top\">Std</th>\n",
       "      <th>2013-05-08</th>\n",
       "      <td>4.385</td>\n",
       "    </tr>\n",
       "    <tr>\n",
       "      <th>2013-05-09</th>\n",
       "      <td>7.030</td>\n",
       "    </tr>\n",
       "    <tr>\n",
       "      <th>2013-05-10</th>\n",
       "      <td>7.033</td>\n",
       "    </tr>\n",
       "    <tr>\n",
       "      <th>2013-05-11</th>\n",
       "      <td>6.328</td>\n",
       "    </tr>\n",
       "    <tr>\n",
       "      <th>2013-05-12</th>\n",
       "      <td>3.923</td>\n",
       "    </tr>\n",
       "  </tbody>\n",
       "</table>\n",
       "<p>41730 rows × 1 columns</p>\n",
       "</div>"
      ],
      "text/plain": [
       "                                        kWh\n",
       "Household ID Tariff Type Date              \n",
       "MAC000002    Std         2012-10-12   7.098\n",
       "                         2012-10-13  11.087\n",
       "                         2012-10-14  13.223\n",
       "                         2012-10-15  10.257\n",
       "                         2012-10-16   9.769\n",
       "...                                     ...\n",
       "MAC000069    Std         2013-05-08   4.385\n",
       "                         2013-05-09   7.030\n",
       "                         2013-05-10   7.033\n",
       "                         2013-05-11   6.328\n",
       "                         2013-05-12   3.923\n",
       "\n",
       "[41730 rows x 1 columns]"
      ]
     },
     "metadata": {},
     "output_type": "display_data"
    }
   ],
   "source": [
    "chunks = pd.read_csv('data/CC_LCL-FullData.csv', chunksize=1000000)\n",
    "test_daily_summary = process_chunks(chunks, 2, True)\n",
    "\n",
    "# Display the aggregated totals\n",
    "display(HTML(f'<span style=\"font-weight: bold; font-size: 16px\">Total</span>'))\n",
    "display(test_daily_summary)"
   ]
  },
  {
   "cell_type": "markdown",
   "id": "62ca9b21",
   "metadata": {},
   "source": [
    "Maintenant on peut agréger toutes les données. Il faudra un certain temps pour le traitement! Le compteur montre le progrès en affichant la quantité de tranches traitées (par groupe de 10)."
   ]
  },
  {
   "cell_type": "code",
   "execution_count": 10,
   "id": "efa7fa6b",
   "metadata": {
    "scrolled": false
   },
   "outputs": [
    {
     "name": "stdout",
     "output_type": "stream",
     "text": [
      "10, 20, 30, 40, 50, 60, 70, 80, 90, 100, 110, 120, 130, 140, 150, 160, "
     ]
    },
    {
     "data": {
      "text/html": [
       "<span style=\"font-weight: bold; font-size: 16px\">Total</span>"
      ],
      "text/plain": [
       "<IPython.core.display.HTML object>"
      ]
     },
     "metadata": {},
     "output_type": "display_data"
    },
    {
     "data": {
      "text/html": [
       "<div>\n",
       "<style scoped>\n",
       "    .dataframe tbody tr th:only-of-type {\n",
       "        vertical-align: middle;\n",
       "    }\n",
       "\n",
       "    .dataframe tbody tr th {\n",
       "        vertical-align: top;\n",
       "    }\n",
       "\n",
       "    .dataframe thead th {\n",
       "        text-align: right;\n",
       "    }\n",
       "</style>\n",
       "<table border=\"1\" class=\"dataframe\">\n",
       "  <thead>\n",
       "    <tr style=\"text-align: right;\">\n",
       "      <th></th>\n",
       "      <th></th>\n",
       "      <th></th>\n",
       "      <th>kWh</th>\n",
       "    </tr>\n",
       "    <tr>\n",
       "      <th>Household ID</th>\n",
       "      <th>Tariff Type</th>\n",
       "      <th>Date</th>\n",
       "      <th></th>\n",
       "    </tr>\n",
       "  </thead>\n",
       "  <tbody>\n",
       "    <tr>\n",
       "      <th rowspan=\"5\" valign=\"top\">MAC000002</th>\n",
       "      <th rowspan=\"5\" valign=\"top\">Std</th>\n",
       "      <th>2012-10-12</th>\n",
       "      <td>7.098</td>\n",
       "    </tr>\n",
       "    <tr>\n",
       "      <th>2012-10-13</th>\n",
       "      <td>11.087</td>\n",
       "    </tr>\n",
       "    <tr>\n",
       "      <th>2012-10-14</th>\n",
       "      <td>13.223</td>\n",
       "    </tr>\n",
       "    <tr>\n",
       "      <th>2012-10-15</th>\n",
       "      <td>10.257</td>\n",
       "    </tr>\n",
       "    <tr>\n",
       "      <th>2012-10-16</th>\n",
       "      <td>9.769</td>\n",
       "    </tr>\n",
       "    <tr>\n",
       "      <th>...</th>\n",
       "      <th>...</th>\n",
       "      <th>...</th>\n",
       "      <td>...</td>\n",
       "    </tr>\n",
       "    <tr>\n",
       "      <th rowspan=\"5\" valign=\"top\">MAC005567</th>\n",
       "      <th rowspan=\"5\" valign=\"top\">Std</th>\n",
       "      <th>2014-02-24</th>\n",
       "      <td>4.107</td>\n",
       "    </tr>\n",
       "    <tr>\n",
       "      <th>2014-02-25</th>\n",
       "      <td>5.762</td>\n",
       "    </tr>\n",
       "    <tr>\n",
       "      <th>2014-02-26</th>\n",
       "      <td>5.066</td>\n",
       "    </tr>\n",
       "    <tr>\n",
       "      <th>2014-02-27</th>\n",
       "      <td>3.217</td>\n",
       "    </tr>\n",
       "    <tr>\n",
       "      <th>2014-02-28</th>\n",
       "      <td>0.366</td>\n",
       "    </tr>\n",
       "  </tbody>\n",
       "</table>\n",
       "<p>3510403 rows × 1 columns</p>\n",
       "</div>"
      ],
      "text/plain": [
       "                                        kWh\n",
       "Household ID Tariff Type Date              \n",
       "MAC000002    Std         2012-10-12   7.098\n",
       "                         2012-10-13  11.087\n",
       "                         2012-10-14  13.223\n",
       "                         2012-10-15  10.257\n",
       "                         2012-10-16   9.769\n",
       "...                                     ...\n",
       "MAC005567    Std         2014-02-24   4.107\n",
       "                         2014-02-25   5.762\n",
       "                         2014-02-26   5.066\n",
       "                         2014-02-27   3.217\n",
       "                         2014-02-28   0.366\n",
       "\n",
       "[3510403 rows x 1 columns]"
      ]
     },
     "metadata": {},
     "output_type": "display_data"
    }
   ],
   "source": [
    "chunks = pd.read_csv('data/CC_LCL-FullData.csv', chunksize=1000000)\n",
    "daily_summary = process_chunks(chunks)\n",
    "\n",
    "# Display the aggregated totals\n",
    "display(HTML(f'<span style=\"font-weight: bold; font-size: 16px\">Total</span>'))\n",
    "display(daily_summary)"
   ]
  },
  {
   "cell_type": "markdown",
   "id": "ae0e2c88",
   "metadata": {},
   "source": [
    "## Sauvegarder les données agrégées"
   ]
  },
  {
   "cell_type": "markdown",
   "id": "12a0d80a",
   "metadata": {},
   "source": [
    "Maintentant qu'on a ramené les données à environ 3 millions lignes on devrait pouvoir les contenir dans un seul dataframe. Il vaut mieux les sauvegarder pour qu'on n'ait pas besoin de réexecuter l'agrégation chaque fois qu'on veut traiter les données.\n",
    "\n",
    "On va le sauvegarder comme fichier compressé gz - pandas reconnait automatiquement le type de fichier quand on précise l'extension.\n",
    "\n",
    "(On peut également utiliser le paramètre `chunksize` pour sauvegarder par tranche, mais ca ne devrait pas être nécessaire maintenant qu'on a réduit la taille.)"
   ]
  },
  {
   "cell_type": "code",
   "execution_count": 11,
   "id": "ff93628a",
   "metadata": {},
   "outputs": [],
   "source": [
    "daily_summary.to_csv(\"data/daily-summary-data.gz\")"
   ]
  },
  {
   "cell_type": "markdown",
   "id": "e985202a",
   "metadata": {},
   "source": [
    "## Analyser les données"
   ]
  },
  {
   "cell_type": "markdown",
   "id": "bd0bfd2e",
   "metadata": {},
   "source": [
    "On devrait pouvoir charger les données agrégées sans diviser en tranches."
   ]
  },
  {
   "cell_type": "code",
   "execution_count": 12,
   "id": "983fd298",
   "metadata": {},
   "outputs": [],
   "source": [
    "saved_daily_summary = pd.read_csv(\"data/daily-summary-data.gz\")"
   ]
  },
  {
   "cell_type": "markdown",
   "id": "3214752e",
   "metadata": {},
   "source": [
    "Vérifions s'il y a des résidences qui ont changé de groupe, puisque il serait intéressant de voir s'il y a un changement de comportement suite à un changement de groupe.\n",
    "\n",
    "D'abord on agrège sur toute la période, en groupant par Household ID et Tariff Type."
   ]
  },
  {
   "cell_type": "code",
   "execution_count": 13,
   "id": "f904d63e",
   "metadata": {},
   "outputs": [
    {
     "data": {
      "text/html": [
       "<div>\n",
       "<style scoped>\n",
       "    .dataframe tbody tr th:only-of-type {\n",
       "        vertical-align: middle;\n",
       "    }\n",
       "\n",
       "    .dataframe tbody tr th {\n",
       "        vertical-align: top;\n",
       "    }\n",
       "\n",
       "    .dataframe thead th {\n",
       "        text-align: right;\n",
       "    }\n",
       "</style>\n",
       "<table border=\"1\" class=\"dataframe\">\n",
       "  <thead>\n",
       "    <tr style=\"text-align: right;\">\n",
       "      <th></th>\n",
       "      <th></th>\n",
       "      <th>kWh</th>\n",
       "    </tr>\n",
       "    <tr>\n",
       "      <th>Household ID</th>\n",
       "      <th>Tariff Type</th>\n",
       "      <th></th>\n",
       "    </tr>\n",
       "  </thead>\n",
       "  <tbody>\n",
       "    <tr>\n",
       "      <th>MAC000002</th>\n",
       "      <th>Std</th>\n",
       "      <td>6101.138001</td>\n",
       "    </tr>\n",
       "    <tr>\n",
       "      <th>MAC000003</th>\n",
       "      <th>Std</th>\n",
       "      <td>14104.433003</td>\n",
       "    </tr>\n",
       "    <tr>\n",
       "      <th>MAC000004</th>\n",
       "      <th>Std</th>\n",
       "      <td>1120.788000</td>\n",
       "    </tr>\n",
       "    <tr>\n",
       "      <th>MAC000005</th>\n",
       "      <th>ToU</th>\n",
       "      <td>2911.808000</td>\n",
       "    </tr>\n",
       "    <tr>\n",
       "      <th>MAC000006</th>\n",
       "      <th>Std</th>\n",
       "      <td>2168.325000</td>\n",
       "    </tr>\n",
       "    <tr>\n",
       "      <th>...</th>\n",
       "      <th>...</th>\n",
       "      <td>...</td>\n",
       "    </tr>\n",
       "    <tr>\n",
       "      <th>MAC005562</th>\n",
       "      <th>Std</th>\n",
       "      <td>6910.988999</td>\n",
       "    </tr>\n",
       "    <tr>\n",
       "      <th>MAC005564</th>\n",
       "      <th>ToU</th>\n",
       "      <td>2314.987999</td>\n",
       "    </tr>\n",
       "    <tr>\n",
       "      <th>MAC005565</th>\n",
       "      <th>ToU</th>\n",
       "      <td>5.790000</td>\n",
       "    </tr>\n",
       "    <tr>\n",
       "      <th>MAC005566</th>\n",
       "      <th>Std</th>\n",
       "      <td>8946.788999</td>\n",
       "    </tr>\n",
       "    <tr>\n",
       "      <th>MAC005567</th>\n",
       "      <th>Std</th>\n",
       "      <td>2268.484999</td>\n",
       "    </tr>\n",
       "  </tbody>\n",
       "</table>\n",
       "<p>5561 rows × 1 columns</p>\n",
       "</div>"
      ],
      "text/plain": [
       "                                   kWh\n",
       "Household ID Tariff Type              \n",
       "MAC000002    Std           6101.138001\n",
       "MAC000003    Std          14104.433003\n",
       "MAC000004    Std           1120.788000\n",
       "MAC000005    ToU           2911.808000\n",
       "MAC000006    Std           2168.325000\n",
       "...                                ...\n",
       "MAC005562    Std           6910.988999\n",
       "MAC005564    ToU           2314.987999\n",
       "MAC005565    ToU              5.790000\n",
       "MAC005566    Std           8946.788999\n",
       "MAC005567    Std           2268.484999\n",
       "\n",
       "[5561 rows x 1 columns]"
      ]
     },
     "execution_count": 13,
     "metadata": {},
     "output_type": "execute_result"
    }
   ],
   "source": [
    "kwh_by_household_and_tariff_type = saved_daily_summary.groupby(by=['Household ID', 'Tariff Type']).agg({\n",
    "    'kWh' : 'sum'\n",
    "})\n",
    "kwh_by_household_and_tariff_type"
   ]
  },
  {
   "cell_type": "markdown",
   "id": "a4111877",
   "metadata": {},
   "source": [
    "Maintenant on peut compter le nombre de tarifs d'énergie par résidence. On devrait voir soit 1 soit 2 pour chaque résidence. Ensuite on peut extraire les valeurs uniques..."
   ]
  },
  {
   "cell_type": "code",
   "execution_count": 14,
   "id": "42383413",
   "metadata": {},
   "outputs": [
    {
     "data": {
      "text/plain": [
       "array([1], dtype=int64)"
      ]
     },
     "execution_count": 14,
     "metadata": {},
     "output_type": "execute_result"
    }
   ],
   "source": [
    "tariff_types_by_household = kwh_by_household_and_tariff_type.groupby('Household ID').count()\n",
    "tariff_types_by_household['kWh'].unique()"
   ]
  },
  {
   "cell_type": "markdown",
   "id": "81d46956",
   "metadata": {},
   "source": [
    "... et puisqu'on n'a que des valeurs de 1 on sait qu'aucun résidence a changé de tarif.\n",
    "\n",
    "Donc à la place on va comparer les deux groupes côte à côte. Par intérêt examinons la couverture des données. D'abord on réorganise pour avoir les résidences en colonne et les date en ligne."
   ]
  },
  {
   "cell_type": "code",
   "execution_count": 15,
   "id": "83c6495a",
   "metadata": {},
   "outputs": [],
   "source": [
    "summary_table = daily_summary.pivot_table(\n",
    "    'kWh',\n",
    "    index='Date',\n",
    "    columns='Household ID',\n",
    "    aggfunc='sum'\n",
    ")"
   ]
  },
  {
   "cell_type": "code",
   "execution_count": 16,
   "id": "e88db1b8",
   "metadata": {},
   "outputs": [
    {
     "data": {
      "text/html": [
       "<div>\n",
       "<style scoped>\n",
       "    .dataframe tbody tr th:only-of-type {\n",
       "        vertical-align: middle;\n",
       "    }\n",
       "\n",
       "    .dataframe tbody tr th {\n",
       "        vertical-align: top;\n",
       "    }\n",
       "\n",
       "    .dataframe thead th {\n",
       "        text-align: right;\n",
       "    }\n",
       "</style>\n",
       "<table border=\"1\" class=\"dataframe\">\n",
       "  <thead>\n",
       "    <tr style=\"text-align: right;\">\n",
       "      <th>Household ID</th>\n",
       "      <th>MAC000145</th>\n",
       "      <th>MAC000146</th>\n",
       "      <th>MAC000147</th>\n",
       "      <th>MAC000148</th>\n",
       "      <th>MAC000149</th>\n",
       "      <th>MAC000150</th>\n",
       "      <th>MAC000151</th>\n",
       "      <th>MAC000152</th>\n",
       "      <th>MAC000153</th>\n",
       "      <th>MAC000154</th>\n",
       "      <th>MAC000155</th>\n",
       "      <th>MAC000156</th>\n",
       "      <th>MAC000157</th>\n",
       "    </tr>\n",
       "    <tr>\n",
       "      <th>Date</th>\n",
       "      <th></th>\n",
       "      <th></th>\n",
       "      <th></th>\n",
       "      <th></th>\n",
       "      <th></th>\n",
       "      <th></th>\n",
       "      <th></th>\n",
       "      <th></th>\n",
       "      <th></th>\n",
       "      <th></th>\n",
       "      <th></th>\n",
       "      <th></th>\n",
       "      <th></th>\n",
       "    </tr>\n",
       "  </thead>\n",
       "  <tbody>\n",
       "    <tr>\n",
       "      <th>2011-11-23</th>\n",
       "      <td>8.952</td>\n",
       "      <td>5.619</td>\n",
       "      <td>3.036</td>\n",
       "      <td>1.283</td>\n",
       "      <td>2.287</td>\n",
       "      <td>9.254</td>\n",
       "      <td>3.273</td>\n",
       "      <td>5.969</td>\n",
       "      <td>21.702</td>\n",
       "      <td>5.798</td>\n",
       "      <td>9.281</td>\n",
       "      <td>6.523</td>\n",
       "      <td>7.408</td>\n",
       "    </tr>\n",
       "    <tr>\n",
       "      <th>2011-11-24</th>\n",
       "      <td>12.135</td>\n",
       "      <td>8.564</td>\n",
       "      <td>7.489</td>\n",
       "      <td>2.304</td>\n",
       "      <td>4.331</td>\n",
       "      <td>9.606</td>\n",
       "      <td>4.620</td>\n",
       "      <td>8.394</td>\n",
       "      <td>29.722</td>\n",
       "      <td>10.879</td>\n",
       "      <td>14.481</td>\n",
       "      <td>12.689</td>\n",
       "      <td>14.258</td>\n",
       "    </tr>\n",
       "    <tr>\n",
       "      <th>2011-11-25</th>\n",
       "      <td>13.720</td>\n",
       "      <td>6.743</td>\n",
       "      <td>6.185</td>\n",
       "      <td>2.324</td>\n",
       "      <td>4.373</td>\n",
       "      <td>12.685</td>\n",
       "      <td>4.783</td>\n",
       "      <td>7.898</td>\n",
       "      <td>30.071</td>\n",
       "      <td>9.579</td>\n",
       "      <td>13.689</td>\n",
       "      <td>10.717</td>\n",
       "      <td>14.818</td>\n",
       "    </tr>\n",
       "    <tr>\n",
       "      <th>2011-11-26</th>\n",
       "      <td>15.234</td>\n",
       "      <td>6.029</td>\n",
       "      <td>6.964</td>\n",
       "      <td>2.295</td>\n",
       "      <td>4.335</td>\n",
       "      <td>9.606</td>\n",
       "      <td>4.935</td>\n",
       "      <td>9.074</td>\n",
       "      <td>33.384</td>\n",
       "      <td>10.348</td>\n",
       "      <td>16.080</td>\n",
       "      <td>12.442</td>\n",
       "      <td>11.265</td>\n",
       "    </tr>\n",
       "    <tr>\n",
       "      <th>2011-11-27</th>\n",
       "      <td>13.189</td>\n",
       "      <td>5.740</td>\n",
       "      <td>7.912</td>\n",
       "      <td>2.302</td>\n",
       "      <td>4.375</td>\n",
       "      <td>14.387</td>\n",
       "      <td>4.553</td>\n",
       "      <td>9.421</td>\n",
       "      <td>34.204</td>\n",
       "      <td>8.905</td>\n",
       "      <td>16.060</td>\n",
       "      <td>12.964</td>\n",
       "      <td>12.328</td>\n",
       "    </tr>\n",
       "  </tbody>\n",
       "</table>\n",
       "</div>"
      ],
      "text/plain": [
       "Household ID  MAC000145  MAC000146  MAC000147  MAC000148  MAC000149  \\\n",
       "Date                                                                  \n",
       "2011-11-23        8.952      5.619      3.036      1.283      2.287   \n",
       "2011-11-24       12.135      8.564      7.489      2.304      4.331   \n",
       "2011-11-25       13.720      6.743      6.185      2.324      4.373   \n",
       "2011-11-26       15.234      6.029      6.964      2.295      4.335   \n",
       "2011-11-27       13.189      5.740      7.912      2.302      4.375   \n",
       "\n",
       "Household ID  MAC000150  MAC000151  MAC000152  MAC000153  MAC000154  \\\n",
       "Date                                                                  \n",
       "2011-11-23        9.254      3.273      5.969     21.702      5.798   \n",
       "2011-11-24        9.606      4.620      8.394     29.722     10.879   \n",
       "2011-11-25       12.685      4.783      7.898     30.071      9.579   \n",
       "2011-11-26        9.606      4.935      9.074     33.384     10.348   \n",
       "2011-11-27       14.387      4.553      9.421     34.204      8.905   \n",
       "\n",
       "Household ID  MAC000155  MAC000156  MAC000157  \n",
       "Date                                           \n",
       "2011-11-23        9.281      6.523      7.408  \n",
       "2011-11-24       14.481     12.689     14.258  \n",
       "2011-11-25       13.689     10.717     14.818  \n",
       "2011-11-26       16.080     12.442     11.265  \n",
       "2011-11-27       16.060     12.964     12.328  "
      ]
     },
     "execution_count": 16,
     "metadata": {},
     "output_type": "execute_result"
    }
   ],
   "source": [
    "summary_table.head().dropna(axis=1)"
   ]
  },
  {
   "cell_type": "markdown",
   "id": "d1862fa3",
   "metadata": {},
   "source": [
    "Ensuite on peut afficher où on a des données (noir) et où on n'en a pas (blanc)."
   ]
  },
  {
   "cell_type": "code",
   "execution_count": 17,
   "id": "faf7a7c2",
   "metadata": {
    "scrolled": false
   },
   "outputs": [
    {
     "data": {
      "image/png": "[encoded data removed]",
      "text/plain": [
       "<Figure size 1080x864 with 1 Axes>"
      ]
     },
     "metadata": {
      "needs_background": "light"
     },
     "output_type": "display_data"
    }
   ],
   "source": [
    "import matplotlib.pyplot as plt\n",
    "\n",
    "plt.figure(figsize=(15, 12))\n",
    "plt.imshow(summary_table.isna(), aspect=\"auto\", interpolation=\"nearest\", cmap=\"gray\")\n",
    "plt.xlabel(\"Column Number\")\n",
    "plt.ylabel(\"Date Number\");"
   ]
  },
  {
   "cell_type": "markdown",
   "id": "f9059097",
   "metadata": {},
   "source": [
    "Malgré une couverture un peu lacunaire, calculer par tarif sur toutes les résidences par jour devrait nous donner une comparaison utile."
   ]
  },
  {
   "cell_type": "code",
   "execution_count": 18,
   "id": "b5a8dd8f",
   "metadata": {},
   "outputs": [
    {
     "data": {
      "text/html": [
       "<div>\n",
       "<style scoped>\n",
       "    .dataframe tbody tr th:only-of-type {\n",
       "        vertical-align: middle;\n",
       "    }\n",
       "\n",
       "    .dataframe tbody tr th {\n",
       "        vertical-align: top;\n",
       "    }\n",
       "\n",
       "    .dataframe thead th {\n",
       "        text-align: right;\n",
       "    }\n",
       "</style>\n",
       "<table border=\"1\" class=\"dataframe\">\n",
       "  <thead>\n",
       "    <tr style=\"text-align: right;\">\n",
       "      <th>Tariff Type</th>\n",
       "      <th>Std</th>\n",
       "      <th>ToU</th>\n",
       "    </tr>\n",
       "    <tr>\n",
       "      <th>Date</th>\n",
       "      <th></th>\n",
       "      <th></th>\n",
       "    </tr>\n",
       "  </thead>\n",
       "  <tbody>\n",
       "    <tr>\n",
       "      <th>2011-11-23</th>\n",
       "      <td>7.430000</td>\n",
       "      <td>4.327500</td>\n",
       "    </tr>\n",
       "    <tr>\n",
       "      <th>2011-11-24</th>\n",
       "      <td>8.998333</td>\n",
       "      <td>6.111750</td>\n",
       "    </tr>\n",
       "    <tr>\n",
       "      <th>2011-11-25</th>\n",
       "      <td>10.102885</td>\n",
       "      <td>6.886333</td>\n",
       "    </tr>\n",
       "    <tr>\n",
       "      <th>2011-11-26</th>\n",
       "      <td>10.706257</td>\n",
       "      <td>7.709500</td>\n",
       "    </tr>\n",
       "    <tr>\n",
       "      <th>2011-11-27</th>\n",
       "      <td>11.371486</td>\n",
       "      <td>7.813500</td>\n",
       "    </tr>\n",
       "    <tr>\n",
       "      <th>...</th>\n",
       "      <td>...</td>\n",
       "      <td>...</td>\n",
       "    </tr>\n",
       "    <tr>\n",
       "      <th>2014-02-24</th>\n",
       "      <td>10.580187</td>\n",
       "      <td>9.759439</td>\n",
       "    </tr>\n",
       "    <tr>\n",
       "      <th>2014-02-25</th>\n",
       "      <td>10.453365</td>\n",
       "      <td>9.683862</td>\n",
       "    </tr>\n",
       "    <tr>\n",
       "      <th>2014-02-26</th>\n",
       "      <td>10.329026</td>\n",
       "      <td>9.716652</td>\n",
       "    </tr>\n",
       "    <tr>\n",
       "      <th>2014-02-27</th>\n",
       "      <td>10.506416</td>\n",
       "      <td>9.776561</td>\n",
       "    </tr>\n",
       "    <tr>\n",
       "      <th>2014-02-28</th>\n",
       "      <td>0.436149</td>\n",
       "      <td>0.347899</td>\n",
       "    </tr>\n",
       "  </tbody>\n",
       "</table>\n",
       "<p>829 rows × 2 columns</p>\n",
       "</div>"
      ],
      "text/plain": [
       "Tariff Type        Std       ToU\n",
       "Date                            \n",
       "2011-11-23    7.430000  4.327500\n",
       "2011-11-24    8.998333  6.111750\n",
       "2011-11-25   10.102885  6.886333\n",
       "2011-11-26   10.706257  7.709500\n",
       "2011-11-27   11.371486  7.813500\n",
       "...                ...       ...\n",
       "2014-02-24   10.580187  9.759439\n",
       "2014-02-25   10.453365  9.683862\n",
       "2014-02-26   10.329026  9.716652\n",
       "2014-02-27   10.506416  9.776561\n",
       "2014-02-28    0.436149  0.347899\n",
       "\n",
       "[829 rows x 2 columns]"
      ]
     },
     "execution_count": 18,
     "metadata": {},
     "output_type": "execute_result"
    }
   ],
   "source": [
    "daily_mean_by_tariff_type = daily_summary.pivot_table(\n",
    "    'kWh',\n",
    "    index='Date',\n",
    "    columns='Tariff Type',\n",
    "    aggfunc='mean'\n",
    ")\n",
    "daily_mean_by_tariff_type"
   ]
  },
  {
   "cell_type": "markdown",
   "id": "d9439d76",
   "metadata": {},
   "source": [
    "Finalement on peut tracer les deux groupes de données. Le traçage marche mieux si on convertit la date de type `string` en type `datetime`."
   ]
  },
  {
   "cell_type": "code",
   "execution_count": 19,
   "id": "ca169a40",
   "metadata": {},
   "outputs": [],
   "source": [
    "daily_mean_by_tariff_type.index = pd.to_datetime(daily_mean_by_tariff_type.index)"
   ]
  },
  {
   "cell_type": "code",
   "execution_count": 20,
   "id": "f2aa9261",
   "metadata": {
    "scrolled": true
   },
   "outputs": [
    {
     "data": {
      "image/png": "[encoded data removed]",
      "text/plain": [
       "<Figure size 1152x360 with 1 Axes>"
      ]
     },
     "metadata": {},
     "output_type": "display_data"
    }
   ],
   "source": [
    "plt.style.use('seaborn-whitegrid')\n",
    "\n",
    "plt.figure(figsize=(16, 5), facecolor='floralwhite')\n",
    "for tariff in daily_mean_by_tariff_type.columns.to_list():\n",
    "    plt.plot(\n",
    "        daily_mean_by_tariff_type.index.values,\n",
    "        daily_mean_by_tariff_type[tariff],\n",
    "        label = tariff\n",
    "    )\n",
    "\n",
    "plt.legend(loc='center', frameon=True, facecolor='whitesmoke', framealpha=1, fontsize=14)\n",
    "plt.title(\n",
    "    'Mean daily energy consumption by household group',\n",
    "    fontdict = {'fontsize' : 16, 'fontweight' : 'bold'}\n",
    ")\n",
    "plt.xlabel('Date', fontsize = 14)\n",
    "plt.ylabel('kWH', fontsize = 14)\n",
    "plt.show()"
   ]
  },
  {
   "cell_type": "markdown",
   "id": "bb749ef5",
   "metadata": {},
   "source": [
    "On dirait que la variation est saisonnière qui n'est pas étonnant vu la demande d'énergie de chauffage.\n",
    "\n",
    "On dirait aussi qu'il y a une différence entre les deux groupes: le groupe ToU a l'air de consommer moins, mais l'affichage est trop granulaire pour voir bien. Agégeons encore une fois, cette fois-ci par mois."
   ]
  },
  {
   "cell_type": "code",
   "execution_count": 21,
   "id": "00239705",
   "metadata": {
    "scrolled": false
   },
   "outputs": [
    {
     "data": {
      "text/html": [
       "<div>\n",
       "<style scoped>\n",
       "    .dataframe tbody tr th:only-of-type {\n",
       "        vertical-align: middle;\n",
       "    }\n",
       "\n",
       "    .dataframe tbody tr th {\n",
       "        vertical-align: top;\n",
       "    }\n",
       "\n",
       "    .dataframe thead th {\n",
       "        text-align: right;\n",
       "    }\n",
       "</style>\n",
       "<table border=\"1\" class=\"dataframe\">\n",
       "  <thead>\n",
       "    <tr style=\"text-align: right;\">\n",
       "      <th>Tariff Type</th>\n",
       "      <th>Std</th>\n",
       "      <th>ToU</th>\n",
       "    </tr>\n",
       "    <tr>\n",
       "      <th>Date</th>\n",
       "      <th></th>\n",
       "      <th></th>\n",
       "    </tr>\n",
       "  </thead>\n",
       "  <tbody>\n",
       "    <tr>\n",
       "      <th>2011-11-23</th>\n",
       "      <td>7.430000</td>\n",
       "      <td>4.327500</td>\n",
       "    </tr>\n",
       "    <tr>\n",
       "      <th>2011-11-24</th>\n",
       "      <td>8.998333</td>\n",
       "      <td>6.111750</td>\n",
       "    </tr>\n",
       "    <tr>\n",
       "      <th>2011-11-25</th>\n",
       "      <td>10.102885</td>\n",
       "      <td>6.886333</td>\n",
       "    </tr>\n",
       "    <tr>\n",
       "      <th>2011-11-26</th>\n",
       "      <td>10.706257</td>\n",
       "      <td>7.709500</td>\n",
       "    </tr>\n",
       "    <tr>\n",
       "      <th>2011-11-27</th>\n",
       "      <td>11.371486</td>\n",
       "      <td>7.813500</td>\n",
       "    </tr>\n",
       "    <tr>\n",
       "      <th>...</th>\n",
       "      <td>...</td>\n",
       "      <td>...</td>\n",
       "    </tr>\n",
       "    <tr>\n",
       "      <th>2014-02-24</th>\n",
       "      <td>10.580187</td>\n",
       "      <td>9.759439</td>\n",
       "    </tr>\n",
       "    <tr>\n",
       "      <th>2014-02-25</th>\n",
       "      <td>10.453365</td>\n",
       "      <td>9.683862</td>\n",
       "    </tr>\n",
       "    <tr>\n",
       "      <th>2014-02-26</th>\n",
       "      <td>10.329026</td>\n",
       "      <td>9.716652</td>\n",
       "    </tr>\n",
       "    <tr>\n",
       "      <th>2014-02-27</th>\n",
       "      <td>10.506416</td>\n",
       "      <td>9.776561</td>\n",
       "    </tr>\n",
       "    <tr>\n",
       "      <th>2014-02-28</th>\n",
       "      <td>0.436149</td>\n",
       "      <td>0.347899</td>\n",
       "    </tr>\n",
       "  </tbody>\n",
       "</table>\n",
       "<p>829 rows × 2 columns</p>\n",
       "</div>"
      ],
      "text/plain": [
       "Tariff Type        Std       ToU\n",
       "Date                            \n",
       "2011-11-23    7.430000  4.327500\n",
       "2011-11-24    8.998333  6.111750\n",
       "2011-11-25   10.102885  6.886333\n",
       "2011-11-26   10.706257  7.709500\n",
       "2011-11-27   11.371486  7.813500\n",
       "...                ...       ...\n",
       "2014-02-24   10.580187  9.759439\n",
       "2014-02-25   10.453365  9.683862\n",
       "2014-02-26   10.329026  9.716652\n",
       "2014-02-27   10.506416  9.776561\n",
       "2014-02-28    0.436149  0.347899\n",
       "\n",
       "[829 rows x 2 columns]"
      ]
     },
     "execution_count": 21,
     "metadata": {},
     "output_type": "execute_result"
    }
   ],
   "source": [
    "daily_mean_by_tariff_type"
   ]
  },
  {
   "cell_type": "markdown",
   "id": "c1be233a",
   "metadata": {},
   "source": [
    "On voit que les données commencent au cours de novembre 2011, donc on commencera le 1 décembre. On dirait que les données terminent parfaitement à la fin de février, mais la dernière valeur est suspecte puisqu'elle est très basse comparé aux autres. Il paraît probable que les données ont terminé au cours de la dernière journée, donc on finira à la fin de janvier. Peut-être qu'on a le même problème ailleurs dans les données, mais l'effet ne devrait pas être énorme parce que dans le pire des cas la consommation mensuelle d'une résidence sera réduite par deux journées (une au début et une à la fin)."
   ]
  },
  {
   "cell_type": "code",
   "execution_count": 22,
   "id": "67a593af",
   "metadata": {},
   "outputs": [
    {
     "data": {
      "text/html": [
       "<div>\n",
       "<style scoped>\n",
       "    .dataframe tbody tr th:only-of-type {\n",
       "        vertical-align: middle;\n",
       "    }\n",
       "\n",
       "    .dataframe tbody tr th {\n",
       "        vertical-align: top;\n",
       "    }\n",
       "\n",
       "    .dataframe thead th {\n",
       "        text-align: right;\n",
       "    }\n",
       "</style>\n",
       "<table border=\"1\" class=\"dataframe\">\n",
       "  <thead>\n",
       "    <tr style=\"text-align: right;\">\n",
       "      <th>Tariff Type</th>\n",
       "      <th>Std</th>\n",
       "      <th>ToU</th>\n",
       "    </tr>\n",
       "    <tr>\n",
       "      <th>Date</th>\n",
       "      <th></th>\n",
       "      <th></th>\n",
       "    </tr>\n",
       "  </thead>\n",
       "  <tbody>\n",
       "    <tr>\n",
       "      <th>2011-12-31</th>\n",
       "      <td>377.443042</td>\n",
       "      <td>365.391597</td>\n",
       "    </tr>\n",
       "    <tr>\n",
       "      <th>2012-01-31</th>\n",
       "      <td>401.744672</td>\n",
       "      <td>386.253703</td>\n",
       "    </tr>\n",
       "    <tr>\n",
       "      <th>2012-02-29</th>\n",
       "      <td>395.294296</td>\n",
       "      <td>368.663764</td>\n",
       "    </tr>\n",
       "    <tr>\n",
       "      <th>2012-03-31</th>\n",
       "      <td>349.367317</td>\n",
       "      <td>331.095386</td>\n",
       "    </tr>\n",
       "    <tr>\n",
       "      <th>2012-04-30</th>\n",
       "      <td>314.323216</td>\n",
       "      <td>297.032370</td>\n",
       "    </tr>\n",
       "    <tr>\n",
       "      <th>2012-05-31</th>\n",
       "      <td>281.796440</td>\n",
       "      <td>263.812879</td>\n",
       "    </tr>\n",
       "    <tr>\n",
       "      <th>2012-06-30</th>\n",
       "      <td>257.333248</td>\n",
       "      <td>238.532452</td>\n",
       "    </tr>\n",
       "    <tr>\n",
       "      <th>2012-07-31</th>\n",
       "      <td>260.359313</td>\n",
       "      <td>244.757999</td>\n",
       "    </tr>\n",
       "    <tr>\n",
       "      <th>2012-08-31</th>\n",
       "      <td>254.085724</td>\n",
       "      <td>239.041805</td>\n",
       "    </tr>\n",
       "    <tr>\n",
       "      <th>2012-09-30</th>\n",
       "      <td>266.515247</td>\n",
       "      <td>248.820055</td>\n",
       "    </tr>\n",
       "    <tr>\n",
       "      <th>2012-10-31</th>\n",
       "      <td>318.361735</td>\n",
       "      <td>299.849633</td>\n",
       "    </tr>\n",
       "    <tr>\n",
       "      <th>2012-11-30</th>\n",
       "      <td>348.007365</td>\n",
       "      <td>326.831890</td>\n",
       "    </tr>\n",
       "    <tr>\n",
       "      <th>2012-12-31</th>\n",
       "      <td>390.864676</td>\n",
       "      <td>364.969958</td>\n",
       "    </tr>\n",
       "    <tr>\n",
       "      <th>2013-01-31</th>\n",
       "      <td>398.275908</td>\n",
       "      <td>366.779573</td>\n",
       "    </tr>\n",
       "    <tr>\n",
       "      <th>2013-02-28</th>\n",
       "      <td>352.440444</td>\n",
       "      <td>325.489548</td>\n",
       "    </tr>\n",
       "    <tr>\n",
       "      <th>2013-03-31</th>\n",
       "      <td>381.472409</td>\n",
       "      <td>351.591760</td>\n",
       "    </tr>\n",
       "    <tr>\n",
       "      <th>2013-04-30</th>\n",
       "      <td>308.005098</td>\n",
       "      <td>277.976132</td>\n",
       "    </tr>\n",
       "    <tr>\n",
       "      <th>2013-05-31</th>\n",
       "      <td>280.934227</td>\n",
       "      <td>256.428977</td>\n",
       "    </tr>\n",
       "    <tr>\n",
       "      <th>2013-06-30</th>\n",
       "      <td>254.542531</td>\n",
       "      <td>234.591000</td>\n",
       "    </tr>\n",
       "    <tr>\n",
       "      <th>2013-07-31</th>\n",
       "      <td>252.761147</td>\n",
       "      <td>234.224724</td>\n",
       "    </tr>\n",
       "    <tr>\n",
       "      <th>2013-08-31</th>\n",
       "      <td>247.190593</td>\n",
       "      <td>231.464453</td>\n",
       "    </tr>\n",
       "    <tr>\n",
       "      <th>2013-09-30</th>\n",
       "      <td>267.165424</td>\n",
       "      <td>245.707678</td>\n",
       "    </tr>\n",
       "    <tr>\n",
       "      <th>2013-10-31</th>\n",
       "      <td>299.703934</td>\n",
       "      <td>274.464114</td>\n",
       "    </tr>\n",
       "    <tr>\n",
       "      <th>2013-11-30</th>\n",
       "      <td>338.317167</td>\n",
       "      <td>307.131828</td>\n",
       "    </tr>\n",
       "    <tr>\n",
       "      <th>2013-12-31</th>\n",
       "      <td>369.630558</td>\n",
       "      <td>337.524715</td>\n",
       "    </tr>\n",
       "    <tr>\n",
       "      <th>2014-01-31</th>\n",
       "      <td>364.460042</td>\n",
       "      <td>331.767440</td>\n",
       "    </tr>\n",
       "  </tbody>\n",
       "</table>\n",
       "</div>"
      ],
      "text/plain": [
       "Tariff Type         Std         ToU\n",
       "Date                               \n",
       "2011-12-31   377.443042  365.391597\n",
       "2012-01-31   401.744672  386.253703\n",
       "2012-02-29   395.294296  368.663764\n",
       "2012-03-31   349.367317  331.095386\n",
       "2012-04-30   314.323216  297.032370\n",
       "2012-05-31   281.796440  263.812879\n",
       "2012-06-30   257.333248  238.532452\n",
       "2012-07-31   260.359313  244.757999\n",
       "2012-08-31   254.085724  239.041805\n",
       "2012-09-30   266.515247  248.820055\n",
       "2012-10-31   318.361735  299.849633\n",
       "2012-11-30   348.007365  326.831890\n",
       "2012-12-31   390.864676  364.969958\n",
       "2013-01-31   398.275908  366.779573\n",
       "2013-02-28   352.440444  325.489548\n",
       "2013-03-31   381.472409  351.591760\n",
       "2013-04-30   308.005098  277.976132\n",
       "2013-05-31   280.934227  256.428977\n",
       "2013-06-30   254.542531  234.591000\n",
       "2013-07-31   252.761147  234.224724\n",
       "2013-08-31   247.190593  231.464453\n",
       "2013-09-30   267.165424  245.707678\n",
       "2013-10-31   299.703934  274.464114\n",
       "2013-11-30   338.317167  307.131828\n",
       "2013-12-31   369.630558  337.524715\n",
       "2014-01-31   364.460042  331.767440"
      ]
     },
     "execution_count": 22,
     "metadata": {},
     "output_type": "execute_result"
    }
   ],
   "source": [
    "monthly_mean_by_tariff_type = daily_mean_by_tariff_type['2011-12-01' : '2014-01-31'].resample('M').sum()\n",
    "monthly_mean_by_tariff_type"
   ]
  },
  {
   "cell_type": "code",
   "execution_count": 23,
   "id": "164e03ac",
   "metadata": {
    "scrolled": false
   },
   "outputs": [
    {
     "data": {
      "image/png": "[encoded data removed]",
      "text/plain": [
       "<Figure size 1152x360 with 1 Axes>"
      ]
     },
     "metadata": {},
     "output_type": "display_data"
    }
   ],
   "source": [
    "plt.figure(figsize=(16, 5), facecolor='floralwhite')\n",
    "for tariff in daily_mean_by_tariff_type.columns.to_list():\n",
    "    plt.plot(\n",
    "        monthly_mean_by_tariff_type.index.values,\n",
    "        monthly_mean_by_tariff_type[tariff],\n",
    "        label = tariff\n",
    "    )\n",
    "\n",
    "plt.legend(loc='lower left', frameon=True, facecolor='whitesmoke', framealpha=1, fontsize=14)\n",
    "plt.title(\n",
    "    'Monthly energy consumption by household group',\n",
    "    fontdict = {'fontsize' : 16, 'fontweight' : 'bold'}\n",
    ")\n",
    "plt.xlabel('Month', fontsize = 14)\n",
    "plt.ylabel('kWH', fontsize = 14)\n",
    "\n",
    "# Uncomment for a copy to display in results\n",
    "# plt.savefig(fname='images/result1.png', bbox_inches='tight')\n",
    "\n",
    "plt.show()"
   ]
  },
  {
   "cell_type": "markdown",
   "id": "242bfee9",
   "metadata": {},
   "source": [
    "Le diagramme est plus clair et il y a une différence evidente entre les deux groupes.\n",
    "\n",
    "Veuillez noter que le diagramme ne montre pas la consommation mensuelle moyenne. Il montre la somme des moyennes journalières pour chaque mois. Pour calculer les vraies moyennes mensuelles on aurait besoin d'exclure les données journalières pour chaque résidence pendant les mois où les données n'étaient pas complètes. Notre méthode plus simple devrait nous donner une bonne approximation."
   ]
  }
 ],
 "metadata": {
  "kernelspec": {
   "display_name": "Python [conda env:datascience]",
   "language": "python",
   "name": "conda-env-datascience-py"
  },
  "language_info": {
   "codemirror_mode": {
    "name": "ipython",
    "version": 3
   },
   "file_extension": ".py",
   "mimetype": "text/x-python",
   "name": "python",
   "nbconvert_exporter": "python",
   "pygments_lexer": "ipython3",
   "version": "3.9.12"
  }
 },
 "nbformat": 4,
 "nbformat_minor": 5
}
