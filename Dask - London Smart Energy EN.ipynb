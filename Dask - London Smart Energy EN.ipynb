{
 "cells": [
  {
   "cell_type": "markdown",
   "id": "1410c62f",
   "metadata": {},
   "source": [
    "## Introduction"
   ]
  },
  {
   "cell_type": "markdown",
   "id": "e0b80a2b",
   "metadata": {},
   "source": [
    "This is the ***second*** of a series where I look at big datasets, and in each case I'm using a different tool to carry out the same analysis on the same dataset.\n",
    "\n",
    "This time I'm using the **Dask library** for parallel computing to manage a large file size. You can find each notebook in the series in my [Github repo](https://github.com/jlad26/london-smart-energy), including:\n",
    "1. Pandas chunksize\n",
    "1. Dask library\n",
    "\n",
    "There is a little more explanation in the first notebook (Pandas chunksize) on the overall approach to the analysis. In the other notebooks I focus more on the elements specific to the tool being used."
   ]
  },
  {
   "cell_type": "markdown",
   "id": "165bd05c",
   "metadata": {},
   "source": [
    "## Dataset description"
   ]
  },
  {
   "cell_type": "markdown",
   "id": "bc66d945",
   "metadata": {},
   "source": [
    "Throughout the series we'll use the [SmartMeter Energy Consumption Data in London Households](https://data.london.gov.uk/dataset/smartmeter-energy-use-data-in-london-households) dataset, which according to the website contains:\n",
    ">Energy consumption readings for a sample of 5,567 London Households that took part in the UK Power Networks led Low Carbon London project between November 2011 and February 2014.\n",
    "\n",
    "The households were divided into two groups:\n",
    "- Those who were sent Dynamic Time of Use (dToU) energy prices (labelled \"High\", \"Medium\", or \"Low\") a day in advance of the price being applied.\n",
    "- Those who were subject to the Standard tariff.\n",
    "\n",
    "One aim of the study was to see if pricing knowledge would affect energy consumption behaviour."
   ]
  },
  {
   "cell_type": "markdown",
   "id": "2234bfbc",
   "metadata": {},
   "source": [
    "## Results"
   ]
  },
  {
   "cell_type": "markdown",
   "id": "3d7e6c5b",
   "metadata": {},
   "source": [
    "<img src=\"images/result1.png\" width=\"100%\"/>"
   ]
  },
  {
   "cell_type": "markdown",
   "id": "65fe16ee",
   "metadata": {},
   "source": [
    "The results show the expected seasonal variation with a clear difference between the two groups, suggesting that energy price knowledge does indeed help reduce energy consumption.\n",
    "\n",
    "The rest of the notebook shows how this chart was produced from the raw data."
   ]
  },
  {
   "cell_type": "markdown",
   "id": "5f419044",
   "metadata": {},
   "source": [
    "## Introduction to Dask"
   ]
  },
  {
   "cell_type": "markdown",
   "id": "6a86dbfc",
   "metadata": {},
   "source": [
    "According to the docs:\n",
    ">*Dask is a flexible library for parallel computing in Python*\n",
    ">\n",
    ">Dask is composed of two parts:\n",
    ">\n",
    ">- Dynamic task scheduling optimized for computation. This is similar to Airflow, Luigi, Celery, or Make, but optimized for interactive computational workloads.\n",
    ">\n",
    ">- “Big Data” collections like parallel arrays, dataframes, and lists that extend common interfaces like NumPy, Pandas, or Python iterators to larger-than-memory or distributed environments. These parallel collections run on top of dynamic task schedulers.\n",
    "\n",
    "This means that not only can we process larger-than-memory files, but unlike the pandas chunksize approach, we can also make use of clusters - or multiple CPU cores when working on a single machine."
   ]
  },
  {
   "cell_type": "markdown",
   "id": "acbc10a3",
   "metadata": {},
   "source": [
    "## Accessing the data"
   ]
  },
  {
   "cell_type": "markdown",
   "id": "049cbec4",
   "metadata": {},
   "source": [
    "The data is downloadable as a single zip file which contains a csv file of 167 million rows. If the `curl` command doesn't work (and it will take a while as it's a file of 800MB), you can download the file [here](https://data.london.gov.uk/download/smartmeter-energy-use-data-in-london-households/3527bf39-d93e-4071-8451-df2ade1ea4f2/LCL-FullData.zip) and put it in the folder `data` which is in the folder where this notebook is saved."
   ]
  },
  {
   "cell_type": "code",
   "execution_count": null,
   "id": "629e91da",
   "metadata": {},
   "outputs": [],
   "source": [
    "!curl \"https://data.london.gov.uk/download/smartmeter-energy-use-data-in-london-households/3527bf39-d93e-4071-8451-df2ade1ea4f2/LCL-FullData.zip\" --location --create-dirs -o \"data/LCL-FullData.zip\""
   ]
  },
  {
   "cell_type": "markdown",
   "id": "0f707dd7",
   "metadata": {},
   "source": [
    "First we unzip the data. This may take a while! Alternatively you can unzip it manually using whatever unzip utility you have. Just make sure the extracted file is in a folder called `data` within the folder where your notebook is saved."
   ]
  },
  {
   "cell_type": "code",
   "execution_count": 1,
   "id": "75a084b6",
   "metadata": {},
   "outputs": [
    {
     "name": "stdout",
     "output_type": "stream",
     "text": [
      "Archive:  data/LCL-FullData.zip\n",
      "  inflating: data/CC_LCL-FullData.csv  \n"
     ]
    }
   ],
   "source": [
    "!unzip \"data/LCL-FullData.zip\" -d \"data\""
   ]
  },
  {
   "cell_type": "markdown",
   "id": "36406e60",
   "metadata": {},
   "source": [
    "## Examining the data"
   ]
  },
  {
   "cell_type": "code",
   "execution_count": 2,
   "id": "72052795",
   "metadata": {},
   "outputs": [],
   "source": [
    "import pandas as pd\n",
    "from dask import dataframe as dd"
   ]
  },
  {
   "cell_type": "markdown",
   "id": "570dea7f",
   "metadata": {},
   "source": [
    "Now let's load the data into a Dask dataframe."
   ]
  },
  {
   "cell_type": "code",
   "execution_count": 3,
   "id": "608101c8",
   "metadata": {},
   "outputs": [
    {
     "data": {
      "text/html": [
       "<div><strong>Dask DataFrame Structure:</strong></div>\n",
       "<div>\n",
       "<style scoped>\n",
       "    .dataframe tbody tr th:only-of-type {\n",
       "        vertical-align: middle;\n",
       "    }\n",
       "\n",
       "    .dataframe tbody tr th {\n",
       "        vertical-align: top;\n",
       "    }\n",
       "\n",
       "    .dataframe thead th {\n",
       "        text-align: right;\n",
       "    }\n",
       "</style>\n",
       "<table border=\"1\" class=\"dataframe\">\n",
       "  <thead>\n",
       "    <tr style=\"text-align: right;\">\n",
       "      <th></th>\n",
       "      <th>LCLid</th>\n",
       "      <th>stdorToU</th>\n",
       "      <th>DateTime</th>\n",
       "      <th>KWH/hh (per half hour)</th>\n",
       "    </tr>\n",
       "    <tr>\n",
       "      <th>npartitions=133</th>\n",
       "      <th></th>\n",
       "      <th></th>\n",
       "      <th></th>\n",
       "      <th></th>\n",
       "    </tr>\n",
       "  </thead>\n",
       "  <tbody>\n",
       "    <tr>\n",
       "      <th></th>\n",
       "      <td>object</td>\n",
       "      <td>object</td>\n",
       "      <td>object</td>\n",
       "      <td>int64</td>\n",
       "    </tr>\n",
       "    <tr>\n",
       "      <th></th>\n",
       "      <td>...</td>\n",
       "      <td>...</td>\n",
       "      <td>...</td>\n",
       "      <td>...</td>\n",
       "    </tr>\n",
       "    <tr>\n",
       "      <th>...</th>\n",
       "      <td>...</td>\n",
       "      <td>...</td>\n",
       "      <td>...</td>\n",
       "      <td>...</td>\n",
       "    </tr>\n",
       "    <tr>\n",
       "      <th></th>\n",
       "      <td>...</td>\n",
       "      <td>...</td>\n",
       "      <td>...</td>\n",
       "      <td>...</td>\n",
       "    </tr>\n",
       "    <tr>\n",
       "      <th></th>\n",
       "      <td>...</td>\n",
       "      <td>...</td>\n",
       "      <td>...</td>\n",
       "      <td>...</td>\n",
       "    </tr>\n",
       "  </tbody>\n",
       "</table>\n",
       "</div>\n",
       "<div>Dask Name: read-csv, 133 tasks</div>"
      ],
      "text/plain": [
       "Dask DataFrame Structure:\n",
       "                  LCLid stdorToU DateTime KWH/hh (per half hour) \n",
       "npartitions=133                                                  \n",
       "                 object   object   object                   int64\n",
       "                    ...      ...      ...                     ...\n",
       "...                 ...      ...      ...                     ...\n",
       "                    ...      ...      ...                     ...\n",
       "                    ...      ...      ...                     ...\n",
       "Dask Name: read-csv, 133 tasks"
      ]
     },
     "execution_count": 3,
     "metadata": {},
     "output_type": "execute_result"
    }
   ],
   "source": [
    "raw_data_ddf = dd.read_csv('data/CC_LCL-FullData.csv')\n",
    "raw_data_ddf"
   ]
  },
  {
   "cell_type": "markdown",
   "id": "e695a321",
   "metadata": {},
   "source": [
    "Viewing the dataframe shows that Dask has divided our data into 133 partitions. Dask has also \"guessed\" the data types by taking a sample of data. Leaving the dataframe as it is will eventually cause errors, because the kWh data is a mix of numbers and 'Null' string values.\n",
    "\n",
    "As a first step we can specify the kWh data type, using `object` to handle strings."
   ]
  },
  {
   "cell_type": "code",
   "execution_count": 4,
   "id": "6ba84af8",
   "metadata": {},
   "outputs": [
    {
     "data": {
      "text/html": [
       "<div><strong>Dask DataFrame Structure:</strong></div>\n",
       "<div>\n",
       "<style scoped>\n",
       "    .dataframe tbody tr th:only-of-type {\n",
       "        vertical-align: middle;\n",
       "    }\n",
       "\n",
       "    .dataframe tbody tr th {\n",
       "        vertical-align: top;\n",
       "    }\n",
       "\n",
       "    .dataframe thead th {\n",
       "        text-align: right;\n",
       "    }\n",
       "</style>\n",
       "<table border=\"1\" class=\"dataframe\">\n",
       "  <thead>\n",
       "    <tr style=\"text-align: right;\">\n",
       "      <th></th>\n",
       "      <th>LCLid</th>\n",
       "      <th>stdorToU</th>\n",
       "      <th>DateTime</th>\n",
       "      <th>KWH/hh (per half hour)</th>\n",
       "    </tr>\n",
       "    <tr>\n",
       "      <th>npartitions=133</th>\n",
       "      <th></th>\n",
       "      <th></th>\n",
       "      <th></th>\n",
       "      <th></th>\n",
       "    </tr>\n",
       "  </thead>\n",
       "  <tbody>\n",
       "    <tr>\n",
       "      <th></th>\n",
       "      <td>object</td>\n",
       "      <td>object</td>\n",
       "      <td>object</td>\n",
       "      <td>object</td>\n",
       "    </tr>\n",
       "    <tr>\n",
       "      <th></th>\n",
       "      <td>...</td>\n",
       "      <td>...</td>\n",
       "      <td>...</td>\n",
       "      <td>...</td>\n",
       "    </tr>\n",
       "    <tr>\n",
       "      <th>...</th>\n",
       "      <td>...</td>\n",
       "      <td>...</td>\n",
       "      <td>...</td>\n",
       "      <td>...</td>\n",
       "    </tr>\n",
       "    <tr>\n",
       "      <th></th>\n",
       "      <td>...</td>\n",
       "      <td>...</td>\n",
       "      <td>...</td>\n",
       "      <td>...</td>\n",
       "    </tr>\n",
       "    <tr>\n",
       "      <th></th>\n",
       "      <td>...</td>\n",
       "      <td>...</td>\n",
       "      <td>...</td>\n",
       "      <td>...</td>\n",
       "    </tr>\n",
       "  </tbody>\n",
       "</table>\n",
       "</div>\n",
       "<div>Dask Name: read-csv, 133 tasks</div>"
      ],
      "text/plain": [
       "Dask DataFrame Structure:\n",
       "                  LCLid stdorToU DateTime KWH/hh (per half hour) \n",
       "npartitions=133                                                  \n",
       "                 object   object   object                  object\n",
       "                    ...      ...      ...                     ...\n",
       "...                 ...      ...      ...                     ...\n",
       "                    ...      ...      ...                     ...\n",
       "                    ...      ...      ...                     ...\n",
       "Dask Name: read-csv, 133 tasks"
      ]
     },
     "execution_count": 4,
     "metadata": {},
     "output_type": "execute_result"
    }
   ],
   "source": [
    "raw_data_ddf = dd.read_csv(\n",
    "    'data/CC_LCL-FullData.csv',\n",
    "    dtype={'KWH/hh (per half hour) ': 'object'}\n",
    ")\n",
    "raw_data_ddf"
   ]
  },
  {
   "cell_type": "markdown",
   "id": "03c3fde8",
   "metadata": {},
   "source": [
    "We rename the columns to make them more readable."
   ]
  },
  {
   "cell_type": "code",
   "execution_count": 5,
   "id": "fec7375a",
   "metadata": {},
   "outputs": [],
   "source": [
    "col_renaming = {\n",
    "    'LCLid' : 'Household ID',\n",
    "    'stdorToU' : 'Tariff Type',\n",
    "    'KWH/hh (per half hour) ' : 'kWh'\n",
    "}\n",
    "full_data_ddf = raw_data_ddf.rename(columns=col_renaming)"
   ]
  },
  {
   "cell_type": "markdown",
   "id": "7e597616",
   "metadata": {},
   "source": [
    "Let's work on a small subset of the data (10,000 rows) to develop each processing step."
   ]
  },
  {
   "cell_type": "code",
   "execution_count": 6,
   "id": "60be64bc",
   "metadata": {},
   "outputs": [
    {
     "data": {
      "text/html": [
       "<div>\n",
       "<style scoped>\n",
       "    .dataframe tbody tr th:only-of-type {\n",
       "        vertical-align: middle;\n",
       "    }\n",
       "\n",
       "    .dataframe tbody tr th {\n",
       "        vertical-align: top;\n",
       "    }\n",
       "\n",
       "    .dataframe thead th {\n",
       "        text-align: right;\n",
       "    }\n",
       "</style>\n",
       "<table border=\"1\" class=\"dataframe\">\n",
       "  <thead>\n",
       "    <tr style=\"text-align: right;\">\n",
       "      <th></th>\n",
       "      <th>Household ID</th>\n",
       "      <th>Tariff Type</th>\n",
       "      <th>DateTime</th>\n",
       "      <th>kWh</th>\n",
       "    </tr>\n",
       "  </thead>\n",
       "  <tbody>\n",
       "    <tr>\n",
       "      <th>0</th>\n",
       "      <td>MAC000002</td>\n",
       "      <td>Std</td>\n",
       "      <td>2012-10-12 00:30:00.0000000</td>\n",
       "      <td>0</td>\n",
       "    </tr>\n",
       "    <tr>\n",
       "      <th>1</th>\n",
       "      <td>MAC000002</td>\n",
       "      <td>Std</td>\n",
       "      <td>2012-10-12 01:00:00.0000000</td>\n",
       "      <td>0</td>\n",
       "    </tr>\n",
       "    <tr>\n",
       "      <th>2</th>\n",
       "      <td>MAC000002</td>\n",
       "      <td>Std</td>\n",
       "      <td>2012-10-12 01:30:00.0000000</td>\n",
       "      <td>0</td>\n",
       "    </tr>\n",
       "    <tr>\n",
       "      <th>3</th>\n",
       "      <td>MAC000002</td>\n",
       "      <td>Std</td>\n",
       "      <td>2012-10-12 02:00:00.0000000</td>\n",
       "      <td>0</td>\n",
       "    </tr>\n",
       "    <tr>\n",
       "      <th>4</th>\n",
       "      <td>MAC000002</td>\n",
       "      <td>Std</td>\n",
       "      <td>2012-10-12 02:30:00.0000000</td>\n",
       "      <td>0</td>\n",
       "    </tr>\n",
       "    <tr>\n",
       "      <th>...</th>\n",
       "      <td>...</td>\n",
       "      <td>...</td>\n",
       "      <td>...</td>\n",
       "      <td>...</td>\n",
       "    </tr>\n",
       "    <tr>\n",
       "      <th>9995</th>\n",
       "      <td>MAC000002</td>\n",
       "      <td>Std</td>\n",
       "      <td>2013-05-09 03:30:00.0000000</td>\n",
       "      <td>0.09</td>\n",
       "    </tr>\n",
       "    <tr>\n",
       "      <th>9996</th>\n",
       "      <td>MAC000002</td>\n",
       "      <td>Std</td>\n",
       "      <td>2013-05-09 04:00:00.0000000</td>\n",
       "      <td>0.114</td>\n",
       "    </tr>\n",
       "    <tr>\n",
       "      <th>9997</th>\n",
       "      <td>MAC000002</td>\n",
       "      <td>Std</td>\n",
       "      <td>2013-05-09 04:30:00.0000000</td>\n",
       "      <td>0.105</td>\n",
       "    </tr>\n",
       "    <tr>\n",
       "      <th>9998</th>\n",
       "      <td>MAC000002</td>\n",
       "      <td>Std</td>\n",
       "      <td>2013-05-09 05:00:00.0000000</td>\n",
       "      <td>0.099</td>\n",
       "    </tr>\n",
       "    <tr>\n",
       "      <th>9999</th>\n",
       "      <td>MAC000002</td>\n",
       "      <td>Std</td>\n",
       "      <td>2013-05-09 05:30:00.0000000</td>\n",
       "      <td>0.117</td>\n",
       "    </tr>\n",
       "  </tbody>\n",
       "</table>\n",
       "<p>10000 rows × 4 columns</p>\n",
       "</div>"
      ],
      "text/plain": [
       "     Household ID Tariff Type                     DateTime      kWh\n",
       "0       MAC000002         Std  2012-10-12 00:30:00.0000000       0 \n",
       "1       MAC000002         Std  2012-10-12 01:00:00.0000000       0 \n",
       "2       MAC000002         Std  2012-10-12 01:30:00.0000000       0 \n",
       "3       MAC000002         Std  2012-10-12 02:00:00.0000000       0 \n",
       "4       MAC000002         Std  2012-10-12 02:30:00.0000000       0 \n",
       "...           ...         ...                          ...      ...\n",
       "9995    MAC000002         Std  2013-05-09 03:30:00.0000000    0.09 \n",
       "9996    MAC000002         Std  2013-05-09 04:00:00.0000000   0.114 \n",
       "9997    MAC000002         Std  2013-05-09 04:30:00.0000000   0.105 \n",
       "9998    MAC000002         Std  2013-05-09 05:00:00.0000000   0.099 \n",
       "9999    MAC000002         Std  2013-05-09 05:30:00.0000000   0.117 \n",
       "\n",
       "[10000 rows x 4 columns]"
      ]
     },
     "execution_count": 6,
     "metadata": {},
     "output_type": "execute_result"
    }
   ],
   "source": [
    "test_data = full_data_ddf.head(10000)\n",
    "test_data"
   ]
  },
  {
   "cell_type": "markdown",
   "id": "0fc2fcc0",
   "metadata": {},
   "source": [
    "We need to convert this data back into a Dask dataframe. We'll split it into 2 partitions so we know we are testing across partitions."
   ]
  },
  {
   "cell_type": "code",
   "execution_count": 7,
   "id": "bf60447b",
   "metadata": {
    "scrolled": false
   },
   "outputs": [
    {
     "data": {
      "text/html": [
       "<div><strong>Dask DataFrame Structure:</strong></div>\n",
       "<div>\n",
       "<style scoped>\n",
       "    .dataframe tbody tr th:only-of-type {\n",
       "        vertical-align: middle;\n",
       "    }\n",
       "\n",
       "    .dataframe tbody tr th {\n",
       "        vertical-align: top;\n",
       "    }\n",
       "\n",
       "    .dataframe thead th {\n",
       "        text-align: right;\n",
       "    }\n",
       "</style>\n",
       "<table border=\"1\" class=\"dataframe\">\n",
       "  <thead>\n",
       "    <tr style=\"text-align: right;\">\n",
       "      <th></th>\n",
       "      <th>Household ID</th>\n",
       "      <th>Tariff Type</th>\n",
       "      <th>DateTime</th>\n",
       "      <th>kWh</th>\n",
       "    </tr>\n",
       "    <tr>\n",
       "      <th>npartitions=2</th>\n",
       "      <th></th>\n",
       "      <th></th>\n",
       "      <th></th>\n",
       "      <th></th>\n",
       "    </tr>\n",
       "  </thead>\n",
       "  <tbody>\n",
       "    <tr>\n",
       "      <th>0</th>\n",
       "      <td>object</td>\n",
       "      <td>object</td>\n",
       "      <td>object</td>\n",
       "      <td>object</td>\n",
       "    </tr>\n",
       "    <tr>\n",
       "      <th>5000</th>\n",
       "      <td>...</td>\n",
       "      <td>...</td>\n",
       "      <td>...</td>\n",
       "      <td>...</td>\n",
       "    </tr>\n",
       "    <tr>\n",
       "      <th>9999</th>\n",
       "      <td>...</td>\n",
       "      <td>...</td>\n",
       "      <td>...</td>\n",
       "      <td>...</td>\n",
       "    </tr>\n",
       "  </tbody>\n",
       "</table>\n",
       "</div>\n",
       "<div>Dask Name: from_pandas, 2 tasks</div>"
      ],
      "text/plain": [
       "Dask DataFrame Structure:\n",
       "              Household ID Tariff Type DateTime     kWh\n",
       "npartitions=2                                          \n",
       "0                   object      object   object  object\n",
       "5000                   ...         ...      ...     ...\n",
       "9999                   ...         ...      ...     ...\n",
       "Dask Name: from_pandas, 2 tasks"
      ]
     },
     "execution_count": 7,
     "metadata": {},
     "output_type": "execute_result"
    }
   ],
   "source": [
    "test_data_ddf = dd.from_pandas(test_data, npartitions=2)\n",
    "test_data_ddf"
   ]
  },
  {
   "cell_type": "markdown",
   "id": "713c9a24",
   "metadata": {},
   "source": [
    "## Cleaning the data"
   ]
  },
  {
   "cell_type": "markdown",
   "id": "2927f03d",
   "metadata": {},
   "source": [
    "We can see there is at least one string `\"Null\"` value in the kWH data as there is one example in our test dataset."
   ]
  },
  {
   "cell_type": "code",
   "execution_count": 8,
   "id": "acf414f2",
   "metadata": {},
   "outputs": [
    {
     "data": {
      "text/html": [
       "<div>\n",
       "<style scoped>\n",
       "    .dataframe tbody tr th:only-of-type {\n",
       "        vertical-align: middle;\n",
       "    }\n",
       "\n",
       "    .dataframe tbody tr th {\n",
       "        vertical-align: top;\n",
       "    }\n",
       "\n",
       "    .dataframe thead th {\n",
       "        text-align: right;\n",
       "    }\n",
       "</style>\n",
       "<table border=\"1\" class=\"dataframe\">\n",
       "  <thead>\n",
       "    <tr style=\"text-align: right;\">\n",
       "      <th></th>\n",
       "      <th>Household ID</th>\n",
       "      <th>Tariff Type</th>\n",
       "      <th>DateTime</th>\n",
       "      <th>kWh</th>\n",
       "    </tr>\n",
       "  </thead>\n",
       "  <tbody>\n",
       "    <tr>\n",
       "      <th>3240</th>\n",
       "      <td>MAC000002</td>\n",
       "      <td>Std</td>\n",
       "      <td>2012-12-19 12:37:27.0000000</td>\n",
       "      <td>Null</td>\n",
       "    </tr>\n",
       "  </tbody>\n",
       "</table>\n",
       "</div>"
      ],
      "text/plain": [
       "     Household ID Tariff Type                     DateTime   kWh\n",
       "3240    MAC000002         Std  2012-12-19 12:37:27.0000000  Null"
      ]
     },
     "execution_count": 8,
     "metadata": {},
     "output_type": "execute_result"
    }
   ],
   "source": [
    "test_nulls = test_data[test_data['kWh'] == 'Null']\n",
    "test_nulls"
   ]
  },
  {
   "cell_type": "markdown",
   "id": "2f5dc379",
   "metadata": {},
   "source": [
    "Let's remove those `\"Null\"` values."
   ]
  },
  {
   "cell_type": "code",
   "execution_count": 9,
   "id": "913e7591",
   "metadata": {},
   "outputs": [],
   "source": [
    "def remove_nulls(df):\n",
    "    output = df.copy()\n",
    "    output.loc[:, 'kWh'] = pd.to_numeric(output['kWh'], errors='coerce')\n",
    "    return output.dropna(subset=['kWh'])"
   ]
  },
  {
   "cell_type": "code",
   "execution_count": 10,
   "id": "7e40062e",
   "metadata": {},
   "outputs": [],
   "source": [
    "test_data_no_nulls_ddf = test_data_ddf.map_partitions(remove_nulls)"
   ]
  },
  {
   "cell_type": "markdown",
   "id": "06832f1f",
   "metadata": {},
   "source": [
    "Notice that nothing has happened yet. Dask methods are generally \"lazy\" in that they only run when needed. To execute we need to call `compute`. This means we can chain together lots of methods, and then run them all at once."
   ]
  },
  {
   "cell_type": "code",
   "execution_count": 11,
   "id": "b9315023",
   "metadata": {
    "scrolled": false
   },
   "outputs": [
    {
     "data": {
      "text/html": [
       "<div>\n",
       "<style scoped>\n",
       "    .dataframe tbody tr th:only-of-type {\n",
       "        vertical-align: middle;\n",
       "    }\n",
       "\n",
       "    .dataframe tbody tr th {\n",
       "        vertical-align: top;\n",
       "    }\n",
       "\n",
       "    .dataframe thead th {\n",
       "        text-align: right;\n",
       "    }\n",
       "</style>\n",
       "<table border=\"1\" class=\"dataframe\">\n",
       "  <thead>\n",
       "    <tr style=\"text-align: right;\">\n",
       "      <th></th>\n",
       "      <th>Household ID</th>\n",
       "      <th>Tariff Type</th>\n",
       "      <th>DateTime</th>\n",
       "      <th>kWh</th>\n",
       "    </tr>\n",
       "  </thead>\n",
       "  <tbody>\n",
       "    <tr>\n",
       "      <th>0</th>\n",
       "      <td>MAC000002</td>\n",
       "      <td>Std</td>\n",
       "      <td>2012-10-12 00:30:00.0000000</td>\n",
       "      <td>0.000</td>\n",
       "    </tr>\n",
       "    <tr>\n",
       "      <th>1</th>\n",
       "      <td>MAC000002</td>\n",
       "      <td>Std</td>\n",
       "      <td>2012-10-12 01:00:00.0000000</td>\n",
       "      <td>0.000</td>\n",
       "    </tr>\n",
       "    <tr>\n",
       "      <th>2</th>\n",
       "      <td>MAC000002</td>\n",
       "      <td>Std</td>\n",
       "      <td>2012-10-12 01:30:00.0000000</td>\n",
       "      <td>0.000</td>\n",
       "    </tr>\n",
       "    <tr>\n",
       "      <th>3</th>\n",
       "      <td>MAC000002</td>\n",
       "      <td>Std</td>\n",
       "      <td>2012-10-12 02:00:00.0000000</td>\n",
       "      <td>0.000</td>\n",
       "    </tr>\n",
       "    <tr>\n",
       "      <th>4</th>\n",
       "      <td>MAC000002</td>\n",
       "      <td>Std</td>\n",
       "      <td>2012-10-12 02:30:00.0000000</td>\n",
       "      <td>0.000</td>\n",
       "    </tr>\n",
       "    <tr>\n",
       "      <th>...</th>\n",
       "      <td>...</td>\n",
       "      <td>...</td>\n",
       "      <td>...</td>\n",
       "      <td>...</td>\n",
       "    </tr>\n",
       "    <tr>\n",
       "      <th>9995</th>\n",
       "      <td>MAC000002</td>\n",
       "      <td>Std</td>\n",
       "      <td>2013-05-09 03:30:00.0000000</td>\n",
       "      <td>0.090</td>\n",
       "    </tr>\n",
       "    <tr>\n",
       "      <th>9996</th>\n",
       "      <td>MAC000002</td>\n",
       "      <td>Std</td>\n",
       "      <td>2013-05-09 04:00:00.0000000</td>\n",
       "      <td>0.114</td>\n",
       "    </tr>\n",
       "    <tr>\n",
       "      <th>9997</th>\n",
       "      <td>MAC000002</td>\n",
       "      <td>Std</td>\n",
       "      <td>2013-05-09 04:30:00.0000000</td>\n",
       "      <td>0.105</td>\n",
       "    </tr>\n",
       "    <tr>\n",
       "      <th>9998</th>\n",
       "      <td>MAC000002</td>\n",
       "      <td>Std</td>\n",
       "      <td>2013-05-09 05:00:00.0000000</td>\n",
       "      <td>0.099</td>\n",
       "    </tr>\n",
       "    <tr>\n",
       "      <th>9999</th>\n",
       "      <td>MAC000002</td>\n",
       "      <td>Std</td>\n",
       "      <td>2013-05-09 05:30:00.0000000</td>\n",
       "      <td>0.117</td>\n",
       "    </tr>\n",
       "  </tbody>\n",
       "</table>\n",
       "<p>9999 rows × 4 columns</p>\n",
       "</div>"
      ],
      "text/plain": [
       "     Household ID Tariff Type                     DateTime    kWh\n",
       "0       MAC000002         Std  2012-10-12 00:30:00.0000000  0.000\n",
       "1       MAC000002         Std  2012-10-12 01:00:00.0000000  0.000\n",
       "2       MAC000002         Std  2012-10-12 01:30:00.0000000  0.000\n",
       "3       MAC000002         Std  2012-10-12 02:00:00.0000000  0.000\n",
       "4       MAC000002         Std  2012-10-12 02:30:00.0000000  0.000\n",
       "...           ...         ...                          ...    ...\n",
       "9995    MAC000002         Std  2013-05-09 03:30:00.0000000  0.090\n",
       "9996    MAC000002         Std  2013-05-09 04:00:00.0000000  0.114\n",
       "9997    MAC000002         Std  2013-05-09 04:30:00.0000000  0.105\n",
       "9998    MAC000002         Std  2013-05-09 05:00:00.0000000  0.099\n",
       "9999    MAC000002         Std  2013-05-09 05:30:00.0000000  0.117\n",
       "\n",
       "[9999 rows x 4 columns]"
      ]
     },
     "execution_count": 11,
     "metadata": {},
     "output_type": "execute_result"
    }
   ],
   "source": [
    "test_data_no_nulls = test_data_no_nulls_ddf.compute()\n",
    "test_data_no_nulls"
   ]
  },
  {
   "cell_type": "markdown",
   "id": "28c61f67",
   "metadata": {},
   "source": [
    "That's worked as we now have one less row in our test data (9,999)."
   ]
  },
  {
   "cell_type": "markdown",
   "id": "a3c200cc",
   "metadata": {},
   "source": [
    "## Aggregating the data"
   ]
  },
  {
   "cell_type": "markdown",
   "id": "981c87b4",
   "metadata": {},
   "source": [
    "The goal here is to ***reduce*** the data by aggregating it in some way. Since we know that we have data in half-hour intervals, we'll aggregate it to daily data by summing over each 24-hour period. That should reduce the number of rows by a factor of about 48.\n",
    "\n",
    "Aggregation is simple when using Dask, as the `groupby` function works across the partitions. However first we need to convert the timestamp data into date format so that we can group by date. To do this we use the Dask `map_partitions` method, which is similar to Pandas `map` but is applied across all partitions. One important difference though is that we need to specify the output types using the `meta` parameter."
   ]
  },
  {
   "cell_type": "code",
   "execution_count": 12,
   "id": "720bac59",
   "metadata": {},
   "outputs": [],
   "source": [
    "def timestamp_to_date(df):\n",
    "    df.loc[:, 'DateTime'] = pd.to_datetime(df['DateTime']).dt.date\n",
    "    return df"
   ]
  },
  {
   "cell_type": "code",
   "execution_count": 13,
   "id": "2aa1d75a",
   "metadata": {},
   "outputs": [],
   "source": [
    "meta = {\n",
    "    'Household ID' : object,\n",
    "    'Tariff Type' : object,\n",
    "    'DateTime' : object,\n",
    "    'kWh' : float\n",
    "}"
   ]
  },
  {
   "cell_type": "code",
   "execution_count": 14,
   "id": "1dc6b373",
   "metadata": {
    "scrolled": false
   },
   "outputs": [],
   "source": [
    "test_data_by_date_ddf = (\n",
    "    test_data_no_nulls_ddf.map_partitions(timestamp_to_date, meta=meta)\n",
    "    .rename(columns={'DateTime' : 'Date'})\n",
    ")"
   ]
  },
  {
   "cell_type": "code",
   "execution_count": 15,
   "id": "106e88cd",
   "metadata": {},
   "outputs": [
    {
     "data": {
      "text/html": [
       "<div>\n",
       "<style scoped>\n",
       "    .dataframe tbody tr th:only-of-type {\n",
       "        vertical-align: middle;\n",
       "    }\n",
       "\n",
       "    .dataframe tbody tr th {\n",
       "        vertical-align: top;\n",
       "    }\n",
       "\n",
       "    .dataframe thead th {\n",
       "        text-align: right;\n",
       "    }\n",
       "</style>\n",
       "<table border=\"1\" class=\"dataframe\">\n",
       "  <thead>\n",
       "    <tr style=\"text-align: right;\">\n",
       "      <th></th>\n",
       "      <th>Household ID</th>\n",
       "      <th>Tariff Type</th>\n",
       "      <th>Date</th>\n",
       "      <th>kWh</th>\n",
       "    </tr>\n",
       "  </thead>\n",
       "  <tbody>\n",
       "    <tr>\n",
       "      <th>0</th>\n",
       "      <td>MAC000002</td>\n",
       "      <td>Std</td>\n",
       "      <td>2012-10-12</td>\n",
       "      <td>0.000</td>\n",
       "    </tr>\n",
       "    <tr>\n",
       "      <th>1</th>\n",
       "      <td>MAC000002</td>\n",
       "      <td>Std</td>\n",
       "      <td>2012-10-12</td>\n",
       "      <td>0.000</td>\n",
       "    </tr>\n",
       "    <tr>\n",
       "      <th>2</th>\n",
       "      <td>MAC000002</td>\n",
       "      <td>Std</td>\n",
       "      <td>2012-10-12</td>\n",
       "      <td>0.000</td>\n",
       "    </tr>\n",
       "    <tr>\n",
       "      <th>3</th>\n",
       "      <td>MAC000002</td>\n",
       "      <td>Std</td>\n",
       "      <td>2012-10-12</td>\n",
       "      <td>0.000</td>\n",
       "    </tr>\n",
       "    <tr>\n",
       "      <th>4</th>\n",
       "      <td>MAC000002</td>\n",
       "      <td>Std</td>\n",
       "      <td>2012-10-12</td>\n",
       "      <td>0.000</td>\n",
       "    </tr>\n",
       "    <tr>\n",
       "      <th>...</th>\n",
       "      <td>...</td>\n",
       "      <td>...</td>\n",
       "      <td>...</td>\n",
       "      <td>...</td>\n",
       "    </tr>\n",
       "    <tr>\n",
       "      <th>9995</th>\n",
       "      <td>MAC000002</td>\n",
       "      <td>Std</td>\n",
       "      <td>2013-05-09</td>\n",
       "      <td>0.090</td>\n",
       "    </tr>\n",
       "    <tr>\n",
       "      <th>9996</th>\n",
       "      <td>MAC000002</td>\n",
       "      <td>Std</td>\n",
       "      <td>2013-05-09</td>\n",
       "      <td>0.114</td>\n",
       "    </tr>\n",
       "    <tr>\n",
       "      <th>9997</th>\n",
       "      <td>MAC000002</td>\n",
       "      <td>Std</td>\n",
       "      <td>2013-05-09</td>\n",
       "      <td>0.105</td>\n",
       "    </tr>\n",
       "    <tr>\n",
       "      <th>9998</th>\n",
       "      <td>MAC000002</td>\n",
       "      <td>Std</td>\n",
       "      <td>2013-05-09</td>\n",
       "      <td>0.099</td>\n",
       "    </tr>\n",
       "    <tr>\n",
       "      <th>9999</th>\n",
       "      <td>MAC000002</td>\n",
       "      <td>Std</td>\n",
       "      <td>2013-05-09</td>\n",
       "      <td>0.117</td>\n",
       "    </tr>\n",
       "  </tbody>\n",
       "</table>\n",
       "<p>9999 rows × 4 columns</p>\n",
       "</div>"
      ],
      "text/plain": [
       "     Household ID Tariff Type        Date    kWh\n",
       "0       MAC000002         Std  2012-10-12  0.000\n",
       "1       MAC000002         Std  2012-10-12  0.000\n",
       "2       MAC000002         Std  2012-10-12  0.000\n",
       "3       MAC000002         Std  2012-10-12  0.000\n",
       "4       MAC000002         Std  2012-10-12  0.000\n",
       "...           ...         ...         ...    ...\n",
       "9995    MAC000002         Std  2013-05-09  0.090\n",
       "9996    MAC000002         Std  2013-05-09  0.114\n",
       "9997    MAC000002         Std  2013-05-09  0.105\n",
       "9998    MAC000002         Std  2013-05-09  0.099\n",
       "9999    MAC000002         Std  2013-05-09  0.117\n",
       "\n",
       "[9999 rows x 4 columns]"
      ]
     },
     "execution_count": 15,
     "metadata": {},
     "output_type": "execute_result"
    }
   ],
   "source": [
    "test_data_by_date = test_data_by_date_ddf.compute()\n",
    "test_data_by_date"
   ]
  },
  {
   "cell_type": "markdown",
   "id": "91b0a17c",
   "metadata": {},
   "source": [
    "Now we can aggregate by day."
   ]
  },
  {
   "cell_type": "code",
   "execution_count": 16,
   "id": "e8a5547f",
   "metadata": {},
   "outputs": [],
   "source": [
    "test_summary_daily_ddf = test_data_by_date_ddf.groupby(['Household ID', 'Tariff Type', 'Date']).sum()"
   ]
  },
  {
   "cell_type": "code",
   "execution_count": 17,
   "id": "6797c5ef",
   "metadata": {},
   "outputs": [
    {
     "data": {
      "text/html": [
       "<div>\n",
       "<style scoped>\n",
       "    .dataframe tbody tr th:only-of-type {\n",
       "        vertical-align: middle;\n",
       "    }\n",
       "\n",
       "    .dataframe tbody tr th {\n",
       "        vertical-align: top;\n",
       "    }\n",
       "\n",
       "    .dataframe thead th {\n",
       "        text-align: right;\n",
       "    }\n",
       "</style>\n",
       "<table border=\"1\" class=\"dataframe\">\n",
       "  <thead>\n",
       "    <tr style=\"text-align: right;\">\n",
       "      <th></th>\n",
       "      <th></th>\n",
       "      <th></th>\n",
       "      <th>kWh</th>\n",
       "    </tr>\n",
       "    <tr>\n",
       "      <th>Household ID</th>\n",
       "      <th>Tariff Type</th>\n",
       "      <th>Date</th>\n",
       "      <th></th>\n",
       "    </tr>\n",
       "  </thead>\n",
       "  <tbody>\n",
       "    <tr>\n",
       "      <th rowspan=\"11\" valign=\"top\">MAC000002</th>\n",
       "      <th rowspan=\"11\" valign=\"top\">Std</th>\n",
       "      <th>2012-10-12</th>\n",
       "      <td>7.098</td>\n",
       "    </tr>\n",
       "    <tr>\n",
       "      <th>2012-10-13</th>\n",
       "      <td>11.087</td>\n",
       "    </tr>\n",
       "    <tr>\n",
       "      <th>2012-10-14</th>\n",
       "      <td>13.223</td>\n",
       "    </tr>\n",
       "    <tr>\n",
       "      <th>2012-10-15</th>\n",
       "      <td>10.257</td>\n",
       "    </tr>\n",
       "    <tr>\n",
       "      <th>2012-10-16</th>\n",
       "      <td>9.769</td>\n",
       "    </tr>\n",
       "    <tr>\n",
       "      <th>...</th>\n",
       "      <td>...</td>\n",
       "    </tr>\n",
       "    <tr>\n",
       "      <th>2013-05-05</th>\n",
       "      <td>8.826</td>\n",
       "    </tr>\n",
       "    <tr>\n",
       "      <th>2013-05-06</th>\n",
       "      <td>7.418</td>\n",
       "    </tr>\n",
       "    <tr>\n",
       "      <th>2013-05-07</th>\n",
       "      <td>7.607</td>\n",
       "    </tr>\n",
       "    <tr>\n",
       "      <th>2013-05-08</th>\n",
       "      <td>8.576</td>\n",
       "    </tr>\n",
       "    <tr>\n",
       "      <th>2013-05-09</th>\n",
       "      <td>1.567</td>\n",
       "    </tr>\n",
       "  </tbody>\n",
       "</table>\n",
       "<p>210 rows × 1 columns</p>\n",
       "</div>"
      ],
      "text/plain": [
       "                                        kWh\n",
       "Household ID Tariff Type Date              \n",
       "MAC000002    Std         2012-10-12   7.098\n",
       "                         2012-10-13  11.087\n",
       "                         2012-10-14  13.223\n",
       "                         2012-10-15  10.257\n",
       "                         2012-10-16   9.769\n",
       "...                                     ...\n",
       "                         2013-05-05   8.826\n",
       "                         2013-05-06   7.418\n",
       "                         2013-05-07   7.607\n",
       "                         2013-05-08   8.576\n",
       "                         2013-05-09   1.567\n",
       "\n",
       "[210 rows x 1 columns]"
      ]
     },
     "execution_count": 17,
     "metadata": {},
     "output_type": "execute_result"
    }
   ],
   "source": [
    "test_summary_daily = test_summary_daily_ddf.compute()\n",
    "test_summary_daily"
   ]
  },
  {
   "cell_type": "markdown",
   "id": "5490ca47",
   "metadata": {},
   "source": [
    "## Operating on the full data"
   ]
  },
  {
   "cell_type": "markdown",
   "id": "44ccd5af",
   "metadata": {},
   "source": [
    "Now we can apply the same methods to the full data. Note that nothing will happen until we call `compute`."
   ]
  },
  {
   "cell_type": "code",
   "execution_count": 18,
   "id": "7fb9b46f",
   "metadata": {},
   "outputs": [],
   "source": [
    "full_data_no_nulls_ddf = full_data_ddf.map_partitions(remove_nulls)"
   ]
  },
  {
   "cell_type": "code",
   "execution_count": 19,
   "id": "163a3c47",
   "metadata": {},
   "outputs": [],
   "source": [
    "full_data_by_date_ddf = (\n",
    "    full_data_no_nulls_ddf.map_partitions(timestamp_to_date, meta=meta)\n",
    "    .rename(columns={'DateTime' : 'Date'})\n",
    ")"
   ]
  },
  {
   "cell_type": "code",
   "execution_count": 20,
   "id": "14aed16c",
   "metadata": {},
   "outputs": [],
   "source": [
    "full_summary_daily_ddf = full_data_by_date_ddf.groupby(['Household ID', 'Tariff Type', 'Date']).sum()"
   ]
  },
  {
   "cell_type": "markdown",
   "id": "b9ece991",
   "metadata": {},
   "source": [
    "We'll start a Dask Client which is generally used for interacting with a cluster, but it's also useful on a single machine as it shows progress during an operation."
   ]
  },
  {
   "cell_type": "code",
   "execution_count": 21,
   "id": "2d7100ee",
   "metadata": {},
   "outputs": [
    {
     "data": {
      "text/html": [
       "<div>\n",
       "    <div style=\"width: 24px; height: 24px; background-color: #e1e1e1; border: 3px solid #9D9D9D; border-radius: 5px; position: absolute;\"> </div>\n",
       "    <div style=\"margin-left: 48px;\">\n",
       "        <h3 style=\"margin-bottom: 0px;\">Client</h3>\n",
       "        <p style=\"color: #9D9D9D; margin-bottom: 0px;\">Client-75d36bc7-ddc5-11ec-be7c-c311854f0da5</p>\n",
       "        <table style=\"width: 100%; text-align: left;\">\n",
       "\n",
       "        <tr>\n",
       "        \n",
       "            <td style=\"text-align: left;\"><strong>Connection method:</strong> Cluster object</td>\n",
       "            <td style=\"text-align: left;\"><strong>Cluster type:</strong> distributed.LocalCluster</td>\n",
       "        \n",
       "        </tr>\n",
       "\n",
       "        \n",
       "            <tr>\n",
       "                <td style=\"text-align: left;\">\n",
       "                    <strong>Dashboard: </strong> <a href=\"http://127.0.0.1:8787/status\" target=\"_blank\">http://127.0.0.1:8787/status</a>\n",
       "                </td>\n",
       "                <td style=\"text-align: left;\"></td>\n",
       "            </tr>\n",
       "        \n",
       "\n",
       "        </table>\n",
       "\n",
       "        \n",
       "            <details>\n",
       "            <summary style=\"margin-bottom: 20px;\"><h3 style=\"display: inline;\">Cluster Info</h3></summary>\n",
       "            <div class=\"jp-RenderedHTMLCommon jp-RenderedHTML jp-mod-trusted jp-OutputArea-output\">\n",
       "    <div style=\"width: 24px; height: 24px; background-color: #e1e1e1; border: 3px solid #9D9D9D; border-radius: 5px; position: absolute;\">\n",
       "    </div>\n",
       "    <div style=\"margin-left: 48px;\">\n",
       "        <h3 style=\"margin-bottom: 0px; margin-top: 0px;\">LocalCluster</h3>\n",
       "        <p style=\"color: #9D9D9D; margin-bottom: 0px;\">a244f533</p>\n",
       "        <table style=\"width: 100%; text-align: left;\">\n",
       "            <tr>\n",
       "                <td style=\"text-align: left;\">\n",
       "                    <strong>Dashboard:</strong> <a href=\"http://127.0.0.1:8787/status\" target=\"_blank\">http://127.0.0.1:8787/status</a>\n",
       "                </td>\n",
       "                <td style=\"text-align: left;\">\n",
       "                    <strong>Workers:</strong> 4\n",
       "                </td>\n",
       "            </tr>\n",
       "            <tr>\n",
       "                <td style=\"text-align: left;\">\n",
       "                    <strong>Total threads:</strong> 8\n",
       "                </td>\n",
       "                <td style=\"text-align: left;\">\n",
       "                    <strong>Total memory:</strong> 15.42 GiB\n",
       "                </td>\n",
       "            </tr>\n",
       "            \n",
       "            <tr>\n",
       "    <td style=\"text-align: left;\"><strong>Status:</strong> running</td>\n",
       "    <td style=\"text-align: left;\"><strong>Using processes:</strong> True</td>\n",
       "</tr>\n",
       "\n",
       "            \n",
       "        </table>\n",
       "\n",
       "        <details>\n",
       "            <summary style=\"margin-bottom: 20px;\">\n",
       "                <h3 style=\"display: inline;\">Scheduler Info</h3>\n",
       "            </summary>\n",
       "\n",
       "            <div style=\"\">\n",
       "    <div>\n",
       "        <div style=\"width: 24px; height: 24px; background-color: #FFF7E5; border: 3px solid #FF6132; border-radius: 5px; position: absolute;\"> </div>\n",
       "        <div style=\"margin-left: 48px;\">\n",
       "            <h3 style=\"margin-bottom: 0px;\">Scheduler</h3>\n",
       "            <p style=\"color: #9D9D9D; margin-bottom: 0px;\">Scheduler-015fc068-2ebf-4bf0-b0e2-aab46739924e</p>\n",
       "            <table style=\"width: 100%; text-align: left;\">\n",
       "                <tr>\n",
       "                    <td style=\"text-align: left;\">\n",
       "                        <strong>Comm:</strong> tcp://127.0.0.1:43503\n",
       "                    </td>\n",
       "                    <td style=\"text-align: left;\">\n",
       "                        <strong>Workers:</strong> 4\n",
       "                    </td>\n",
       "                </tr>\n",
       "                <tr>\n",
       "                    <td style=\"text-align: left;\">\n",
       "                        <strong>Dashboard:</strong> <a href=\"http://127.0.0.1:8787/status\" target=\"_blank\">http://127.0.0.1:8787/status</a>\n",
       "                    </td>\n",
       "                    <td style=\"text-align: left;\">\n",
       "                        <strong>Total threads:</strong> 8\n",
       "                    </td>\n",
       "                </tr>\n",
       "                <tr>\n",
       "                    <td style=\"text-align: left;\">\n",
       "                        <strong>Started:</strong> Just now\n",
       "                    </td>\n",
       "                    <td style=\"text-align: left;\">\n",
       "                        <strong>Total memory:</strong> 15.42 GiB\n",
       "                    </td>\n",
       "                </tr>\n",
       "            </table>\n",
       "        </div>\n",
       "    </div>\n",
       "\n",
       "    <details style=\"margin-left: 48px;\">\n",
       "        <summary style=\"margin-bottom: 20px;\">\n",
       "            <h3 style=\"display: inline;\">Workers</h3>\n",
       "        </summary>\n",
       "\n",
       "        \n",
       "        <div style=\"margin-bottom: 20px;\">\n",
       "            <div style=\"width: 24px; height: 24px; background-color: #DBF5FF; border: 3px solid #4CC9FF; border-radius: 5px; position: absolute;\"> </div>\n",
       "            <div style=\"margin-left: 48px;\">\n",
       "            <details>\n",
       "                <summary>\n",
       "                    <h4 style=\"margin-bottom: 0px; display: inline;\">Worker: 0</h4>\n",
       "                </summary>\n",
       "                <table style=\"width: 100%; text-align: left;\">\n",
       "                    <tr>\n",
       "                        <td style=\"text-align: left;\">\n",
       "                            <strong>Comm: </strong> tcp://127.0.0.1:45803\n",
       "                        </td>\n",
       "                        <td style=\"text-align: left;\">\n",
       "                            <strong>Total threads: </strong> 2\n",
       "                        </td>\n",
       "                    </tr>\n",
       "                    <tr>\n",
       "                        <td style=\"text-align: left;\">\n",
       "                            <strong>Dashboard: </strong> <a href=\"http://127.0.0.1:36315/status\" target=\"_blank\">http://127.0.0.1:36315/status</a>\n",
       "                        </td>\n",
       "                        <td style=\"text-align: left;\">\n",
       "                            <strong>Memory: </strong> 3.85 GiB\n",
       "                        </td>\n",
       "                    </tr>\n",
       "                    <tr>\n",
       "                        <td style=\"text-align: left;\">\n",
       "                            <strong>Nanny: </strong> tcp://127.0.0.1:38687\n",
       "                        </td>\n",
       "                        <td style=\"text-align: left;\"></td>\n",
       "                    </tr>\n",
       "                    <tr>\n",
       "                        <td colspan=\"2\" style=\"text-align: left;\">\n",
       "                            <strong>Local directory: </strong> /home/jon/Documents/MEGA/Sneezing Trees/Data Science/Projects/London Smart Energy/dask-worker-space/worker-n9zvca0h\n",
       "                        </td>\n",
       "                    </tr>\n",
       "\n",
       "                    \n",
       "\n",
       "                    \n",
       "\n",
       "                </table>\n",
       "            </details>\n",
       "            </div>\n",
       "        </div>\n",
       "        \n",
       "        <div style=\"margin-bottom: 20px;\">\n",
       "            <div style=\"width: 24px; height: 24px; background-color: #DBF5FF; border: 3px solid #4CC9FF; border-radius: 5px; position: absolute;\"> </div>\n",
       "            <div style=\"margin-left: 48px;\">\n",
       "            <details>\n",
       "                <summary>\n",
       "                    <h4 style=\"margin-bottom: 0px; display: inline;\">Worker: 1</h4>\n",
       "                </summary>\n",
       "                <table style=\"width: 100%; text-align: left;\">\n",
       "                    <tr>\n",
       "                        <td style=\"text-align: left;\">\n",
       "                            <strong>Comm: </strong> tcp://127.0.0.1:34867\n",
       "                        </td>\n",
       "                        <td style=\"text-align: left;\">\n",
       "                            <strong>Total threads: </strong> 2\n",
       "                        </td>\n",
       "                    </tr>\n",
       "                    <tr>\n",
       "                        <td style=\"text-align: left;\">\n",
       "                            <strong>Dashboard: </strong> <a href=\"http://127.0.0.1:37433/status\" target=\"_blank\">http://127.0.0.1:37433/status</a>\n",
       "                        </td>\n",
       "                        <td style=\"text-align: left;\">\n",
       "                            <strong>Memory: </strong> 3.85 GiB\n",
       "                        </td>\n",
       "                    </tr>\n",
       "                    <tr>\n",
       "                        <td style=\"text-align: left;\">\n",
       "                            <strong>Nanny: </strong> tcp://127.0.0.1:45509\n",
       "                        </td>\n",
       "                        <td style=\"text-align: left;\"></td>\n",
       "                    </tr>\n",
       "                    <tr>\n",
       "                        <td colspan=\"2\" style=\"text-align: left;\">\n",
       "                            <strong>Local directory: </strong> /home/jon/Documents/MEGA/Sneezing Trees/Data Science/Projects/London Smart Energy/dask-worker-space/worker-lxgzhhhn\n",
       "                        </td>\n",
       "                    </tr>\n",
       "\n",
       "                    \n",
       "\n",
       "                    \n",
       "\n",
       "                </table>\n",
       "            </details>\n",
       "            </div>\n",
       "        </div>\n",
       "        \n",
       "        <div style=\"margin-bottom: 20px;\">\n",
       "            <div style=\"width: 24px; height: 24px; background-color: #DBF5FF; border: 3px solid #4CC9FF; border-radius: 5px; position: absolute;\"> </div>\n",
       "            <div style=\"margin-left: 48px;\">\n",
       "            <details>\n",
       "                <summary>\n",
       "                    <h4 style=\"margin-bottom: 0px; display: inline;\">Worker: 2</h4>\n",
       "                </summary>\n",
       "                <table style=\"width: 100%; text-align: left;\">\n",
       "                    <tr>\n",
       "                        <td style=\"text-align: left;\">\n",
       "                            <strong>Comm: </strong> tcp://127.0.0.1:37095\n",
       "                        </td>\n",
       "                        <td style=\"text-align: left;\">\n",
       "                            <strong>Total threads: </strong> 2\n",
       "                        </td>\n",
       "                    </tr>\n",
       "                    <tr>\n",
       "                        <td style=\"text-align: left;\">\n",
       "                            <strong>Dashboard: </strong> <a href=\"http://127.0.0.1:39087/status\" target=\"_blank\">http://127.0.0.1:39087/status</a>\n",
       "                        </td>\n",
       "                        <td style=\"text-align: left;\">\n",
       "                            <strong>Memory: </strong> 3.85 GiB\n",
       "                        </td>\n",
       "                    </tr>\n",
       "                    <tr>\n",
       "                        <td style=\"text-align: left;\">\n",
       "                            <strong>Nanny: </strong> tcp://127.0.0.1:44605\n",
       "                        </td>\n",
       "                        <td style=\"text-align: left;\"></td>\n",
       "                    </tr>\n",
       "                    <tr>\n",
       "                        <td colspan=\"2\" style=\"text-align: left;\">\n",
       "                            <strong>Local directory: </strong> /home/jon/Documents/MEGA/Sneezing Trees/Data Science/Projects/London Smart Energy/dask-worker-space/worker-37liwxby\n",
       "                        </td>\n",
       "                    </tr>\n",
       "\n",
       "                    \n",
       "\n",
       "                    \n",
       "\n",
       "                </table>\n",
       "            </details>\n",
       "            </div>\n",
       "        </div>\n",
       "        \n",
       "        <div style=\"margin-bottom: 20px;\">\n",
       "            <div style=\"width: 24px; height: 24px; background-color: #DBF5FF; border: 3px solid #4CC9FF; border-radius: 5px; position: absolute;\"> </div>\n",
       "            <div style=\"margin-left: 48px;\">\n",
       "            <details>\n",
       "                <summary>\n",
       "                    <h4 style=\"margin-bottom: 0px; display: inline;\">Worker: 3</h4>\n",
       "                </summary>\n",
       "                <table style=\"width: 100%; text-align: left;\">\n",
       "                    <tr>\n",
       "                        <td style=\"text-align: left;\">\n",
       "                            <strong>Comm: </strong> tcp://127.0.0.1:33073\n",
       "                        </td>\n",
       "                        <td style=\"text-align: left;\">\n",
       "                            <strong>Total threads: </strong> 2\n",
       "                        </td>\n",
       "                    </tr>\n",
       "                    <tr>\n",
       "                        <td style=\"text-align: left;\">\n",
       "                            <strong>Dashboard: </strong> <a href=\"http://127.0.0.1:43181/status\" target=\"_blank\">http://127.0.0.1:43181/status</a>\n",
       "                        </td>\n",
       "                        <td style=\"text-align: left;\">\n",
       "                            <strong>Memory: </strong> 3.85 GiB\n",
       "                        </td>\n",
       "                    </tr>\n",
       "                    <tr>\n",
       "                        <td style=\"text-align: left;\">\n",
       "                            <strong>Nanny: </strong> tcp://127.0.0.1:44345\n",
       "                        </td>\n",
       "                        <td style=\"text-align: left;\"></td>\n",
       "                    </tr>\n",
       "                    <tr>\n",
       "                        <td colspan=\"2\" style=\"text-align: left;\">\n",
       "                            <strong>Local directory: </strong> /home/jon/Documents/MEGA/Sneezing Trees/Data Science/Projects/London Smart Energy/dask-worker-space/worker-thc1vuic\n",
       "                        </td>\n",
       "                    </tr>\n",
       "\n",
       "                    \n",
       "\n",
       "                    \n",
       "\n",
       "                </table>\n",
       "            </details>\n",
       "            </div>\n",
       "        </div>\n",
       "        \n",
       "\n",
       "    </details>\n",
       "</div>\n",
       "\n",
       "        </details>\n",
       "    </div>\n",
       "</div>\n",
       "            </details>\n",
       "        \n",
       "\n",
       "    </div>\n",
       "</div>"
      ],
      "text/plain": [
       "<Client: 'tcp://127.0.0.1:43503' processes=4 threads=8, memory=15.42 GiB>"
      ]
     },
     "execution_count": 21,
     "metadata": {},
     "output_type": "execute_result"
    }
   ],
   "source": [
    "from dask.distributed import Client\n",
    "client = Client()\n",
    "client"
   ]
  },
  {
   "cell_type": "markdown",
   "id": "79217908",
   "metadata": {},
   "source": [
    "We can click on the dashboard link above and open as a new window. Then we run `compute` and we can watch the progress on the dashboard in the client window."
   ]
  },
  {
   "cell_type": "code",
   "execution_count": 22,
   "id": "40da2294",
   "metadata": {},
   "outputs": [],
   "source": [
    "daily_summary = full_summary_daily_ddf.compute()"
   ]
  },
  {
   "cell_type": "markdown",
   "id": "c7d24708",
   "metadata": {},
   "source": [
    "<img src=\"images/client.png\" width=\"100%\"/>"
   ]
  },
  {
   "cell_type": "markdown",
   "id": "e1851894",
   "metadata": {},
   "source": [
    "At the bottom right we can see the progress bar - very handy! We can also see at the bottom left that all 4 of my CPUs are in use, and the 8 task streams (upper right) represent the 8 logical CPUs (2 per physical CPU).\n",
    "\n",
    "Obviously the tasks complete much more quickly than when using a non-distributed approach (like Pandas chunksize for example)."
   ]
  },
  {
   "cell_type": "code",
   "execution_count": 23,
   "id": "bc6be01e",
   "metadata": {},
   "outputs": [
    {
     "data": {
      "text/html": [
       "<div>\n",
       "<style scoped>\n",
       "    .dataframe tbody tr th:only-of-type {\n",
       "        vertical-align: middle;\n",
       "    }\n",
       "\n",
       "    .dataframe tbody tr th {\n",
       "        vertical-align: top;\n",
       "    }\n",
       "\n",
       "    .dataframe thead th {\n",
       "        text-align: right;\n",
       "    }\n",
       "</style>\n",
       "<table border=\"1\" class=\"dataframe\">\n",
       "  <thead>\n",
       "    <tr style=\"text-align: right;\">\n",
       "      <th></th>\n",
       "      <th></th>\n",
       "      <th></th>\n",
       "      <th>kWh</th>\n",
       "    </tr>\n",
       "    <tr>\n",
       "      <th>Household ID</th>\n",
       "      <th>Tariff Type</th>\n",
       "      <th>Date</th>\n",
       "      <th></th>\n",
       "    </tr>\n",
       "  </thead>\n",
       "  <tbody>\n",
       "    <tr>\n",
       "      <th rowspan=\"5\" valign=\"top\">MAC000002</th>\n",
       "      <th rowspan=\"5\" valign=\"top\">Std</th>\n",
       "      <th>2012-10-12</th>\n",
       "      <td>7.098</td>\n",
       "    </tr>\n",
       "    <tr>\n",
       "      <th>2012-10-13</th>\n",
       "      <td>11.087</td>\n",
       "    </tr>\n",
       "    <tr>\n",
       "      <th>2012-10-14</th>\n",
       "      <td>13.223</td>\n",
       "    </tr>\n",
       "    <tr>\n",
       "      <th>2012-10-15</th>\n",
       "      <td>10.257</td>\n",
       "    </tr>\n",
       "    <tr>\n",
       "      <th>2012-10-16</th>\n",
       "      <td>9.769</td>\n",
       "    </tr>\n",
       "    <tr>\n",
       "      <th>...</th>\n",
       "      <th>...</th>\n",
       "      <th>...</th>\n",
       "      <td>...</td>\n",
       "    </tr>\n",
       "    <tr>\n",
       "      <th rowspan=\"3\" valign=\"top\">MAC005564</th>\n",
       "      <th rowspan=\"3\" valign=\"top\">ToU</th>\n",
       "      <th>2014-02-26</th>\n",
       "      <td>3.431</td>\n",
       "    </tr>\n",
       "    <tr>\n",
       "      <th>2014-02-27</th>\n",
       "      <td>4.235</td>\n",
       "    </tr>\n",
       "    <tr>\n",
       "      <th>2014-02-28</th>\n",
       "      <td>0.122</td>\n",
       "    </tr>\n",
       "    <tr>\n",
       "      <th rowspan=\"2\" valign=\"top\">MAC005565</th>\n",
       "      <th rowspan=\"2\" valign=\"top\">ToU</th>\n",
       "      <th>2012-06-20</th>\n",
       "      <td>3.896</td>\n",
       "    </tr>\n",
       "    <tr>\n",
       "      <th>2012-06-21</th>\n",
       "      <td>1.894</td>\n",
       "    </tr>\n",
       "  </tbody>\n",
       "</table>\n",
       "<p>3510403 rows × 1 columns</p>\n",
       "</div>"
      ],
      "text/plain": [
       "                                        kWh\n",
       "Household ID Tariff Type Date              \n",
       "MAC000002    Std         2012-10-12   7.098\n",
       "                         2012-10-13  11.087\n",
       "                         2012-10-14  13.223\n",
       "                         2012-10-15  10.257\n",
       "                         2012-10-16   9.769\n",
       "...                                     ...\n",
       "MAC005564    ToU         2014-02-26   3.431\n",
       "                         2014-02-27   4.235\n",
       "                         2014-02-28   0.122\n",
       "MAC005565    ToU         2012-06-20   3.896\n",
       "                         2012-06-21   1.894\n",
       "\n",
       "[3510403 rows x 1 columns]"
      ]
     },
     "execution_count": 23,
     "metadata": {},
     "output_type": "execute_result"
    }
   ],
   "source": [
    "daily_summary"
   ]
  },
  {
   "cell_type": "markdown",
   "id": "f855363a",
   "metadata": {},
   "source": [
    "The rest of this notebook is now essentially the same processing as applied in all the other notebooks in the series."
   ]
  },
  {
   "cell_type": "markdown",
   "id": "d429dc8f",
   "metadata": {},
   "source": [
    "## Saving aggregated data"
   ]
  },
  {
   "cell_type": "markdown",
   "id": "179b8393",
   "metadata": {},
   "source": [
    "Now that we have reduced the data down to about 3 million rows it should be managable in a single dataframe. It's useful to save the data so that we don't have to re-run the aggregation every time we want to work on the aggregated data.\n",
    "\n",
    "We'll save it in a compressed gz format - pandas automatically recognizes the filetype we specify."
   ]
  },
  {
   "cell_type": "code",
   "execution_count": 24,
   "id": "c100489f",
   "metadata": {},
   "outputs": [],
   "source": [
    "daily_summary.to_csv(\"data/daily-summary-data.gz\")"
   ]
  },
  {
   "cell_type": "markdown",
   "id": "06b1f68c",
   "metadata": {},
   "source": [
    "## Analysing the data"
   ]
  },
  {
   "cell_type": "code",
   "execution_count": 25,
   "id": "dac43f5d",
   "metadata": {},
   "outputs": [],
   "source": [
    "saved_daily_summary = pd.read_csv(\"data/daily-summary-data.gz\")"
   ]
  },
  {
   "cell_type": "code",
   "execution_count": 26,
   "id": "f0a0a85c",
   "metadata": {},
   "outputs": [
    {
     "data": {
      "text/html": [
       "<div>\n",
       "<style scoped>\n",
       "    .dataframe tbody tr th:only-of-type {\n",
       "        vertical-align: middle;\n",
       "    }\n",
       "\n",
       "    .dataframe tbody tr th {\n",
       "        vertical-align: top;\n",
       "    }\n",
       "\n",
       "    .dataframe thead th {\n",
       "        text-align: right;\n",
       "    }\n",
       "</style>\n",
       "<table border=\"1\" class=\"dataframe\">\n",
       "  <thead>\n",
       "    <tr style=\"text-align: right;\">\n",
       "      <th></th>\n",
       "      <th>Household ID</th>\n",
       "      <th>Tariff Type</th>\n",
       "      <th>Date</th>\n",
       "      <th>kWh</th>\n",
       "    </tr>\n",
       "  </thead>\n",
       "  <tbody>\n",
       "    <tr>\n",
       "      <th>0</th>\n",
       "      <td>MAC000002</td>\n",
       "      <td>Std</td>\n",
       "      <td>2012-10-12</td>\n",
       "      <td>7.098</td>\n",
       "    </tr>\n",
       "    <tr>\n",
       "      <th>1</th>\n",
       "      <td>MAC000002</td>\n",
       "      <td>Std</td>\n",
       "      <td>2012-10-13</td>\n",
       "      <td>11.087</td>\n",
       "    </tr>\n",
       "    <tr>\n",
       "      <th>2</th>\n",
       "      <td>MAC000002</td>\n",
       "      <td>Std</td>\n",
       "      <td>2012-10-14</td>\n",
       "      <td>13.223</td>\n",
       "    </tr>\n",
       "    <tr>\n",
       "      <th>3</th>\n",
       "      <td>MAC000002</td>\n",
       "      <td>Std</td>\n",
       "      <td>2012-10-15</td>\n",
       "      <td>10.257</td>\n",
       "    </tr>\n",
       "    <tr>\n",
       "      <th>4</th>\n",
       "      <td>MAC000002</td>\n",
       "      <td>Std</td>\n",
       "      <td>2012-10-16</td>\n",
       "      <td>9.769</td>\n",
       "    </tr>\n",
       "    <tr>\n",
       "      <th>...</th>\n",
       "      <td>...</td>\n",
       "      <td>...</td>\n",
       "      <td>...</td>\n",
       "      <td>...</td>\n",
       "    </tr>\n",
       "    <tr>\n",
       "      <th>3510398</th>\n",
       "      <td>MAC005564</td>\n",
       "      <td>ToU</td>\n",
       "      <td>2014-02-26</td>\n",
       "      <td>3.431</td>\n",
       "    </tr>\n",
       "    <tr>\n",
       "      <th>3510399</th>\n",
       "      <td>MAC005564</td>\n",
       "      <td>ToU</td>\n",
       "      <td>2014-02-27</td>\n",
       "      <td>4.235</td>\n",
       "    </tr>\n",
       "    <tr>\n",
       "      <th>3510400</th>\n",
       "      <td>MAC005564</td>\n",
       "      <td>ToU</td>\n",
       "      <td>2014-02-28</td>\n",
       "      <td>0.122</td>\n",
       "    </tr>\n",
       "    <tr>\n",
       "      <th>3510401</th>\n",
       "      <td>MAC005565</td>\n",
       "      <td>ToU</td>\n",
       "      <td>2012-06-20</td>\n",
       "      <td>3.896</td>\n",
       "    </tr>\n",
       "    <tr>\n",
       "      <th>3510402</th>\n",
       "      <td>MAC005565</td>\n",
       "      <td>ToU</td>\n",
       "      <td>2012-06-21</td>\n",
       "      <td>1.894</td>\n",
       "    </tr>\n",
       "  </tbody>\n",
       "</table>\n",
       "<p>3510403 rows × 4 columns</p>\n",
       "</div>"
      ],
      "text/plain": [
       "        Household ID Tariff Type        Date     kWh\n",
       "0          MAC000002         Std  2012-10-12   7.098\n",
       "1          MAC000002         Std  2012-10-13  11.087\n",
       "2          MAC000002         Std  2012-10-14  13.223\n",
       "3          MAC000002         Std  2012-10-15  10.257\n",
       "4          MAC000002         Std  2012-10-16   9.769\n",
       "...              ...         ...         ...     ...\n",
       "3510398    MAC005564         ToU  2014-02-26   3.431\n",
       "3510399    MAC005564         ToU  2014-02-27   4.235\n",
       "3510400    MAC005564         ToU  2014-02-28   0.122\n",
       "3510401    MAC005565         ToU  2012-06-20   3.896\n",
       "3510402    MAC005565         ToU  2012-06-21   1.894\n",
       "\n",
       "[3510403 rows x 4 columns]"
      ]
     },
     "execution_count": 26,
     "metadata": {},
     "output_type": "execute_result"
    }
   ],
   "source": [
    "saved_daily_summary"
   ]
  },
  {
   "cell_type": "markdown",
   "id": "8156d19d",
   "metadata": {},
   "source": [
    "Out of interest let's see what sort of data coverage we have. First we re-organize so that we have households as columns and dates as rows."
   ]
  },
  {
   "cell_type": "code",
   "execution_count": 27,
   "id": "a1539b19",
   "metadata": {},
   "outputs": [],
   "source": [
    "summary_table = saved_daily_summary.pivot_table(\n",
    "    'kWh',\n",
    "    index='Date',\n",
    "    columns='Household ID',\n",
    "    aggfunc='sum'\n",
    ")"
   ]
  },
  {
   "cell_type": "markdown",
   "id": "2f1a4db1",
   "metadata": {},
   "source": [
    "Then we can plot where we have data (black) and where we don't (white)."
   ]
  },
  {
   "cell_type": "code",
   "execution_count": 28,
   "id": "9f354e58",
   "metadata": {},
   "outputs": [
    {
     "data": {
      "image/png": "[encoded data removed]",
      "text/plain": [
       "<Figure size 1080x864 with 1 Axes>"
      ]
     },
     "metadata": {
      "needs_background": "light"
     },
     "output_type": "display_data"
    }
   ],
   "source": [
    "import matplotlib.pyplot as plt\n",
    "\n",
    "plt.figure(figsize=(15, 12))\n",
    "plt.imshow(summary_table.isna(), aspect=\"auto\", interpolation=\"nearest\", cmap=\"gray\")\n",
    "plt.xlabel(\"Column Number\")\n",
    "plt.ylabel(\"Date Number\");"
   ]
  },
  {
   "cell_type": "markdown",
   "id": "1a2e79e5",
   "metadata": {},
   "source": [
    "Despite a slightly patchy data coverage, averaging by tariff type across all households for each day should give us a useful comparison."
   ]
  },
  {
   "cell_type": "code",
   "execution_count": 29,
   "id": "bf3c9d10",
   "metadata": {},
   "outputs": [
    {
     "data": {
      "text/html": [
       "<div>\n",
       "<style scoped>\n",
       "    .dataframe tbody tr th:only-of-type {\n",
       "        vertical-align: middle;\n",
       "    }\n",
       "\n",
       "    .dataframe tbody tr th {\n",
       "        vertical-align: top;\n",
       "    }\n",
       "\n",
       "    .dataframe thead th {\n",
       "        text-align: right;\n",
       "    }\n",
       "</style>\n",
       "<table border=\"1\" class=\"dataframe\">\n",
       "  <thead>\n",
       "    <tr style=\"text-align: right;\">\n",
       "      <th>Tariff Type</th>\n",
       "      <th>Std</th>\n",
       "      <th>ToU</th>\n",
       "    </tr>\n",
       "    <tr>\n",
       "      <th>Date</th>\n",
       "      <th></th>\n",
       "      <th></th>\n",
       "    </tr>\n",
       "  </thead>\n",
       "  <tbody>\n",
       "    <tr>\n",
       "      <th>2011-11-23</th>\n",
       "      <td>7.430000</td>\n",
       "      <td>4.327500</td>\n",
       "    </tr>\n",
       "    <tr>\n",
       "      <th>2011-11-24</th>\n",
       "      <td>8.998333</td>\n",
       "      <td>6.111750</td>\n",
       "    </tr>\n",
       "    <tr>\n",
       "      <th>2011-11-25</th>\n",
       "      <td>10.102885</td>\n",
       "      <td>6.886333</td>\n",
       "    </tr>\n",
       "    <tr>\n",
       "      <th>2011-11-26</th>\n",
       "      <td>10.706257</td>\n",
       "      <td>7.709500</td>\n",
       "    </tr>\n",
       "    <tr>\n",
       "      <th>2011-11-27</th>\n",
       "      <td>11.371486</td>\n",
       "      <td>7.813500</td>\n",
       "    </tr>\n",
       "  </tbody>\n",
       "</table>\n",
       "</div>"
      ],
      "text/plain": [
       "Tariff Type        Std       ToU\n",
       "Date                            \n",
       "2011-11-23    7.430000  4.327500\n",
       "2011-11-24    8.998333  6.111750\n",
       "2011-11-25   10.102885  6.886333\n",
       "2011-11-26   10.706257  7.709500\n",
       "2011-11-27   11.371486  7.813500"
      ]
     },
     "execution_count": 29,
     "metadata": {},
     "output_type": "execute_result"
    }
   ],
   "source": [
    "daily_mean_by_tariff_type = saved_daily_summary.pivot_table(\n",
    "    'kWh',\n",
    "    index='Date',\n",
    "    columns='Tariff Type',\n",
    "    aggfunc='mean'\n",
    ")\n",
    "daily_mean_by_tariff_type.head()"
   ]
  },
  {
   "cell_type": "markdown",
   "id": "590c4f1f",
   "metadata": {},
   "source": [
    "Finally we can plot the two sets of data."
   ]
  },
  {
   "cell_type": "code",
   "execution_count": 35,
   "id": "8409b09e",
   "metadata": {},
   "outputs": [
    {
     "data": {
      "image/png": "[encoded data removed]",
      "text/plain": [
       "<Figure size 1152x360 with 1 Axes>"
      ]
     },
     "metadata": {},
     "output_type": "display_data"
    }
   ],
   "source": [
    "plt.style.use('seaborn-whitegrid')\n",
    "\n",
    "plt.figure(figsize=(16, 5), facecolor='floralwhite')\n",
    "for tariff in daily_mean_by_tariff_type.columns.to_list():\n",
    "    plt.plot(\n",
    "        daily_mean_by_tariff_type.index.values,\n",
    "        daily_mean_by_tariff_type[tariff],\n",
    "        label = tariff\n",
    "    )\n",
    "\n",
    "plt.legend(loc='center', frameon=True, facecolor='whitesmoke', framealpha=1, fontsize=14)\n",
    "plt.title(\n",
    "    'Mean daily energy consumption by household group',\n",
    "    fontdict = {'fontsize' : 16, 'fontweight' : 'bold'}\n",
    ")\n",
    "plt.xlabel('Date', fontsize = 14)\n",
    "plt.ylabel('kWH', fontsize = 14)\n",
    "plt.show()"
   ]
  },
  {
   "cell_type": "markdown",
   "id": "fd50de59",
   "metadata": {},
   "source": [
    "The pattern looks seasonal which makes sense given heating energy demand.\n",
    "\n",
    "It also looks like there's a difference between the two groups with the ToU group tending to consume less, but the display is too granular. Let's aggregate again into months."
   ]
  },
  {
   "cell_type": "code",
   "execution_count": 31,
   "id": "6604ba1e",
   "metadata": {},
   "outputs": [
    {
     "data": {
      "text/html": [
       "<div>\n",
       "<style scoped>\n",
       "    .dataframe tbody tr th:only-of-type {\n",
       "        vertical-align: middle;\n",
       "    }\n",
       "\n",
       "    .dataframe tbody tr th {\n",
       "        vertical-align: top;\n",
       "    }\n",
       "\n",
       "    .dataframe thead th {\n",
       "        text-align: right;\n",
       "    }\n",
       "</style>\n",
       "<table border=\"1\" class=\"dataframe\">\n",
       "  <thead>\n",
       "    <tr style=\"text-align: right;\">\n",
       "      <th>Tariff Type</th>\n",
       "      <th>Std</th>\n",
       "      <th>ToU</th>\n",
       "    </tr>\n",
       "    <tr>\n",
       "      <th>Date</th>\n",
       "      <th></th>\n",
       "      <th></th>\n",
       "    </tr>\n",
       "  </thead>\n",
       "  <tbody>\n",
       "    <tr>\n",
       "      <th>2011-11-23</th>\n",
       "      <td>7.430000</td>\n",
       "      <td>4.327500</td>\n",
       "    </tr>\n",
       "    <tr>\n",
       "      <th>2011-11-24</th>\n",
       "      <td>8.998333</td>\n",
       "      <td>6.111750</td>\n",
       "    </tr>\n",
       "    <tr>\n",
       "      <th>2011-11-25</th>\n",
       "      <td>10.102885</td>\n",
       "      <td>6.886333</td>\n",
       "    </tr>\n",
       "    <tr>\n",
       "      <th>2011-11-26</th>\n",
       "      <td>10.706257</td>\n",
       "      <td>7.709500</td>\n",
       "    </tr>\n",
       "    <tr>\n",
       "      <th>2011-11-27</th>\n",
       "      <td>11.371486</td>\n",
       "      <td>7.813500</td>\n",
       "    </tr>\n",
       "  </tbody>\n",
       "</table>\n",
       "</div>"
      ],
      "text/plain": [
       "Tariff Type        Std       ToU\n",
       "Date                            \n",
       "2011-11-23    7.430000  4.327500\n",
       "2011-11-24    8.998333  6.111750\n",
       "2011-11-25   10.102885  6.886333\n",
       "2011-11-26   10.706257  7.709500\n",
       "2011-11-27   11.371486  7.813500"
      ]
     },
     "execution_count": 31,
     "metadata": {},
     "output_type": "execute_result"
    }
   ],
   "source": [
    "daily_mean_by_tariff_type.index = pd.to_datetime(daily_mean_by_tariff_type.index)\n",
    "daily_mean_by_tariff_type.head()"
   ]
  },
  {
   "cell_type": "markdown",
   "id": "5af9e119",
   "metadata": {},
   "source": [
    "We can see that the data starts partway through November 2011, so we'll start from 1 December. It looks like the data finishes perfectly at the end of February, but the last value looks suspiciously low compared to the others. It seems likely the data finished part way through the last day. This may be a problem elsewhere in the data too, but it shouldn't have an enormous effect as at worst it will reduce the month's energy consumption for that household by two days (one at the beginning and one at the end)."
   ]
  },
  {
   "cell_type": "code",
   "execution_count": 32,
   "id": "c111b848",
   "metadata": {},
   "outputs": [
    {
     "data": {
      "text/html": [
       "<div>\n",
       "<style scoped>\n",
       "    .dataframe tbody tr th:only-of-type {\n",
       "        vertical-align: middle;\n",
       "    }\n",
       "\n",
       "    .dataframe tbody tr th {\n",
       "        vertical-align: top;\n",
       "    }\n",
       "\n",
       "    .dataframe thead th {\n",
       "        text-align: right;\n",
       "    }\n",
       "</style>\n",
       "<table border=\"1\" class=\"dataframe\">\n",
       "  <thead>\n",
       "    <tr style=\"text-align: right;\">\n",
       "      <th>Tariff Type</th>\n",
       "      <th>Std</th>\n",
       "      <th>ToU</th>\n",
       "    </tr>\n",
       "    <tr>\n",
       "      <th>Date</th>\n",
       "      <th></th>\n",
       "      <th></th>\n",
       "    </tr>\n",
       "  </thead>\n",
       "  <tbody>\n",
       "    <tr>\n",
       "      <th>2011-12-31</th>\n",
       "      <td>377.443042</td>\n",
       "      <td>365.391597</td>\n",
       "    </tr>\n",
       "    <tr>\n",
       "      <th>2012-01-31</th>\n",
       "      <td>401.744672</td>\n",
       "      <td>386.253703</td>\n",
       "    </tr>\n",
       "    <tr>\n",
       "      <th>2012-02-29</th>\n",
       "      <td>395.294296</td>\n",
       "      <td>368.663764</td>\n",
       "    </tr>\n",
       "    <tr>\n",
       "      <th>2012-03-31</th>\n",
       "      <td>349.367317</td>\n",
       "      <td>331.095386</td>\n",
       "    </tr>\n",
       "    <tr>\n",
       "      <th>2012-04-30</th>\n",
       "      <td>314.323216</td>\n",
       "      <td>297.032370</td>\n",
       "    </tr>\n",
       "  </tbody>\n",
       "</table>\n",
       "</div>"
      ],
      "text/plain": [
       "Tariff Type         Std         ToU\n",
       "Date                               \n",
       "2011-12-31   377.443042  365.391597\n",
       "2012-01-31   401.744672  386.253703\n",
       "2012-02-29   395.294296  368.663764\n",
       "2012-03-31   349.367317  331.095386\n",
       "2012-04-30   314.323216  297.032370"
      ]
     },
     "execution_count": 32,
     "metadata": {},
     "output_type": "execute_result"
    }
   ],
   "source": [
    "monthly_mean_by_tariff_type = daily_mean_by_tariff_type['2011-12-01' : '2014-01-31'].resample('M').sum()\n",
    "monthly_mean_by_tariff_type.head()"
   ]
  },
  {
   "cell_type": "code",
   "execution_count": 33,
   "id": "f4a5c3af",
   "metadata": {
    "scrolled": true
   },
   "outputs": [
    {
     "data": {
      "image/png": "[encoded data removed]",
      "text/plain": [
       "<Figure size 1152x360 with 1 Axes>"
      ]
     },
     "metadata": {},
     "output_type": "display_data"
    }
   ],
   "source": [
    "plt.figure(figsize=(16, 5), facecolor='floralwhite')\n",
    "for tariff in daily_mean_by_tariff_type.columns.to_list():\n",
    "    plt.plot(\n",
    "        monthly_mean_by_tariff_type.index.values,\n",
    "        monthly_mean_by_tariff_type[tariff],\n",
    "        label = tariff\n",
    "    )\n",
    "\n",
    "plt.legend(loc='lower left', frameon=True, facecolor='whitesmoke', framealpha=1, fontsize=14)\n",
    "plt.title(\n",
    "    'Monthly energy consumption by household group',\n",
    "    fontdict = {'fontsize' : 16, 'fontweight' : 'bold'}\n",
    ")\n",
    "plt.xlabel('Month', fontsize = 14)\n",
    "plt.ylabel('kWH', fontsize = 14)\n",
    "\n",
    "# Uncomment for a copy to display in results\n",
    "plt.savefig(fname='images/result1.png', bbox_inches='tight')\n",
    "\n",
    "plt.show()"
   ]
  },
  {
   "cell_type": "markdown",
   "id": "47267e03",
   "metadata": {},
   "source": [
    "The pattern is much clearer and there is an obvious difference between the two groups of consumers.\n",
    "\n",
    "Note that the chart does not show mean monthly energy consumption, but the sum over each month of the daily means. To calculate true monthly means we would need to drop the daily data for each household where the data was incomplete for a month. Our method should give a reasonable approximation.\n",
    "\n",
    "Lastly we close the Dask client although it will automatically close when our Python session ends."
   ]
  },
  {
   "cell_type": "code",
   "execution_count": 34,
   "id": "8c065bdb",
   "metadata": {},
   "outputs": [],
   "source": [
    "client.close()"
   ]
  }
 ],
 "metadata": {
  "kernelspec": {
   "display_name": "Python [conda env:datascience]",
   "language": "python",
   "name": "conda-env-datascience-py"
  },
  "language_info": {
   "codemirror_mode": {
    "name": "ipython",
    "version": 3
   },
   "file_extension": ".py",
   "mimetype": "text/x-python",
   "name": "python",
   "nbconvert_exporter": "python",
   "pygments_lexer": "ipython3",
   "version": "3.9.12"
  }
 },
 "nbformat": 4,
 "nbformat_minor": 5
}
