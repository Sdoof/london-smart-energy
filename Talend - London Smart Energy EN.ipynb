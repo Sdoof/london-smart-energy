{
 "cells": [
  {
   "cell_type": "markdown",
   "id": "858a26ca",
   "metadata": {},
   "source": [
    "## Introduction"
   ]
  },
  {
   "cell_type": "markdown",
   "id": "4ed54f5c",
   "metadata": {},
   "source": [
    "This is the ***fourth*** of a series where I look at big datasets, and in each case I'm using a different tool to carry out the same analysis on the same dataset.\n",
    "\n",
    "This time I'm using **Talend Open Studio**, an open source ETL tool. You can find each notebook in the series in my [Github repo](https://github.com/jlad26/london-smart-energy), including:\n",
    "1. Pandas chunksize\n",
    "1. Dask library\n",
    "1. PySpark\n",
    "1. Talend Open Studio\n",
    "\n",
    "There is a little more explanation in the first notebook (Pandas chunksize) on the overall approach to the analysis. In the other notebooks I focus more on the elements specific to the tool being used."
   ]
  },
  {
   "cell_type": "markdown",
   "id": "9b307cbe",
   "metadata": {},
   "source": [
    "## Dataset description"
   ]
  },
  {
   "cell_type": "markdown",
   "id": "5ff7674a",
   "metadata": {},
   "source": [
    "Throughout the series we'll use the [SmartMeter Energy Consumption Data in London Households](https://data.london.gov.uk/dataset/smartmeter-energy-use-data-in-london-households) dataset, which according to the website contains:\n",
    ">Energy consumption readings for a sample of 5,567 London Households that took part in the UK Power Networks led Low Carbon London project between November 2011 and February 2014.\n",
    "\n",
    "The households were divided into two groups:\n",
    "- Those who were sent Dynamic Time of Use (dToU) energy prices (labelled \"High\", \"Medium\", or \"Low\") a day in advance of the price being applied.\n",
    "- Those who were subject to the Standard tariff.\n",
    "\n",
    "One aim of the study was to see if pricing knowledge would affect energy consumption behaviour."
   ]
  },
  {
   "cell_type": "markdown",
   "id": "87f81d04",
   "metadata": {},
   "source": [
    "## Results"
   ]
  },
  {
   "cell_type": "markdown",
   "id": "99f7cdd5",
   "metadata": {},
   "source": [
    "<img src=\"images/result1-no-dupes.png\" width=\"100%\"/>"
   ]
  },
  {
   "cell_type": "markdown",
   "id": "f206a372",
   "metadata": {},
   "source": [
    "The results show the expected seasonal variation with a clear difference between the two groups, suggesting that energy price knowledge does indeed help reduce energy consumption.\n",
    "\n",
    "The rest of the notebook shows how this chart was produced from the raw data."
   ]
  },
  {
   "cell_type": "markdown",
   "id": "3f0c5db1",
   "metadata": {},
   "source": [
    "## Introduction to Talend Open Studio"
   ]
  },
  {
   "cell_type": "markdown",
   "id": "1a24411d",
   "metadata": {},
   "source": [
    "Talend Open Studio is a free ETL (Extract-Transform-Load) program. Here's how Talend describe it:\n",
    "\n",
    ">With Talend Open Studio, you can begin building basic data pipelines in no time. Execute simple ETL and data integration tasks, get graphical profiles of your data, and manage files  — from a locally installed, open-source environment that you control.\n",
    "\n",
    "Although we'll be carrying out largely the same operations as in the other notebooks, this time we'll be using the Talend GUI to create those operations, and where we need to use code it will be Java, not Python, as Open Studio runs on Java.\n",
    "\n",
    "I will assume a basic knowledge of how to use Talend Open Studio, so this will not be a detailed how-to guide.\n",
    "\n",
    "**NB** Please note also that this is just a training exercise for me - Talend may not be the best tool for some of the tasks presented here."
   ]
  },
  {
   "cell_type": "markdown",
   "id": "e9f86fd0",
   "metadata": {},
   "source": [
    "### Installation"
   ]
  },
  {
   "cell_type": "markdown",
   "id": "cd9aa2ab",
   "metadata": {},
   "source": [
    "The program is downloadable [here](https://www.talend.com/products/talend-open-studio/). I am using an old version 7.01 (because during my data science course our trainer used it saying it is reliable). Note you will also need Java installed - v11 is required for the latest version of Open Studio, while v8 works for older versions."
   ]
  },
  {
   "cell_type": "markdown",
   "id": "b391c060",
   "metadata": {},
   "source": [
    "### Talend files"
   ]
  },
  {
   "cell_type": "markdown",
   "id": "781fc1b6",
   "metadata": {},
   "source": [
    "All the job files that I use are available in this Github repository in a zip file in the folder `Talend`. You should be able to import them as an archive into a Talend project and use them yourself with the data.\n",
    "\n",
    "However, throughout this exercise you will see I use absolute filepaths. That's because a relative filepath for Talend is relative to its installation folder and that is not where I want to store data. That means you will need to adjust the filepaths for the jobs to work on your computer."
   ]
  },
  {
   "cell_type": "markdown",
   "id": "ec429e0b",
   "metadata": {},
   "source": [
    "## Accessing the data"
   ]
  },
  {
   "cell_type": "markdown",
   "id": "22096818",
   "metadata": {},
   "source": [
    "The data is downloadable as a single zip file which contains a csv file of 167 million rows. If the `curl` command doesn't work (and it will take a while as it's a file of 800MB), you can download the file [here](https://data.london.gov.uk/download/smartmeter-energy-use-data-in-london-households/3527bf39-d93e-4071-8451-df2ade1ea4f2/LCL-FullData.zip) and put it in the folder `data` which is in the folder where this notebook is saved."
   ]
  },
  {
   "cell_type": "code",
   "execution_count": null,
   "id": "6a651b9e",
   "metadata": {},
   "outputs": [],
   "source": [
    "!curl \"https://data.london.gov.uk/download/smartmeter-energy-use-data-in-london-households/3527bf39-d93e-4071-8451-df2ade1ea4f2/LCL-FullData.zip\" --location --create-dirs -o \"data/LCL-FullData.zip\""
   ]
  },
  {
   "cell_type": "markdown",
   "id": "b137cc5a",
   "metadata": {},
   "source": [
    "First we unzip the data. This may take a while! Alternatively you can unzip it manually using whatever unzip utility you have. Just make sure the extracted file is in a folder called `data` within the folder where your notebook is saved."
   ]
  },
  {
   "cell_type": "code",
   "execution_count": 1,
   "id": "64cb86d9",
   "metadata": {},
   "outputs": [
    {
     "name": "stdout",
     "output_type": "stream",
     "text": [
      "Archive:  data/LCL-FullData.zip\n",
      "  inflating: data/CC_LCL-FullData.csv  \n"
     ]
    }
   ],
   "source": [
    "!unzip \"data/LCL-FullData.zip\" -d \"data\""
   ]
  },
  {
   "cell_type": "markdown",
   "id": "cf811a94",
   "metadata": {},
   "source": [
    "## Examining the data"
   ]
  },
  {
   "cell_type": "markdown",
   "id": "64dff7a7",
   "metadata": {},
   "source": [
    "First we'll create a test file - a file containing a small subset of the data. For this job \"Job_Create_Test_File\" we use a tFileInputDelimited component and a tFileOutputDelimited component. The important setting is shown near the bottom of the screenshot for the tFileInputDelimited component - the Limit is set to 1,000,000 rows."
   ]
  },
  {
   "cell_type": "markdown",
   "id": "38a0f99c",
   "metadata": {},
   "source": [
    "### Job_Create_Test_File"
   ]
  },
  {
   "cell_type": "markdown",
   "id": "a72e6cda",
   "metadata": {},
   "source": [
    "**tFileInputDelimited - Raw_Data_File**"
   ]
  },
  {
   "cell_type": "markdown",
   "id": "f69dfdfc",
   "metadata": {},
   "source": [
    "<img src=\"images/Talend-Job_Create_Test_File-tFileInputDelimited.png\" width=\"100%\"/>"
   ]
  },
  {
   "cell_type": "markdown",
   "id": "4cc5de15",
   "metadata": {},
   "source": [
    "**tFile_Output_Delimited - Test_Data_File**\n",
    "\n",
    "We save our output file of 1,000,000 rows as \"test-data.csv\"."
   ]
  },
  {
   "cell_type": "markdown",
   "id": "83007cb3",
   "metadata": {},
   "source": [
    "<img src=\"images/Talend-Job_Create_Test_File-tFileOutputDelimited.png\" width=\"100%\"/>"
   ]
  },
  {
   "cell_type": "markdown",
   "id": "3ef463e1",
   "metadata": {},
   "source": [
    "And now we can view the file using Pandas."
   ]
  },
  {
   "cell_type": "code",
   "execution_count": 2,
   "id": "e8b2a70f",
   "metadata": {},
   "outputs": [],
   "source": [
    "import pandas as pd"
   ]
  },
  {
   "cell_type": "code",
   "execution_count": 3,
   "id": "93a59813",
   "metadata": {},
   "outputs": [],
   "source": [
    "test_data = pd.read_csv(\"data/test-data.csv\")"
   ]
  },
  {
   "cell_type": "code",
   "execution_count": 4,
   "id": "052364a5",
   "metadata": {},
   "outputs": [
    {
     "data": {
      "text/html": [
       "<div>\n",
       "<style scoped>\n",
       "    .dataframe tbody tr th:only-of-type {\n",
       "        vertical-align: middle;\n",
       "    }\n",
       "\n",
       "    .dataframe tbody tr th {\n",
       "        vertical-align: top;\n",
       "    }\n",
       "\n",
       "    .dataframe thead th {\n",
       "        text-align: right;\n",
       "    }\n",
       "</style>\n",
       "<table border=\"1\" class=\"dataframe\">\n",
       "  <thead>\n",
       "    <tr style=\"text-align: right;\">\n",
       "      <th></th>\n",
       "      <th>LCLid</th>\n",
       "      <th>stdorToU</th>\n",
       "      <th>DateTime</th>\n",
       "      <th>KWH_hh__per_half_hour_</th>\n",
       "    </tr>\n",
       "  </thead>\n",
       "  <tbody>\n",
       "    <tr>\n",
       "      <th>0</th>\n",
       "      <td>MAC000002</td>\n",
       "      <td>Std</td>\n",
       "      <td>2012-10-12 00:30:00.0000000</td>\n",
       "      <td>0</td>\n",
       "    </tr>\n",
       "    <tr>\n",
       "      <th>1</th>\n",
       "      <td>MAC000002</td>\n",
       "      <td>Std</td>\n",
       "      <td>2012-10-12 01:00:00.0000000</td>\n",
       "      <td>0</td>\n",
       "    </tr>\n",
       "    <tr>\n",
       "      <th>2</th>\n",
       "      <td>MAC000002</td>\n",
       "      <td>Std</td>\n",
       "      <td>2012-10-12 01:30:00.0000000</td>\n",
       "      <td>0</td>\n",
       "    </tr>\n",
       "    <tr>\n",
       "      <th>3</th>\n",
       "      <td>MAC000002</td>\n",
       "      <td>Std</td>\n",
       "      <td>2012-10-12 02:00:00.0000000</td>\n",
       "      <td>0</td>\n",
       "    </tr>\n",
       "    <tr>\n",
       "      <th>4</th>\n",
       "      <td>MAC000002</td>\n",
       "      <td>Std</td>\n",
       "      <td>2012-10-12 02:30:00.0000000</td>\n",
       "      <td>0</td>\n",
       "    </tr>\n",
       "    <tr>\n",
       "      <th>...</th>\n",
       "      <td>...</td>\n",
       "      <td>...</td>\n",
       "      <td>...</td>\n",
       "      <td>...</td>\n",
       "    </tr>\n",
       "    <tr>\n",
       "      <th>999995</th>\n",
       "      <td>MAC000036</td>\n",
       "      <td>Std</td>\n",
       "      <td>2012-11-08 08:00:00.0000000</td>\n",
       "      <td>0.228</td>\n",
       "    </tr>\n",
       "    <tr>\n",
       "      <th>999996</th>\n",
       "      <td>MAC000036</td>\n",
       "      <td>Std</td>\n",
       "      <td>2012-11-08 08:30:00.0000000</td>\n",
       "      <td>0.042</td>\n",
       "    </tr>\n",
       "    <tr>\n",
       "      <th>999997</th>\n",
       "      <td>MAC000036</td>\n",
       "      <td>Std</td>\n",
       "      <td>2012-11-08 09:00:00.0000000</td>\n",
       "      <td>0.076</td>\n",
       "    </tr>\n",
       "    <tr>\n",
       "      <th>999998</th>\n",
       "      <td>MAC000036</td>\n",
       "      <td>Std</td>\n",
       "      <td>2012-11-08 09:30:00.0000000</td>\n",
       "      <td>0.07</td>\n",
       "    </tr>\n",
       "    <tr>\n",
       "      <th>999999</th>\n",
       "      <td>MAC000036</td>\n",
       "      <td>Std</td>\n",
       "      <td>2012-11-08 10:00:00.0000000</td>\n",
       "      <td>0.005</td>\n",
       "    </tr>\n",
       "  </tbody>\n",
       "</table>\n",
       "<p>1000000 rows × 4 columns</p>\n",
       "</div>"
      ],
      "text/plain": [
       "            LCLid stdorToU                     DateTime KWH_hh__per_half_hour_\n",
       "0       MAC000002      Std  2012-10-12 00:30:00.0000000                     0 \n",
       "1       MAC000002      Std  2012-10-12 01:00:00.0000000                     0 \n",
       "2       MAC000002      Std  2012-10-12 01:30:00.0000000                     0 \n",
       "3       MAC000002      Std  2012-10-12 02:00:00.0000000                     0 \n",
       "4       MAC000002      Std  2012-10-12 02:30:00.0000000                     0 \n",
       "...           ...      ...                          ...                    ...\n",
       "999995  MAC000036      Std  2012-11-08 08:00:00.0000000                 0.228 \n",
       "999996  MAC000036      Std  2012-11-08 08:30:00.0000000                 0.042 \n",
       "999997  MAC000036      Std  2012-11-08 09:00:00.0000000                 0.076 \n",
       "999998  MAC000036      Std  2012-11-08 09:30:00.0000000                  0.07 \n",
       "999999  MAC000036      Std  2012-11-08 10:00:00.0000000                 0.005 \n",
       "\n",
       "[1000000 rows x 4 columns]"
      ]
     },
     "execution_count": 4,
     "metadata": {},
     "output_type": "execute_result"
    }
   ],
   "source": [
    "test_data"
   ]
  },
  {
   "cell_type": "markdown",
   "id": "6dd35c1c",
   "metadata": {},
   "source": [
    "Now we check for duplicates in our test data using a tUniqRow component and a tLogRow component. The results show we have duplicates that will need to be removed."
   ]
  },
  {
   "cell_type": "markdown",
   "id": "eea4d5af",
   "metadata": {},
   "source": [
    "<img src=\"images/Talend-Job_Check_For_Dupes.png\" width=\"100%\"/>"
   ]
  },
  {
   "cell_type": "markdown",
   "id": "80546fc8",
   "metadata": {},
   "source": [
    "Let's also check the aggregation. We're going to aggregate the half-hourly data into daily data, so for that we'll use a tMap and a tAggregateRow."
   ]
  },
  {
   "cell_type": "markdown",
   "id": "1710e82b",
   "metadata": {},
   "source": [
    "<img src=\"images/Talend-Job_Check_Aggregation.png\" width=\"100%\"/>"
   ]
  },
  {
   "cell_type": "markdown",
   "id": "2dcb8210",
   "metadata": {},
   "source": [
    "**tMap Settings**"
   ]
  },
  {
   "cell_type": "markdown",
   "id": "47bdb501",
   "metadata": {},
   "source": [
    "Note:\n",
    "- I changed the Type of kWh in the Test_Data_File tFileInputDelimited component from `String` to `Float` as we expect them to be decimal numbers.\n",
    "- I have used an expression to convert the DateTime values to Date values, but for simplicity we are keeping them as type `String`."
   ]
  },
  {
   "cell_type": "markdown",
   "id": "126601b0",
   "metadata": {},
   "source": [
    "<img src=\"images/Talend-Job_Check_Aggregation-tMap_Settings.png\" width=\"100%\"/>"
   ]
  },
  {
   "cell_type": "markdown",
   "id": "093ce2fc",
   "metadata": {},
   "source": [
    "**tAggregateRow settings**"
   ]
  },
  {
   "cell_type": "markdown",
   "id": "079696ce",
   "metadata": {},
   "source": [
    "We group by `Household_ID`, `Tariff_Type`, and `Date` and sum the kWh data."
   ]
  },
  {
   "cell_type": "markdown",
   "id": "4b2d10ee",
   "metadata": {},
   "source": [
    "<img src=\"images/Talend-Job_Check_Aggregation-tAggregateRow_Settings.png\" width=\"100%\"/>"
   ]
  },
  {
   "cell_type": "markdown",
   "id": "2075fa30",
   "metadata": {},
   "source": [
    "When we execute however, the tLogRow shows us some errors as well as some successful aggregation."
   ]
  },
  {
   "cell_type": "markdown",
   "id": "8ebad5b7",
   "metadata": {},
   "source": [
    "<img src=\"images/Talend-Job_Check_Aggregation-tLogRow_Output.png\" />"
   ]
  },
  {
   "cell_type": "markdown",
   "id": "5fe1b372",
   "metadata": {},
   "source": [
    "The error message tells us we have some `\"Null\"` values which we will have to remove.\n",
    "\n",
    "We remove them using a tFilterRow component. Note however that I have reset the `kWh` data type back to `String` for the Test_Data_File tFileInputDelimited component and for the tFilterRow component. Then we can set the tFilterRow to pass on all kWh values that are not equal to `\"Null\"`."
   ]
  },
  {
   "cell_type": "markdown",
   "id": "8a356fac",
   "metadata": {},
   "source": [
    "<img src=\"images/Talend-Job_Check_Aggregation_Removing_Nulls-tFilterRow_Settings.png\" />"
   ]
  },
  {
   "cell_type": "markdown",
   "id": "c7161aba",
   "metadata": {},
   "source": [
    "The tMap is unchanged except for the transformation of kWh from type `String` to type `Float` using the functions `Float.parseFloat()`."
   ]
  },
  {
   "cell_type": "markdown",
   "id": "89d1b50e",
   "metadata": {},
   "source": [
    "<img src=\"images/Talend-Job_Check_Aggregation_Removing_Nulls-tMap_Settings.png\" />"
   ]
  },
  {
   "cell_type": "markdown",
   "id": "50156740",
   "metadata": {},
   "source": [
    "Now when we run we get no errors."
   ]
  },
  {
   "cell_type": "markdown",
   "id": "ffda8678",
   "metadata": {},
   "source": [
    "## Aggregating the test data"
   ]
  },
  {
   "cell_type": "markdown",
   "id": "20c077d0",
   "metadata": {},
   "source": [
    "The overall process for the test data is then as shown below:\n",
    "- Remove duplicates using a tUniqRow.\n",
    "- Remove nulls using a tFilterRow.\n",
    "- Convert timestamp to date and kWh from `String` to `Float` using a tMap.\n",
    "- Aggregate using a tAggregate row.\n",
    "- Output to a csv (test-out.csv)."
   ]
  },
  {
   "cell_type": "markdown",
   "id": "fc5f5900",
   "metadata": {},
   "source": [
    "<img src=\"images/Talend-Job_Entire_Process_No_Batch.png\" />"
   ]
  },
  {
   "cell_type": "markdown",
   "id": "c968a183",
   "metadata": {},
   "source": [
    "We can read the results into pandas."
   ]
  },
  {
   "cell_type": "code",
   "execution_count": 5,
   "id": "31227f23",
   "metadata": {},
   "outputs": [],
   "source": [
    "test_summary_data = pd.read_csv(\"data/test-out.csv\")"
   ]
  },
  {
   "cell_type": "code",
   "execution_count": 6,
   "id": "f71767de",
   "metadata": {},
   "outputs": [
    {
     "data": {
      "text/html": [
       "<div>\n",
       "<style scoped>\n",
       "    .dataframe tbody tr th:only-of-type {\n",
       "        vertical-align: middle;\n",
       "    }\n",
       "\n",
       "    .dataframe tbody tr th {\n",
       "        vertical-align: top;\n",
       "    }\n",
       "\n",
       "    .dataframe thead th {\n",
       "        text-align: right;\n",
       "    }\n",
       "</style>\n",
       "<table border=\"1\" class=\"dataframe\">\n",
       "  <thead>\n",
       "    <tr style=\"text-align: right;\">\n",
       "      <th></th>\n",
       "      <th>Household_ID</th>\n",
       "      <th>Tariff_Type</th>\n",
       "      <th>Date</th>\n",
       "      <th>kWh</th>\n",
       "    </tr>\n",
       "  </thead>\n",
       "  <tbody>\n",
       "    <tr>\n",
       "      <th>14463</th>\n",
       "      <td>MAC000002</td>\n",
       "      <td>Std</td>\n",
       "      <td>2012-10-12</td>\n",
       "      <td>7.098</td>\n",
       "    </tr>\n",
       "    <tr>\n",
       "      <th>14464</th>\n",
       "      <td>MAC000002</td>\n",
       "      <td>Std</td>\n",
       "      <td>2012-10-13</td>\n",
       "      <td>11.087</td>\n",
       "    </tr>\n",
       "    <tr>\n",
       "      <th>14440</th>\n",
       "      <td>MAC000002</td>\n",
       "      <td>Std</td>\n",
       "      <td>2012-10-14</td>\n",
       "      <td>13.223</td>\n",
       "    </tr>\n",
       "    <tr>\n",
       "      <th>14443</th>\n",
       "      <td>MAC000002</td>\n",
       "      <td>Std</td>\n",
       "      <td>2012-10-15</td>\n",
       "      <td>10.257</td>\n",
       "    </tr>\n",
       "    <tr>\n",
       "      <th>14446</th>\n",
       "      <td>MAC000002</td>\n",
       "      <td>Std</td>\n",
       "      <td>2012-10-16</td>\n",
       "      <td>9.769</td>\n",
       "    </tr>\n",
       "    <tr>\n",
       "      <th>...</th>\n",
       "      <td>...</td>\n",
       "      <td>...</td>\n",
       "      <td>...</td>\n",
       "      <td>...</td>\n",
       "    </tr>\n",
       "    <tr>\n",
       "      <th>19879</th>\n",
       "      <td>MAC000036</td>\n",
       "      <td>Std</td>\n",
       "      <td>2012-11-04</td>\n",
       "      <td>2.401</td>\n",
       "    </tr>\n",
       "    <tr>\n",
       "      <th>19870</th>\n",
       "      <td>MAC000036</td>\n",
       "      <td>Std</td>\n",
       "      <td>2012-11-05</td>\n",
       "      <td>2.379</td>\n",
       "    </tr>\n",
       "    <tr>\n",
       "      <th>19873</th>\n",
       "      <td>MAC000036</td>\n",
       "      <td>Std</td>\n",
       "      <td>2012-11-06</td>\n",
       "      <td>2.352</td>\n",
       "    </tr>\n",
       "    <tr>\n",
       "      <th>19885</th>\n",
       "      <td>MAC000036</td>\n",
       "      <td>Std</td>\n",
       "      <td>2012-11-07</td>\n",
       "      <td>2.599</td>\n",
       "    </tr>\n",
       "    <tr>\n",
       "      <th>19888</th>\n",
       "      <td>MAC000036</td>\n",
       "      <td>Std</td>\n",
       "      <td>2012-11-08</td>\n",
       "      <td>0.689</td>\n",
       "    </tr>\n",
       "  </tbody>\n",
       "</table>\n",
       "<p>20870 rows × 4 columns</p>\n",
       "</div>"
      ],
      "text/plain": [
       "      Household_ID Tariff_Type        Date     kWh\n",
       "14463    MAC000002         Std  2012-10-12   7.098\n",
       "14464    MAC000002         Std  2012-10-13  11.087\n",
       "14440    MAC000002         Std  2012-10-14  13.223\n",
       "14443    MAC000002         Std  2012-10-15  10.257\n",
       "14446    MAC000002         Std  2012-10-16   9.769\n",
       "...            ...         ...         ...     ...\n",
       "19879    MAC000036         Std  2012-11-04   2.401\n",
       "19870    MAC000036         Std  2012-11-05   2.379\n",
       "19873    MAC000036         Std  2012-11-06   2.352\n",
       "19885    MAC000036         Std  2012-11-07   2.599\n",
       "19888    MAC000036         Std  2012-11-08   0.689\n",
       "\n",
       "[20870 rows x 4 columns]"
      ]
     },
     "execution_count": 6,
     "metadata": {},
     "output_type": "execute_result"
    }
   ],
   "source": [
    "test_summary_data.sort_values(['Household_ID', 'Tariff_Type', 'Date'])"
   ]
  },
  {
   "cell_type": "markdown",
   "id": "26d718e1",
   "metadata": {},
   "source": [
    "This works fine on the test data. But when we run it on the full data we quickly encounter memory errors. After testing various approaches, my conclusions were:\n",
    "1. The deduplication is the most memory-intensive operation.\n",
    "1. Even when using techniques like increasing the maximum available memory for the job (see [here](https://help.talend.com/r/en-US/7.2/studio-user-guide-data-integration/specifying-limits-of-vm-memory-for-job-or-route)) and using the Use of disk setting for the tUniqRow component (see in the Advanced Settings [here](https://help.talend.com/r/en-US/7.2/deduplication/tuniqrow-standard-properties)), the task still failed for lack of memory.\n",
    "1. The solution I found - (there may be well better) - was to split the initial file into several files. However for deduplication to work the splits have to be located so that there cannot be duplicates between files, only within each file. For that we'll look at splitting by household ID or by year-month. Either approach guarantees no duplicates between files."
   ]
  },
  {
   "cell_type": "markdown",
   "id": "cd79ca46",
   "metadata": {},
   "source": [
    "**Unique Household IDs**\n",
    "\n",
    "Below is the process used to generate a list of unique household IDs."
   ]
  },
  {
   "cell_type": "markdown",
   "id": "07b7518a",
   "metadata": {},
   "source": [
    "<img src=\"images/Talend-Job_Generate_Household_ID_List.png\" />"
   ]
  },
  {
   "cell_type": "markdown",
   "id": "e13a355b",
   "metadata": {},
   "source": [
    "Note the schema of the tUniqRow component has only Household_ID as its output.\n",
    "\n",
    "We can view the list as a Pandas dataframe."
   ]
  },
  {
   "cell_type": "code",
   "execution_count": 7,
   "id": "9eac6b17",
   "metadata": {},
   "outputs": [],
   "source": [
    "household_ids = pd.read_csv(\"data/unique-household-ids.csv\", header=None, names=['Household IDs'])"
   ]
  },
  {
   "cell_type": "code",
   "execution_count": 8,
   "id": "ca54830b",
   "metadata": {
    "scrolled": false
   },
   "outputs": [
    {
     "data": {
      "text/html": [
       "<div>\n",
       "<style scoped>\n",
       "    .dataframe tbody tr th:only-of-type {\n",
       "        vertical-align: middle;\n",
       "    }\n",
       "\n",
       "    .dataframe tbody tr th {\n",
       "        vertical-align: top;\n",
       "    }\n",
       "\n",
       "    .dataframe thead th {\n",
       "        text-align: right;\n",
       "    }\n",
       "</style>\n",
       "<table border=\"1\" class=\"dataframe\">\n",
       "  <thead>\n",
       "    <tr style=\"text-align: right;\">\n",
       "      <th></th>\n",
       "      <th>Household IDs</th>\n",
       "    </tr>\n",
       "  </thead>\n",
       "  <tbody>\n",
       "    <tr>\n",
       "      <th>0</th>\n",
       "      <td>MAC000002</td>\n",
       "    </tr>\n",
       "    <tr>\n",
       "      <th>1</th>\n",
       "      <td>MAC000003</td>\n",
       "    </tr>\n",
       "    <tr>\n",
       "      <th>2</th>\n",
       "      <td>MAC000004</td>\n",
       "    </tr>\n",
       "    <tr>\n",
       "      <th>3</th>\n",
       "      <td>MAC000005</td>\n",
       "    </tr>\n",
       "    <tr>\n",
       "      <th>4</th>\n",
       "      <td>MAC000006</td>\n",
       "    </tr>\n",
       "    <tr>\n",
       "      <th>...</th>\n",
       "      <td>...</td>\n",
       "    </tr>\n",
       "    <tr>\n",
       "      <th>5561</th>\n",
       "      <td>MAC005563</td>\n",
       "    </tr>\n",
       "    <tr>\n",
       "      <th>5562</th>\n",
       "      <td>MAC005564</td>\n",
       "    </tr>\n",
       "    <tr>\n",
       "      <th>5563</th>\n",
       "      <td>MAC005565</td>\n",
       "    </tr>\n",
       "    <tr>\n",
       "      <th>5564</th>\n",
       "      <td>MAC005566</td>\n",
       "    </tr>\n",
       "    <tr>\n",
       "      <th>5565</th>\n",
       "      <td>MAC005567</td>\n",
       "    </tr>\n",
       "  </tbody>\n",
       "</table>\n",
       "<p>5566 rows × 1 columns</p>\n",
       "</div>"
      ],
      "text/plain": [
       "     Household IDs\n",
       "0        MAC000002\n",
       "1        MAC000003\n",
       "2        MAC000004\n",
       "3        MAC000005\n",
       "4        MAC000006\n",
       "...            ...\n",
       "5561     MAC005563\n",
       "5562     MAC005564\n",
       "5563     MAC005565\n",
       "5564     MAC005566\n",
       "5565     MAC005567\n",
       "\n",
       "[5566 rows x 1 columns]"
      ]
     },
     "execution_count": 8,
     "metadata": {},
     "output_type": "execute_result"
    }
   ],
   "source": [
    "household_ids.sort_values(['Household IDs']).reset_index(drop=True)"
   ]
  },
  {
   "cell_type": "markdown",
   "id": "36849fb2",
   "metadata": {},
   "source": [
    "**Unique year months**"
   ]
  },
  {
   "cell_type": "markdown",
   "id": "b522ccd7",
   "metadata": {},
   "source": [
    "Below is the process to generate the year months."
   ]
  },
  {
   "cell_type": "markdown",
   "id": "7d7fb8a0",
   "metadata": {},
   "source": [
    "<img src=\"images/Talend-SubJob_Generate_Year_Month_List.png\" />"
   ]
  },
  {
   "cell_type": "markdown",
   "id": "80ac9f34",
   "metadata": {},
   "source": [
    "In the tMap we use a StringHandling function to convert the timestamp to a year-month format."
   ]
  },
  {
   "cell_type": "markdown",
   "id": "340c802e",
   "metadata": {},
   "source": [
    "<img src=\"images/Talend-SubJob_Generate_Year_Month_List-tMap_Settings.png\" />"
   ]
  },
  {
   "cell_type": "markdown",
   "id": "ea37f7a1",
   "metadata": {},
   "source": [
    "The output shows that we have 28 unique months."
   ]
  },
  {
   "cell_type": "code",
   "execution_count": 9,
   "id": "5c984ea8",
   "metadata": {},
   "outputs": [],
   "source": [
    "year_months = pd.read_csv(\"data/unique-year-month.csv\", header=None, names=['Year-Month'])"
   ]
  },
  {
   "cell_type": "code",
   "execution_count": 10,
   "id": "4c9e8241",
   "metadata": {
    "scrolled": false
   },
   "outputs": [
    {
     "data": {
      "text/html": [
       "<div>\n",
       "<style scoped>\n",
       "    .dataframe tbody tr th:only-of-type {\n",
       "        vertical-align: middle;\n",
       "    }\n",
       "\n",
       "    .dataframe tbody tr th {\n",
       "        vertical-align: top;\n",
       "    }\n",
       "\n",
       "    .dataframe thead th {\n",
       "        text-align: right;\n",
       "    }\n",
       "</style>\n",
       "<table border=\"1\" class=\"dataframe\">\n",
       "  <thead>\n",
       "    <tr style=\"text-align: right;\">\n",
       "      <th></th>\n",
       "      <th>Year-Month</th>\n",
       "    </tr>\n",
       "  </thead>\n",
       "  <tbody>\n",
       "    <tr>\n",
       "      <th>0</th>\n",
       "      <td>2011-11</td>\n",
       "    </tr>\n",
       "    <tr>\n",
       "      <th>1</th>\n",
       "      <td>2011-12</td>\n",
       "    </tr>\n",
       "    <tr>\n",
       "      <th>2</th>\n",
       "      <td>2012-01</td>\n",
       "    </tr>\n",
       "    <tr>\n",
       "      <th>3</th>\n",
       "      <td>2012-02</td>\n",
       "    </tr>\n",
       "    <tr>\n",
       "      <th>4</th>\n",
       "      <td>2012-03</td>\n",
       "    </tr>\n",
       "    <tr>\n",
       "      <th>5</th>\n",
       "      <td>2012-04</td>\n",
       "    </tr>\n",
       "    <tr>\n",
       "      <th>6</th>\n",
       "      <td>2012-05</td>\n",
       "    </tr>\n",
       "    <tr>\n",
       "      <th>7</th>\n",
       "      <td>2012-06</td>\n",
       "    </tr>\n",
       "    <tr>\n",
       "      <th>8</th>\n",
       "      <td>2012-07</td>\n",
       "    </tr>\n",
       "    <tr>\n",
       "      <th>9</th>\n",
       "      <td>2012-08</td>\n",
       "    </tr>\n",
       "    <tr>\n",
       "      <th>10</th>\n",
       "      <td>2012-09</td>\n",
       "    </tr>\n",
       "    <tr>\n",
       "      <th>11</th>\n",
       "      <td>2012-10</td>\n",
       "    </tr>\n",
       "    <tr>\n",
       "      <th>12</th>\n",
       "      <td>2012-11</td>\n",
       "    </tr>\n",
       "    <tr>\n",
       "      <th>13</th>\n",
       "      <td>2012-12</td>\n",
       "    </tr>\n",
       "    <tr>\n",
       "      <th>14</th>\n",
       "      <td>2013-01</td>\n",
       "    </tr>\n",
       "    <tr>\n",
       "      <th>15</th>\n",
       "      <td>2013-02</td>\n",
       "    </tr>\n",
       "    <tr>\n",
       "      <th>16</th>\n",
       "      <td>2013-03</td>\n",
       "    </tr>\n",
       "    <tr>\n",
       "      <th>17</th>\n",
       "      <td>2013-04</td>\n",
       "    </tr>\n",
       "    <tr>\n",
       "      <th>18</th>\n",
       "      <td>2013-05</td>\n",
       "    </tr>\n",
       "    <tr>\n",
       "      <th>19</th>\n",
       "      <td>2013-06</td>\n",
       "    </tr>\n",
       "    <tr>\n",
       "      <th>20</th>\n",
       "      <td>2013-07</td>\n",
       "    </tr>\n",
       "    <tr>\n",
       "      <th>21</th>\n",
       "      <td>2013-08</td>\n",
       "    </tr>\n",
       "    <tr>\n",
       "      <th>22</th>\n",
       "      <td>2013-09</td>\n",
       "    </tr>\n",
       "    <tr>\n",
       "      <th>23</th>\n",
       "      <td>2013-10</td>\n",
       "    </tr>\n",
       "    <tr>\n",
       "      <th>24</th>\n",
       "      <td>2013-11</td>\n",
       "    </tr>\n",
       "    <tr>\n",
       "      <th>25</th>\n",
       "      <td>2013-12</td>\n",
       "    </tr>\n",
       "    <tr>\n",
       "      <th>26</th>\n",
       "      <td>2014-01</td>\n",
       "    </tr>\n",
       "    <tr>\n",
       "      <th>27</th>\n",
       "      <td>2014-02</td>\n",
       "    </tr>\n",
       "  </tbody>\n",
       "</table>\n",
       "</div>"
      ],
      "text/plain": [
       "   Year-Month\n",
       "0     2011-11\n",
       "1     2011-12\n",
       "2     2012-01\n",
       "3     2012-02\n",
       "4     2012-03\n",
       "5     2012-04\n",
       "6     2012-05\n",
       "7     2012-06\n",
       "8     2012-07\n",
       "9     2012-08\n",
       "10    2012-09\n",
       "11    2012-10\n",
       "12    2012-11\n",
       "13    2012-12\n",
       "14    2013-01\n",
       "15    2013-02\n",
       "16    2013-03\n",
       "17    2013-04\n",
       "18    2013-05\n",
       "19    2013-06\n",
       "20    2013-07\n",
       "21    2013-08\n",
       "22    2013-09\n",
       "23    2013-10\n",
       "24    2013-11\n",
       "25    2013-12\n",
       "26    2014-01\n",
       "27    2014-02"
      ]
     },
     "execution_count": 10,
     "metadata": {},
     "output_type": "execute_result"
    }
   ],
   "source": [
    "year_months.sort_values(['Year-Month']).reset_index(drop=True)"
   ]
  },
  {
   "cell_type": "markdown",
   "id": "2edf5458",
   "metadata": {},
   "source": [
    "Splitting by year-month seems a sensible approach - easy to do and divides into a reasonable number of files."
   ]
  },
  {
   "cell_type": "markdown",
   "id": "f5740145",
   "metadata": {},
   "source": [
    "## Processing the full data"
   ]
  },
  {
   "cell_type": "markdown",
   "id": "2dd3cfea",
   "metadata": {},
   "source": [
    "These are the steps used to process the full data:\n",
    "1. Generate list of unique year-months (as above).\n",
    "1. Use the list of unique year-months to iterate through the full data generating an individual file for each month of data (28 in all).\n",
    "1. Deduplicate in each of the 28 year-month files.\n",
    "1. For each of the 28 year-month files: Remove nulls; Group by `Household_ID`, `Tariff_Type` and `Date` and sum `kWh`; Save the aggregated results a new file.\n",
    "1. Merge the 28 aggregated files into one.\n",
    "\n",
    "The overall process is slow, particularly the splitting of the original file, as we iterate through the whole dataset 28 times. There are almost certainly better ways of doing this! The entire process from beginning to end takes about an hour and a half to run on my laptop."
   ]
  },
  {
   "cell_type": "markdown",
   "id": "93c65fff",
   "metadata": {},
   "source": [
    "### 1. Generate list of unique year-months"
   ]
  },
  {
   "cell_type": "markdown",
   "id": "0587a22e",
   "metadata": {},
   "source": [
    "Done above."
   ]
  },
  {
   "cell_type": "markdown",
   "id": "c9089611",
   "metadata": {},
   "source": [
    "### 2. Split original file into year-month files"
   ]
  },
  {
   "cell_type": "markdown",
   "id": "eb835fbe",
   "metadata": {},
   "source": [
    "<img src=\"images/Talend-SubJob_Split_File_By_Year_Month.png\" />"
   ]
  },
  {
   "cell_type": "markdown",
   "id": "8c9b095d",
   "metadata": {},
   "source": [
    "We use a tFlowToIterate component to iterate over the full data 28 times, each time filtering the raw data by the year month."
   ]
  },
  {
   "cell_type": "markdown",
   "id": "28dae011",
   "metadata": {},
   "source": [
    "**tMap - Add_Year_Month_Col Settings**"
   ]
  },
  {
   "cell_type": "markdown",
   "id": "718e215a",
   "metadata": {},
   "source": [
    "We use the tMap to add in the `Year_Month` column using the StringHandling function."
   ]
  },
  {
   "cell_type": "markdown",
   "id": "875ae0e4",
   "metadata": {},
   "source": [
    "<img src=\"images/Talend-SubJob_Split_Files_By_Year_Month-tMap_Settings.png\" />"
   ]
  },
  {
   "cell_type": "markdown",
   "id": "4c042478",
   "metadata": {},
   "source": [
    "**tFilterRow - Filter_By_Year_Month Settings**"
   ]
  },
  {
   "cell_type": "markdown",
   "id": "c78aa9bd",
   "metadata": {},
   "source": [
    "We use the advanced mode of the tFilterRow component to filter by the `Year_Month` value that has been set by the tFlowToIterate component."
   ]
  },
  {
   "cell_type": "markdown",
   "id": "0a5448b1",
   "metadata": {},
   "source": [
    "<img src=\"images/Talend-SubJob_Split_Files_By_Year_Month-tFilterRow_Settings.png\" />"
   ]
  },
  {
   "cell_type": "markdown",
   "id": "8f96d493",
   "metadata": {},
   "source": [
    "**tFileOutputDelimited - Year_Month_File Settings**"
   ]
  },
  {
   "cell_type": "markdown",
   "id": "7234a16a",
   "metadata": {},
   "source": [
    "We also use the stored `Year_Month` value to set the filename of each of the 28 files produced. Note that the code  `((String)globalMap.get(\"Unique_Year_Months.Year_Month\"))` can be generated automatically by dragging and dropping the `Year_Month - Year_Month (After)` element of the tFlowIterate component from the left-hand window into the File Name field in the right-hand window."
   ]
  },
  {
   "cell_type": "markdown",
   "id": "1765bf04",
   "metadata": {},
   "source": [
    "<img src=\"images/Talend-SubJob_Split_Files_By_Year_Month-tFileOutputDelimited_Settings.png\" />"
   ]
  },
  {
   "cell_type": "markdown",
   "id": "e9fb7eb7",
   "metadata": {},
   "source": [
    "### 3. Deduplicate in each of the year-month files"
   ]
  },
  {
   "cell_type": "markdown",
   "id": "a195b533",
   "metadata": {},
   "source": [
    "We use a tFileList component to iterate over the 28 year-month files and remove duplicates from each one, saving to a new file."
   ]
  },
  {
   "cell_type": "markdown",
   "id": "247554dd",
   "metadata": {},
   "source": [
    "<img src=\"images/Talend-SubJob_Deduplicate_Chunk_Files.png\" />"
   ]
  },
  {
   "cell_type": "markdown",
   "id": "5f4c21a1",
   "metadata": {},
   "source": [
    "**tFileInputDelimited - Sub_File Settings**"
   ]
  },
  {
   "cell_type": "markdown",
   "id": "595253e8",
   "metadata": {},
   "source": [
    "We can drag the `Current File Name with path - CURRENT_FILEPATH (Flow)` from the left-hand window into the File name/Stream field in the right hand window to generate the code in that field."
   ]
  },
  {
   "cell_type": "markdown",
   "id": "19c828c3",
   "metadata": {},
   "source": [
    "<img src=\"images/Talend-SubJob_Deduplicate_Chunk_Files-tFileInputDelimited_Settings.png\" />"
   ]
  },
  {
   "cell_type": "markdown",
   "id": "a11b7704",
   "metadata": {},
   "source": [
    "**tUniqRow - Remove_Duplicates Settings (Basic and Advanced)**"
   ]
  },
  {
   "cell_type": "markdown",
   "id": "262b0f1d",
   "metadata": {},
   "source": [
    "<img src=\"images/Talend-SubJob_Deduplicate_Chunk_Files-tUniqRow_Settings.png\" />"
   ]
  },
  {
   "cell_type": "markdown",
   "id": "1b81f983",
   "metadata": {},
   "source": [
    "Note that we use the Use of disk setting in Advanced settings to reduce the memory requirements."
   ]
  },
  {
   "cell_type": "markdown",
   "id": "fb3b89e0",
   "metadata": {},
   "source": [
    "<img src=\"images/Talend-SubJob_Deduplicate_Chunk_Files-tUniqRow_Advanced_Settings.png\" />"
   ]
  },
  {
   "cell_type": "markdown",
   "id": "b55ab923",
   "metadata": {},
   "source": [
    "**tFileOutputDelimited - Deduplicated_File Settings**"
   ]
  },
  {
   "cell_type": "markdown",
   "id": "d8eade43",
   "metadata": {},
   "source": [
    "We use a similar drag-drop to generate the filename for the deduplicated file."
   ]
  },
  {
   "cell_type": "markdown",
   "id": "1e8ae11d",
   "metadata": {},
   "source": [
    "<img src=\"images/Talend-SubJob_Deduplicate_Chunk_Files-tFileOutputDelimited_Settings.png\" />"
   ]
  },
  {
   "cell_type": "markdown",
   "id": "3e3cbdad",
   "metadata": {},
   "source": [
    "**Job execution settings**"
   ]
  },
  {
   "cell_type": "markdown",
   "id": "833d65b8",
   "metadata": {},
   "source": [
    "For this job I changed the execution settings to increase the Java Virtual Machine memory allocation - raising the initial memory allocation from the default of 256MB `-Xms256M` to 1GB `-Xms1024M` and the maximum allocation from the default of 1GB `-Xmx1024M` to 4GB `-Xmx4096M`. It may have been possible to avoid this by reducing the buffer size of the \"Use of disk\" tUniqRow setting."
   ]
  },
  {
   "cell_type": "markdown",
   "id": "0cd8d4a5",
   "metadata": {},
   "source": [
    "<img src=\"images/Talend-SubJob_Deduplicate_Chunk_Files-Execution_Settings.png\" />"
   ]
  },
  {
   "cell_type": "markdown",
   "id": "112ef0d9",
   "metadata": {},
   "source": [
    "### 4. Remove nulls and aggregate by year-month"
   ]
  },
  {
   "cell_type": "markdown",
   "id": "69d35d6d",
   "metadata": {},
   "source": [
    "<img src=\"images/Talend-SubJob_Process_Chunk_Files.png\" />"
   ]
  },
  {
   "cell_type": "markdown",
   "id": "febed568",
   "metadata": {},
   "source": [
    "The Remove_Nulls tFilterRow component and the Preprocess tMap component have the same settings as their equivalents in the test data aggregation process. However the aggregation had to be handled differently because a single tAggregateRow component would cause Out of memory errors. The answer was to use a tSortRow component and then a tAggregateSortedRow component as this reduced memory requirements. It was also necessary to use the Sort on disk option for the tSortRow component to further reduce memory load."
   ]
  },
  {
   "cell_type": "markdown",
   "id": "1e2aecb1",
   "metadata": {},
   "source": [
    "**tSortRow - Sort Settings (Basic and Advanced)**"
   ]
  },
  {
   "cell_type": "markdown",
   "id": "a1667ce7",
   "metadata": {},
   "source": [
    "<img src=\"images/Talend-SubJob_Process_Chunk_Files-tSortRow_Settings.png\" />"
   ]
  },
  {
   "cell_type": "markdown",
   "id": "ebd9496e",
   "metadata": {},
   "source": [
    "<img src=\"images/Talend-SubJob_Process_Chunk_Files-tSortRow_Advanced_Settings.png\" />"
   ]
  },
  {
   "cell_type": "markdown",
   "id": "36436edf",
   "metadata": {},
   "source": [
    "**tAggregateSortedRow - Aggregate_Sorted Settings**"
   ]
  },
  {
   "cell_type": "markdown",
   "id": "cfe7575f",
   "metadata": {},
   "source": [
    "The tAggregateSortedRow component needs to know the number of input rows. We can get that by dragging the `Number of line matching the filter - NB_LINE_OK (After)` element of the tFilterRow component in the left-hand window into the Input rows count field in the right-hand window."
   ]
  },
  {
   "cell_type": "markdown",
   "id": "e147de51",
   "metadata": {},
   "source": [
    "<img src=\"images/Talend-SubJob_Process_Chunk_Files-tAggregatedSortedRow_Settings.png\" />"
   ]
  },
  {
   "cell_type": "markdown",
   "id": "38165488",
   "metadata": {},
   "source": [
    "### 5. Merge the processed year-month files into a single file"
   ]
  },
  {
   "cell_type": "markdown",
   "id": "83b0ec2a",
   "metadata": {},
   "source": [
    "<img src=\"images/Talend-SubJob_Merge_Processed_Files.png\" />"
   ]
  },
  {
   "cell_type": "markdown",
   "id": "51358233",
   "metadata": {},
   "source": [
    "**tFileInputDelimited - Aggrgated_Chunk_File Settings**"
   ]
  },
  {
   "cell_type": "markdown",
   "id": "e210d290",
   "metadata": {},
   "source": [
    "<img src=\"images/Talend-SubJob_Merge_Processed_Files-tFileInputDelimited_Settings.png\" />"
   ]
  },
  {
   "cell_type": "markdown",
   "id": "e172d8d9",
   "metadata": {},
   "source": [
    "### Viewing the results"
   ]
  },
  {
   "cell_type": "markdown",
   "id": "4cbd1991",
   "metadata": {},
   "source": [
    "We can access the resulting data in a Pandas dataframe."
   ]
  },
  {
   "cell_type": "code",
   "execution_count": 11,
   "id": "975c8e51",
   "metadata": {},
   "outputs": [],
   "source": [
    "daily_summary = (\n",
    "    pd.read_csv(\"data/merged-processed-chunks.csv\").sort_values(\n",
    "        ['Household_ID', 'Tariff_Type', 'Date']\n",
    "    )\n",
    "    .reset_index(drop=True)\n",
    "    .rename(columns = {\n",
    "        'Household_ID' : 'Household ID',\n",
    "        'Tariff_Type' : 'Tariff Type'\n",
    "    })\n",
    ")"
   ]
  },
  {
   "cell_type": "code",
   "execution_count": 12,
   "id": "040458dd",
   "metadata": {},
   "outputs": [
    {
     "data": {
      "text/html": [
       "<div>\n",
       "<style scoped>\n",
       "    .dataframe tbody tr th:only-of-type {\n",
       "        vertical-align: middle;\n",
       "    }\n",
       "\n",
       "    .dataframe tbody tr th {\n",
       "        vertical-align: top;\n",
       "    }\n",
       "\n",
       "    .dataframe thead th {\n",
       "        text-align: right;\n",
       "    }\n",
       "</style>\n",
       "<table border=\"1\" class=\"dataframe\">\n",
       "  <thead>\n",
       "    <tr style=\"text-align: right;\">\n",
       "      <th></th>\n",
       "      <th>Household ID</th>\n",
       "      <th>Tariff Type</th>\n",
       "      <th>Date</th>\n",
       "      <th>kWh</th>\n",
       "    </tr>\n",
       "  </thead>\n",
       "  <tbody>\n",
       "    <tr>\n",
       "      <th>0</th>\n",
       "      <td>MAC000002</td>\n",
       "      <td>Std</td>\n",
       "      <td>2012-10-12</td>\n",
       "      <td>7.098</td>\n",
       "    </tr>\n",
       "    <tr>\n",
       "      <th>1</th>\n",
       "      <td>MAC000002</td>\n",
       "      <td>Std</td>\n",
       "      <td>2012-10-13</td>\n",
       "      <td>11.087</td>\n",
       "    </tr>\n",
       "    <tr>\n",
       "      <th>2</th>\n",
       "      <td>MAC000002</td>\n",
       "      <td>Std</td>\n",
       "      <td>2012-10-14</td>\n",
       "      <td>13.223</td>\n",
       "    </tr>\n",
       "    <tr>\n",
       "      <th>3</th>\n",
       "      <td>MAC000002</td>\n",
       "      <td>Std</td>\n",
       "      <td>2012-10-15</td>\n",
       "      <td>10.257</td>\n",
       "    </tr>\n",
       "    <tr>\n",
       "      <th>4</th>\n",
       "      <td>MAC000002</td>\n",
       "      <td>Std</td>\n",
       "      <td>2012-10-16</td>\n",
       "      <td>9.769</td>\n",
       "    </tr>\n",
       "    <tr>\n",
       "      <th>...</th>\n",
       "      <td>...</td>\n",
       "      <td>...</td>\n",
       "      <td>...</td>\n",
       "      <td>...</td>\n",
       "    </tr>\n",
       "    <tr>\n",
       "      <th>3510398</th>\n",
       "      <td>MAC005567</td>\n",
       "      <td>Std</td>\n",
       "      <td>2014-02-24</td>\n",
       "      <td>4.107</td>\n",
       "    </tr>\n",
       "    <tr>\n",
       "      <th>3510399</th>\n",
       "      <td>MAC005567</td>\n",
       "      <td>Std</td>\n",
       "      <td>2014-02-25</td>\n",
       "      <td>5.762</td>\n",
       "    </tr>\n",
       "    <tr>\n",
       "      <th>3510400</th>\n",
       "      <td>MAC005567</td>\n",
       "      <td>Std</td>\n",
       "      <td>2014-02-26</td>\n",
       "      <td>5.066</td>\n",
       "    </tr>\n",
       "    <tr>\n",
       "      <th>3510401</th>\n",
       "      <td>MAC005567</td>\n",
       "      <td>Std</td>\n",
       "      <td>2014-02-27</td>\n",
       "      <td>3.217</td>\n",
       "    </tr>\n",
       "    <tr>\n",
       "      <th>3510402</th>\n",
       "      <td>MAC005567</td>\n",
       "      <td>Std</td>\n",
       "      <td>2014-02-28</td>\n",
       "      <td>0.183</td>\n",
       "    </tr>\n",
       "  </tbody>\n",
       "</table>\n",
       "<p>3510403 rows × 4 columns</p>\n",
       "</div>"
      ],
      "text/plain": [
       "        Household ID Tariff Type        Date     kWh\n",
       "0          MAC000002         Std  2012-10-12   7.098\n",
       "1          MAC000002         Std  2012-10-13  11.087\n",
       "2          MAC000002         Std  2012-10-14  13.223\n",
       "3          MAC000002         Std  2012-10-15  10.257\n",
       "4          MAC000002         Std  2012-10-16   9.769\n",
       "...              ...         ...         ...     ...\n",
       "3510398    MAC005567         Std  2014-02-24   4.107\n",
       "3510399    MAC005567         Std  2014-02-25   5.762\n",
       "3510400    MAC005567         Std  2014-02-26   5.066\n",
       "3510401    MAC005567         Std  2014-02-27   3.217\n",
       "3510402    MAC005567         Std  2014-02-28   0.183\n",
       "\n",
       "[3510403 rows x 4 columns]"
      ]
     },
     "execution_count": 12,
     "metadata": {},
     "output_type": "execute_result"
    }
   ],
   "source": [
    "daily_summary"
   ]
  },
  {
   "cell_type": "markdown",
   "id": "dbff847e",
   "metadata": {},
   "source": [
    "## Saving aggregated data"
   ]
  },
  {
   "cell_type": "markdown",
   "id": "d5e64fcc",
   "metadata": {},
   "source": [
    "Now that we have reduced the data down to about 3 million rows it should be managable in a single dataframe. It's useful to save the data so that we don't have to re-run the aggregation every time we want to work on the aggregated data.\n",
    "\n",
    "We'll save it in a compressed gz format - pandas automatically recognizes the filetype we specify."
   ]
  },
  {
   "cell_type": "code",
   "execution_count": 13,
   "id": "6931a2df",
   "metadata": {},
   "outputs": [],
   "source": [
    "daily_summary.to_csv(\"data/daily-summary-data.gz\", index=False)"
   ]
  },
  {
   "cell_type": "markdown",
   "id": "3c928c07",
   "metadata": {},
   "source": [
    "## Overall process coordination"
   ]
  },
  {
   "cell_type": "markdown",
   "id": "2148b5f8",
   "metadata": {},
   "source": [
    "To run all the jobs in a single go we have a Process_Coordinator job which executes the jobs in sequence. There are also various tJava elements in the subjobs which output progress information to the console while jobs are being executed."
   ]
  },
  {
   "cell_type": "markdown",
   "id": "aaa32224",
   "metadata": {},
   "source": [
    "<img src=\"images/Talend-Job_Process_Coordinator.png\" />"
   ]
  },
  {
   "cell_type": "markdown",
   "id": "9407b845",
   "metadata": {},
   "source": [
    "The rest of this notebook is now essentially the same processing as applied in all the other notebooks in the series."
   ]
  },
  {
   "cell_type": "markdown",
   "id": "48cd8c46",
   "metadata": {},
   "source": [
    "## Analysing the data"
   ]
  },
  {
   "cell_type": "code",
   "execution_count": 14,
   "id": "1ba6012a",
   "metadata": {},
   "outputs": [],
   "source": [
    "saved_daily_summary = pd.read_csv(\"data/daily-summary-data.gz\")"
   ]
  },
  {
   "cell_type": "code",
   "execution_count": 15,
   "id": "82125d5a",
   "metadata": {
    "scrolled": false
   },
   "outputs": [
    {
     "data": {
      "text/html": [
       "<div>\n",
       "<style scoped>\n",
       "    .dataframe tbody tr th:only-of-type {\n",
       "        vertical-align: middle;\n",
       "    }\n",
       "\n",
       "    .dataframe tbody tr th {\n",
       "        vertical-align: top;\n",
       "    }\n",
       "\n",
       "    .dataframe thead th {\n",
       "        text-align: right;\n",
       "    }\n",
       "</style>\n",
       "<table border=\"1\" class=\"dataframe\">\n",
       "  <thead>\n",
       "    <tr style=\"text-align: right;\">\n",
       "      <th></th>\n",
       "      <th>Household ID</th>\n",
       "      <th>Tariff Type</th>\n",
       "      <th>Date</th>\n",
       "      <th>kWh</th>\n",
       "    </tr>\n",
       "  </thead>\n",
       "  <tbody>\n",
       "    <tr>\n",
       "      <th>0</th>\n",
       "      <td>MAC000002</td>\n",
       "      <td>Std</td>\n",
       "      <td>2012-10-12</td>\n",
       "      <td>7.098</td>\n",
       "    </tr>\n",
       "    <tr>\n",
       "      <th>1</th>\n",
       "      <td>MAC000002</td>\n",
       "      <td>Std</td>\n",
       "      <td>2012-10-13</td>\n",
       "      <td>11.087</td>\n",
       "    </tr>\n",
       "    <tr>\n",
       "      <th>2</th>\n",
       "      <td>MAC000002</td>\n",
       "      <td>Std</td>\n",
       "      <td>2012-10-14</td>\n",
       "      <td>13.223</td>\n",
       "    </tr>\n",
       "    <tr>\n",
       "      <th>3</th>\n",
       "      <td>MAC000002</td>\n",
       "      <td>Std</td>\n",
       "      <td>2012-10-15</td>\n",
       "      <td>10.257</td>\n",
       "    </tr>\n",
       "    <tr>\n",
       "      <th>4</th>\n",
       "      <td>MAC000002</td>\n",
       "      <td>Std</td>\n",
       "      <td>2012-10-16</td>\n",
       "      <td>9.769</td>\n",
       "    </tr>\n",
       "    <tr>\n",
       "      <th>...</th>\n",
       "      <td>...</td>\n",
       "      <td>...</td>\n",
       "      <td>...</td>\n",
       "      <td>...</td>\n",
       "    </tr>\n",
       "    <tr>\n",
       "      <th>3510398</th>\n",
       "      <td>MAC005567</td>\n",
       "      <td>Std</td>\n",
       "      <td>2014-02-24</td>\n",
       "      <td>4.107</td>\n",
       "    </tr>\n",
       "    <tr>\n",
       "      <th>3510399</th>\n",
       "      <td>MAC005567</td>\n",
       "      <td>Std</td>\n",
       "      <td>2014-02-25</td>\n",
       "      <td>5.762</td>\n",
       "    </tr>\n",
       "    <tr>\n",
       "      <th>3510400</th>\n",
       "      <td>MAC005567</td>\n",
       "      <td>Std</td>\n",
       "      <td>2014-02-26</td>\n",
       "      <td>5.066</td>\n",
       "    </tr>\n",
       "    <tr>\n",
       "      <th>3510401</th>\n",
       "      <td>MAC005567</td>\n",
       "      <td>Std</td>\n",
       "      <td>2014-02-27</td>\n",
       "      <td>3.217</td>\n",
       "    </tr>\n",
       "    <tr>\n",
       "      <th>3510402</th>\n",
       "      <td>MAC005567</td>\n",
       "      <td>Std</td>\n",
       "      <td>2014-02-28</td>\n",
       "      <td>0.183</td>\n",
       "    </tr>\n",
       "  </tbody>\n",
       "</table>\n",
       "<p>3510403 rows × 4 columns</p>\n",
       "</div>"
      ],
      "text/plain": [
       "        Household ID Tariff Type        Date     kWh\n",
       "0          MAC000002         Std  2012-10-12   7.098\n",
       "1          MAC000002         Std  2012-10-13  11.087\n",
       "2          MAC000002         Std  2012-10-14  13.223\n",
       "3          MAC000002         Std  2012-10-15  10.257\n",
       "4          MAC000002         Std  2012-10-16   9.769\n",
       "...              ...         ...         ...     ...\n",
       "3510398    MAC005567         Std  2014-02-24   4.107\n",
       "3510399    MAC005567         Std  2014-02-25   5.762\n",
       "3510400    MAC005567         Std  2014-02-26   5.066\n",
       "3510401    MAC005567         Std  2014-02-27   3.217\n",
       "3510402    MAC005567         Std  2014-02-28   0.183\n",
       "\n",
       "[3510403 rows x 4 columns]"
      ]
     },
     "execution_count": 15,
     "metadata": {},
     "output_type": "execute_result"
    }
   ],
   "source": [
    "saved_daily_summary"
   ]
  },
  {
   "cell_type": "markdown",
   "id": "94645ccb",
   "metadata": {},
   "source": [
    "Out of interest let's see what sort of data coverage we have. First we re-organize so that we have households as columns and dates as rows."
   ]
  },
  {
   "cell_type": "code",
   "execution_count": 16,
   "id": "2fd4d725",
   "metadata": {},
   "outputs": [],
   "source": [
    "summary_table = saved_daily_summary.pivot_table(\n",
    "    'kWh',\n",
    "    index='Date',\n",
    "    columns='Household ID',\n",
    "    aggfunc='sum'\n",
    ")"
   ]
  },
  {
   "cell_type": "markdown",
   "id": "c6cce09d",
   "metadata": {},
   "source": [
    "Then we can plot where we have data (black) and where we don't (white)."
   ]
  },
  {
   "cell_type": "code",
   "execution_count": 17,
   "id": "36e4edeb",
   "metadata": {
    "scrolled": false
   },
   "outputs": [
    {
     "data": {
      "image/png": "[encoded data removed]",
      "text/plain": [
       "<Figure size 1080x864 with 1 Axes>"
      ]
     },
     "metadata": {
      "needs_background": "light"
     },
     "output_type": "display_data"
    }
   ],
   "source": [
    "import matplotlib.pyplot as plt\n",
    "\n",
    "plt.figure(figsize=(15, 12))\n",
    "plt.imshow(summary_table.isna(), aspect=\"auto\", interpolation=\"nearest\", cmap=\"gray\")\n",
    "plt.xlabel(\"Column Number\")\n",
    "plt.ylabel(\"Date Number\");"
   ]
  },
  {
   "cell_type": "markdown",
   "id": "22b05c56",
   "metadata": {},
   "source": [
    "Despite a slightly patchy data coverage, averaging by tariff type across all households for each day should give us a useful comparison."
   ]
  },
  {
   "cell_type": "code",
   "execution_count": 18,
   "id": "838f149c",
   "metadata": {},
   "outputs": [
    {
     "data": {
      "text/html": [
       "<div>\n",
       "<style scoped>\n",
       "    .dataframe tbody tr th:only-of-type {\n",
       "        vertical-align: middle;\n",
       "    }\n",
       "\n",
       "    .dataframe tbody tr th {\n",
       "        vertical-align: top;\n",
       "    }\n",
       "\n",
       "    .dataframe thead th {\n",
       "        text-align: right;\n",
       "    }\n",
       "</style>\n",
       "<table border=\"1\" class=\"dataframe\">\n",
       "  <thead>\n",
       "    <tr style=\"text-align: right;\">\n",
       "      <th>Tariff Type</th>\n",
       "      <th>Std</th>\n",
       "      <th>ToU</th>\n",
       "    </tr>\n",
       "    <tr>\n",
       "      <th>Date</th>\n",
       "      <th></th>\n",
       "      <th></th>\n",
       "    </tr>\n",
       "  </thead>\n",
       "  <tbody>\n",
       "    <tr>\n",
       "      <th>2011-11-23</th>\n",
       "      <td>7.430000</td>\n",
       "      <td>4.327500</td>\n",
       "    </tr>\n",
       "    <tr>\n",
       "      <th>2011-11-24</th>\n",
       "      <td>8.998333</td>\n",
       "      <td>6.111750</td>\n",
       "    </tr>\n",
       "    <tr>\n",
       "      <th>2011-11-25</th>\n",
       "      <td>10.102885</td>\n",
       "      <td>6.886333</td>\n",
       "    </tr>\n",
       "    <tr>\n",
       "      <th>2011-11-26</th>\n",
       "      <td>10.706257</td>\n",
       "      <td>7.709500</td>\n",
       "    </tr>\n",
       "    <tr>\n",
       "      <th>2011-11-27</th>\n",
       "      <td>11.371486</td>\n",
       "      <td>7.813500</td>\n",
       "    </tr>\n",
       "    <tr>\n",
       "      <th>...</th>\n",
       "      <td>...</td>\n",
       "      <td>...</td>\n",
       "    </tr>\n",
       "    <tr>\n",
       "      <th>2014-02-24</th>\n",
       "      <td>10.580187</td>\n",
       "      <td>9.759439</td>\n",
       "    </tr>\n",
       "    <tr>\n",
       "      <th>2014-02-25</th>\n",
       "      <td>10.453365</td>\n",
       "      <td>9.683862</td>\n",
       "    </tr>\n",
       "    <tr>\n",
       "      <th>2014-02-26</th>\n",
       "      <td>10.329026</td>\n",
       "      <td>9.716652</td>\n",
       "    </tr>\n",
       "    <tr>\n",
       "      <th>2014-02-27</th>\n",
       "      <td>10.506416</td>\n",
       "      <td>9.776561</td>\n",
       "    </tr>\n",
       "    <tr>\n",
       "      <th>2014-02-28</th>\n",
       "      <td>0.218075</td>\n",
       "      <td>0.173949</td>\n",
       "    </tr>\n",
       "  </tbody>\n",
       "</table>\n",
       "<p>829 rows × 2 columns</p>\n",
       "</div>"
      ],
      "text/plain": [
       "Tariff Type        Std       ToU\n",
       "Date                            \n",
       "2011-11-23    7.430000  4.327500\n",
       "2011-11-24    8.998333  6.111750\n",
       "2011-11-25   10.102885  6.886333\n",
       "2011-11-26   10.706257  7.709500\n",
       "2011-11-27   11.371486  7.813500\n",
       "...                ...       ...\n",
       "2014-02-24   10.580187  9.759439\n",
       "2014-02-25   10.453365  9.683862\n",
       "2014-02-26   10.329026  9.716652\n",
       "2014-02-27   10.506416  9.776561\n",
       "2014-02-28    0.218075  0.173949\n",
       "\n",
       "[829 rows x 2 columns]"
      ]
     },
     "execution_count": 18,
     "metadata": {},
     "output_type": "execute_result"
    }
   ],
   "source": [
    "daily_mean_by_tariff_type = saved_daily_summary.pivot_table(\n",
    "    'kWh',\n",
    "    index='Date',\n",
    "    columns='Tariff Type',\n",
    "    aggfunc='mean'\n",
    ")\n",
    "daily_mean_by_tariff_type"
   ]
  },
  {
   "cell_type": "markdown",
   "id": "ed103a40",
   "metadata": {},
   "source": [
    "Finally we can plot the two sets of data. The plotting works better if we convert the date from type `string` to type `datetime`."
   ]
  },
  {
   "cell_type": "code",
   "execution_count": 19,
   "id": "ac2122be",
   "metadata": {},
   "outputs": [],
   "source": [
    "daily_mean_by_tariff_type.index = pd.to_datetime(daily_mean_by_tariff_type.index)"
   ]
  },
  {
   "cell_type": "code",
   "execution_count": 20,
   "id": "c35c3263",
   "metadata": {},
   "outputs": [
    {
     "data": {
      "image/png": "[encoded data removed]",
      "text/plain": [
       "<Figure size 1152x360 with 1 Axes>"
      ]
     },
     "metadata": {},
     "output_type": "display_data"
    }
   ],
   "source": [
    "plt.style.use('seaborn-whitegrid')\n",
    "\n",
    "plt.figure(figsize=(16, 5), facecolor='floralwhite')\n",
    "for tariff in daily_mean_by_tariff_type.columns.to_list():\n",
    "    plt.plot(\n",
    "        daily_mean_by_tariff_type.index.values,\n",
    "        daily_mean_by_tariff_type[tariff],\n",
    "        label = tariff\n",
    "    )\n",
    "\n",
    "plt.legend(loc='center', frameon=True, facecolor='whitesmoke', framealpha=1, fontsize=14)\n",
    "plt.title(\n",
    "    'Mean daily energy consumption by household group',\n",
    "    fontdict = {'fontsize' : 16, 'fontweight' : 'bold'}\n",
    ")\n",
    "plt.xlabel('Date', fontsize = 14)\n",
    "plt.ylabel('kWH', fontsize = 14)\n",
    "plt.show()"
   ]
  },
  {
   "cell_type": "markdown",
   "id": "74a6930f",
   "metadata": {},
   "source": [
    "The pattern looks seasonal which makes sense given heating energy demand.\n",
    "\n",
    "It also looks like there's a difference between the two groups with the ToU group tending to consume less, but the display is too granular. Let's aggregate again into months."
   ]
  },
  {
   "cell_type": "code",
   "execution_count": 21,
   "id": "8c5aae90",
   "metadata": {},
   "outputs": [
    {
     "data": {
      "text/html": [
       "<div>\n",
       "<style scoped>\n",
       "    .dataframe tbody tr th:only-of-type {\n",
       "        vertical-align: middle;\n",
       "    }\n",
       "\n",
       "    .dataframe tbody tr th {\n",
       "        vertical-align: top;\n",
       "    }\n",
       "\n",
       "    .dataframe thead th {\n",
       "        text-align: right;\n",
       "    }\n",
       "</style>\n",
       "<table border=\"1\" class=\"dataframe\">\n",
       "  <thead>\n",
       "    <tr style=\"text-align: right;\">\n",
       "      <th>Tariff Type</th>\n",
       "      <th>Std</th>\n",
       "      <th>ToU</th>\n",
       "    </tr>\n",
       "    <tr>\n",
       "      <th>Date</th>\n",
       "      <th></th>\n",
       "      <th></th>\n",
       "    </tr>\n",
       "  </thead>\n",
       "  <tbody>\n",
       "    <tr>\n",
       "      <th>2011-11-23</th>\n",
       "      <td>7.430000</td>\n",
       "      <td>4.327500</td>\n",
       "    </tr>\n",
       "    <tr>\n",
       "      <th>2011-11-24</th>\n",
       "      <td>8.998333</td>\n",
       "      <td>6.111750</td>\n",
       "    </tr>\n",
       "    <tr>\n",
       "      <th>2011-11-25</th>\n",
       "      <td>10.102885</td>\n",
       "      <td>6.886333</td>\n",
       "    </tr>\n",
       "    <tr>\n",
       "      <th>2011-11-26</th>\n",
       "      <td>10.706257</td>\n",
       "      <td>7.709500</td>\n",
       "    </tr>\n",
       "    <tr>\n",
       "      <th>2011-11-27</th>\n",
       "      <td>11.371486</td>\n",
       "      <td>7.813500</td>\n",
       "    </tr>\n",
       "    <tr>\n",
       "      <th>...</th>\n",
       "      <td>...</td>\n",
       "      <td>...</td>\n",
       "    </tr>\n",
       "    <tr>\n",
       "      <th>2014-02-24</th>\n",
       "      <td>10.580187</td>\n",
       "      <td>9.759439</td>\n",
       "    </tr>\n",
       "    <tr>\n",
       "      <th>2014-02-25</th>\n",
       "      <td>10.453365</td>\n",
       "      <td>9.683862</td>\n",
       "    </tr>\n",
       "    <tr>\n",
       "      <th>2014-02-26</th>\n",
       "      <td>10.329026</td>\n",
       "      <td>9.716652</td>\n",
       "    </tr>\n",
       "    <tr>\n",
       "      <th>2014-02-27</th>\n",
       "      <td>10.506416</td>\n",
       "      <td>9.776561</td>\n",
       "    </tr>\n",
       "    <tr>\n",
       "      <th>2014-02-28</th>\n",
       "      <td>0.218075</td>\n",
       "      <td>0.173949</td>\n",
       "    </tr>\n",
       "  </tbody>\n",
       "</table>\n",
       "<p>829 rows × 2 columns</p>\n",
       "</div>"
      ],
      "text/plain": [
       "Tariff Type        Std       ToU\n",
       "Date                            \n",
       "2011-11-23    7.430000  4.327500\n",
       "2011-11-24    8.998333  6.111750\n",
       "2011-11-25   10.102885  6.886333\n",
       "2011-11-26   10.706257  7.709500\n",
       "2011-11-27   11.371486  7.813500\n",
       "...                ...       ...\n",
       "2014-02-24   10.580187  9.759439\n",
       "2014-02-25   10.453365  9.683862\n",
       "2014-02-26   10.329026  9.716652\n",
       "2014-02-27   10.506416  9.776561\n",
       "2014-02-28    0.218075  0.173949\n",
       "\n",
       "[829 rows x 2 columns]"
      ]
     },
     "execution_count": 21,
     "metadata": {},
     "output_type": "execute_result"
    }
   ],
   "source": [
    "daily_mean_by_tariff_type"
   ]
  },
  {
   "cell_type": "markdown",
   "id": "4f23a4fe",
   "metadata": {},
   "source": [
    "We can see that the data starts partway through November 2011, so we'll start from 1 December. It looks like the data finishes perfectly at the end of February, but the last value looks suspiciously low compared to the others. It seems likely the data finished part way through the last day. This may be a problem elsewhere in the data too, but it shouldn't have an enormous effect as at worst it will reduce the month's energy consumption for that household by two days (one at the beginning and one at the end)."
   ]
  },
  {
   "cell_type": "code",
   "execution_count": 22,
   "id": "48bec1ad",
   "metadata": {},
   "outputs": [
    {
     "data": {
      "text/html": [
       "<div>\n",
       "<style scoped>\n",
       "    .dataframe tbody tr th:only-of-type {\n",
       "        vertical-align: middle;\n",
       "    }\n",
       "\n",
       "    .dataframe tbody tr th {\n",
       "        vertical-align: top;\n",
       "    }\n",
       "\n",
       "    .dataframe thead th {\n",
       "        text-align: right;\n",
       "    }\n",
       "</style>\n",
       "<table border=\"1\" class=\"dataframe\">\n",
       "  <thead>\n",
       "    <tr style=\"text-align: right;\">\n",
       "      <th>Tariff Type</th>\n",
       "      <th>Std</th>\n",
       "      <th>ToU</th>\n",
       "    </tr>\n",
       "    <tr>\n",
       "      <th>Date</th>\n",
       "      <th></th>\n",
       "      <th></th>\n",
       "    </tr>\n",
       "  </thead>\n",
       "  <tbody>\n",
       "    <tr>\n",
       "      <th>2011-12-31</th>\n",
       "      <td>377.218580</td>\n",
       "      <td>365.145947</td>\n",
       "    </tr>\n",
       "    <tr>\n",
       "      <th>2012-01-31</th>\n",
       "      <td>401.511261</td>\n",
       "      <td>386.016403</td>\n",
       "    </tr>\n",
       "    <tr>\n",
       "      <th>2012-02-29</th>\n",
       "      <td>395.065321</td>\n",
       "      <td>368.475150</td>\n",
       "    </tr>\n",
       "    <tr>\n",
       "      <th>2012-03-31</th>\n",
       "      <td>349.153085</td>\n",
       "      <td>330.900633</td>\n",
       "    </tr>\n",
       "    <tr>\n",
       "      <th>2012-04-30</th>\n",
       "      <td>314.173857</td>\n",
       "      <td>296.903425</td>\n",
       "    </tr>\n",
       "    <tr>\n",
       "      <th>2012-05-31</th>\n",
       "      <td>281.666428</td>\n",
       "      <td>263.694338</td>\n",
       "    </tr>\n",
       "    <tr>\n",
       "      <th>2012-06-30</th>\n",
       "      <td>257.204029</td>\n",
       "      <td>238.417505</td>\n",
       "    </tr>\n",
       "    <tr>\n",
       "      <th>2012-07-31</th>\n",
       "      <td>260.231952</td>\n",
       "      <td>244.641359</td>\n",
       "    </tr>\n",
       "    <tr>\n",
       "      <th>2012-08-31</th>\n",
       "      <td>253.939017</td>\n",
       "      <td>238.904097</td>\n",
       "    </tr>\n",
       "    <tr>\n",
       "      <th>2012-09-30</th>\n",
       "      <td>266.392973</td>\n",
       "      <td>248.707929</td>\n",
       "    </tr>\n",
       "    <tr>\n",
       "      <th>2012-10-31</th>\n",
       "      <td>318.214026</td>\n",
       "      <td>299.714701</td>\n",
       "    </tr>\n",
       "    <tr>\n",
       "      <th>2012-11-30</th>\n",
       "      <td>347.818025</td>\n",
       "      <td>326.651435</td>\n",
       "    </tr>\n",
       "    <tr>\n",
       "      <th>2012-12-31</th>\n",
       "      <td>390.616106</td>\n",
       "      <td>364.754528</td>\n",
       "    </tr>\n",
       "    <tr>\n",
       "      <th>2013-01-31</th>\n",
       "      <td>398.004581</td>\n",
       "      <td>366.548143</td>\n",
       "    </tr>\n",
       "    <tr>\n",
       "      <th>2013-02-28</th>\n",
       "      <td>352.189818</td>\n",
       "      <td>325.298845</td>\n",
       "    </tr>\n",
       "    <tr>\n",
       "      <th>2013-03-31</th>\n",
       "      <td>381.191994</td>\n",
       "      <td>351.371278</td>\n",
       "    </tr>\n",
       "    <tr>\n",
       "      <th>2013-04-30</th>\n",
       "      <td>307.857771</td>\n",
       "      <td>277.856327</td>\n",
       "    </tr>\n",
       "    <tr>\n",
       "      <th>2013-05-31</th>\n",
       "      <td>280.762752</td>\n",
       "      <td>256.292247</td>\n",
       "    </tr>\n",
       "    <tr>\n",
       "      <th>2013-06-30</th>\n",
       "      <td>254.399013</td>\n",
       "      <td>234.481016</td>\n",
       "    </tr>\n",
       "    <tr>\n",
       "      <th>2013-07-31</th>\n",
       "      <td>252.609890</td>\n",
       "      <td>234.104814</td>\n",
       "    </tr>\n",
       "    <tr>\n",
       "      <th>2013-08-31</th>\n",
       "      <td>247.046087</td>\n",
       "      <td>231.347310</td>\n",
       "    </tr>\n",
       "    <tr>\n",
       "      <th>2013-09-30</th>\n",
       "      <td>267.024791</td>\n",
       "      <td>245.597424</td>\n",
       "    </tr>\n",
       "    <tr>\n",
       "      <th>2013-10-31</th>\n",
       "      <td>299.533302</td>\n",
       "      <td>274.332936</td>\n",
       "    </tr>\n",
       "    <tr>\n",
       "      <th>2013-11-30</th>\n",
       "      <td>338.082197</td>\n",
       "      <td>306.942424</td>\n",
       "    </tr>\n",
       "    <tr>\n",
       "      <th>2013-12-31</th>\n",
       "      <td>369.381371</td>\n",
       "      <td>337.331504</td>\n",
       "    </tr>\n",
       "    <tr>\n",
       "      <th>2014-01-31</th>\n",
       "      <td>364.225311</td>\n",
       "      <td>331.578243</td>\n",
       "    </tr>\n",
       "  </tbody>\n",
       "</table>\n",
       "</div>"
      ],
      "text/plain": [
       "Tariff Type         Std         ToU\n",
       "Date                               \n",
       "2011-12-31   377.218580  365.145947\n",
       "2012-01-31   401.511261  386.016403\n",
       "2012-02-29   395.065321  368.475150\n",
       "2012-03-31   349.153085  330.900633\n",
       "2012-04-30   314.173857  296.903425\n",
       "2012-05-31   281.666428  263.694338\n",
       "2012-06-30   257.204029  238.417505\n",
       "2012-07-31   260.231952  244.641359\n",
       "2012-08-31   253.939017  238.904097\n",
       "2012-09-30   266.392973  248.707929\n",
       "2012-10-31   318.214026  299.714701\n",
       "2012-11-30   347.818025  326.651435\n",
       "2012-12-31   390.616106  364.754528\n",
       "2013-01-31   398.004581  366.548143\n",
       "2013-02-28   352.189818  325.298845\n",
       "2013-03-31   381.191994  351.371278\n",
       "2013-04-30   307.857771  277.856327\n",
       "2013-05-31   280.762752  256.292247\n",
       "2013-06-30   254.399013  234.481016\n",
       "2013-07-31   252.609890  234.104814\n",
       "2013-08-31   247.046087  231.347310\n",
       "2013-09-30   267.024791  245.597424\n",
       "2013-10-31   299.533302  274.332936\n",
       "2013-11-30   338.082197  306.942424\n",
       "2013-12-31   369.381371  337.331504\n",
       "2014-01-31   364.225311  331.578243"
      ]
     },
     "execution_count": 22,
     "metadata": {},
     "output_type": "execute_result"
    }
   ],
   "source": [
    "monthly_mean_by_tariff_type = daily_mean_by_tariff_type['2011-12-01' : '2014-01-31'].resample('M').sum()\n",
    "monthly_mean_by_tariff_type"
   ]
  },
  {
   "cell_type": "code",
   "execution_count": 23,
   "id": "b4b55a64",
   "metadata": {},
   "outputs": [
    {
     "data": {
      "image/png": "[encoded data removed]",
      "text/plain": [
       "<Figure size 1152x360 with 1 Axes>"
      ]
     },
     "metadata": {},
     "output_type": "display_data"
    }
   ],
   "source": [
    "plt.figure(figsize=(16, 5), facecolor='floralwhite')\n",
    "for tariff in daily_mean_by_tariff_type.columns.to_list():\n",
    "    plt.plot(\n",
    "        monthly_mean_by_tariff_type.index.values,\n",
    "        monthly_mean_by_tariff_type[tariff],\n",
    "        label = tariff\n",
    "    )\n",
    "\n",
    "plt.legend(loc='lower left', frameon=True, facecolor='whitesmoke', framealpha=1, fontsize=14)\n",
    "plt.title(\n",
    "    'Monthly energy consumption by household group',\n",
    "    fontdict = {'fontsize' : 16, 'fontweight' : 'bold'}\n",
    ")\n",
    "plt.xlabel('Month', fontsize = 14)\n",
    "plt.ylabel('kWH', fontsize = 14)\n",
    "\n",
    "# Uncomment for a copy to display in results\n",
    "# plt.savefig(fname='images/result1-no-dupes.png', bbox_inches='tight')\n",
    "\n",
    "plt.show()"
   ]
  },
  {
   "cell_type": "markdown",
   "id": "d19dbbd5",
   "metadata": {},
   "source": [
    "The pattern is much clearer and there is an obvious difference between the two groups of consumers.\n",
    "\n",
    "Note that the chart does not show mean monthly energy consumption, but the sum over each month of the daily means. To calculate true monthly means we would need to drop the daily data for each household where the data was incomplete for a month. Our method should give a reasonable approximation."
   ]
  }
 ],
 "metadata": {
  "kernelspec": {
   "display_name": "Python [conda env:datascience]",
   "language": "python",
   "name": "conda-env-datascience-py"
  },
  "language_info": {
   "codemirror_mode": {
    "name": "ipython",
    "version": 3
   },
   "file_extension": ".py",
   "mimetype": "text/x-python",
   "name": "python",
   "nbconvert_exporter": "python",
   "pygments_lexer": "ipython3",
   "version": "3.9.12"
  }
 },
 "nbformat": 4,
 "nbformat_minor": 5
}
